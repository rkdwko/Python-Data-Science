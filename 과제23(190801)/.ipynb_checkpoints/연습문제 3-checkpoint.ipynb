{
 "cells": [
  {
   "cell_type": "markdown",
   "metadata": {},
   "source": [
    "## 연습문제 3\n",
    "#### 사용자의 이름과, 비밀번호를 갖는 Users 테이블이 있다. 사용자의 이름과 비밀번호를 올바르게 입력하면 ‘성공’을 출력하고, 잘못 입력하면 ‘실패’를 출력하는 프로그램을 작성하시오."
   ]
  },
  {
   "cell_type": "code",
   "execution_count": 75,
   "metadata": {},
   "outputs": [],
   "source": [
    "import numpy as np\n",
    "import pandas as pd\n",
    "import sqlite3"
   ]
  },
  {
   "cell_type": "code",
   "execution_count": 45,
   "metadata": {},
   "outputs": [],
   "source": [
    "conn = sqlite3.connect('./test.db') \n",
    "cur = conn.cursor()"
   ]
  },
  {
   "cell_type": "code",
   "execution_count": 35,
   "metadata": {},
   "outputs": [
    {
     "data": {
      "text/plain": [
       "<sqlite3.Cursor at 0x93062d0>"
      ]
     },
     "execution_count": 35,
     "metadata": {},
     "output_type": "execute_result"
    }
   ],
   "source": [
    "cur.execute('CREATE TABLE IF NOT EXISTS Users \\\n",
    "    (uid TEXT PRIMARY KEY, \\\n",
    "     name TEXT NOT NULL, \\\n",
    "     password TEXT);')"
   ]
  },
  {
   "cell_type": "code",
   "execution_count": 38,
   "metadata": {},
   "outputs": [
    {
     "data": {
      "text/html": [
       "<div>\n",
       "<style scoped>\n",
       "    .dataframe tbody tr th:only-of-type {\n",
       "        vertical-align: middle;\n",
       "    }\n",
       "\n",
       "    .dataframe tbody tr th {\n",
       "        vertical-align: top;\n",
       "    }\n",
       "\n",
       "    .dataframe thead th {\n",
       "        text-align: right;\n",
       "    }\n",
       "</style>\n",
       "<table border=\"1\" class=\"dataframe\">\n",
       "  <thead>\n",
       "    <tr style=\"text-align: right;\">\n",
       "      <th></th>\n",
       "      <th>uid</th>\n",
       "      <th>name</th>\n",
       "      <th>password</th>\n",
       "    </tr>\n",
       "  </thead>\n",
       "  <tbody>\n",
       "    <tr>\n",
       "      <th>0</th>\n",
       "      <td>jhchoi</td>\n",
       "      <td>최진행</td>\n",
       "      <td>1234</td>\n",
       "    </tr>\n",
       "    <tr>\n",
       "      <th>1</th>\n",
       "      <td>tkkim</td>\n",
       "      <td>김태균</td>\n",
       "      <td>1234</td>\n",
       "    </tr>\n",
       "    <tr>\n",
       "      <th>2</th>\n",
       "      <td>kmsong</td>\n",
       "      <td>송광민</td>\n",
       "      <td>1234</td>\n",
       "    </tr>\n",
       "    <tr>\n",
       "      <th>3</th>\n",
       "      <td>sylee</td>\n",
       "      <td>이성열</td>\n",
       "      <td>1234</td>\n",
       "    </tr>\n",
       "    <tr>\n",
       "      <th>4</th>\n",
       "      <td>ewchung</td>\n",
       "      <td>정은원</td>\n",
       "      <td>1234</td>\n",
       "    </tr>\n",
       "  </tbody>\n",
       "</table>\n",
       "</div>"
      ],
      "text/plain": [
       "       uid name password\n",
       "0   jhchoi  최진행     1234\n",
       "1    tkkim  김태균     1234\n",
       "2   kmsong  송광민     1234\n",
       "3    sylee  이성열     1234\n",
       "4  ewchung  정은원     1234"
      ]
     },
     "execution_count": 38,
     "metadata": {},
     "output_type": "execute_result"
    }
   ],
   "source": [
    "users = pd.DataFrame({\n",
    "    'uid': ['jhchoi','tkkim','kmsong','sylee','ewchung'],\n",
    "    'name': ['최진행','김태균','송광민','이성열','정은원'],\n",
    "    'password': ['1234','1234','1234','1234','1234']\n",
    "})\n",
    "users"
   ]
  },
  {
   "cell_type": "code",
   "execution_count": 46,
   "metadata": {},
   "outputs": [],
   "source": [
    "cur = conn.cursor()\n",
    "sql = 'INSERT INTO Users VALUES (?, ?, ?);'\n",
    "for i in range(5):\n",
    "    cur.execute(sql, (users.iloc[i,0],\n",
    "                      users.iloc[i,1],\n",
    "                      users.iloc[i,2]))\n",
    "conn.commit()"
   ]
  },
  {
   "cell_type": "code",
   "execution_count": 83,
   "metadata": {},
   "outputs": [
    {
     "name": "stdout",
     "output_type": "stream",
     "text": [
      "('jhchoi', '최진행', '1234')\n",
      "('tkkim', '김태균', '1234')\n",
      "('kmsong', '송광민', '1234')\n",
      "('sylee', '이성열', '1234')\n",
      "('ewchung', '정은원', '1234')\n"
     ]
    }
   ],
   "source": [
    "cur = conn.cursor()\n",
    "cur.execute(\"SELECT * FROM Users;\")\n",
    "rows = cur.fetchall()\n",
    "for row in rows:\n",
    "    print(row)"
   ]
  },
  {
   "cell_type": "code",
   "execution_count": 84,
   "metadata": {},
   "outputs": [],
   "source": [
    "conn.close()"
   ]
  },
  {
   "cell_type": "code",
   "execution_count": 85,
   "metadata": {},
   "outputs": [],
   "source": [
    "def checkUser(uid, password):\n",
    "    print(uid, password)\n",
    "    conn = sqlite3.connect('./test.db')\n",
    "    cur = conn.cursor()\n",
    "    sql = \"SELECT name, password FROM Users WHERE uid like ?;\"\n",
    "    cur.execute(sql, (uid,))\n",
    "    dbname, dbpassword = cur.fetchone()\n",
    "    print(dbname, dbpassword)\n",
    "\n",
    "    conn.close()"
   ]
  },
  {
   "cell_type": "code",
   "execution_count": 89,
   "metadata": {},
   "outputs": [
    {
     "name": "stdout",
     "output_type": "stream",
     "text": [
      "uid password 입력> tkkim 1234\n",
      "tkkim 1234\n",
      "김태균 1234\n"
     ]
    }
   ],
   "source": [
    "uid, password = input(\"uid password 입력> \").split()\n",
    "checkUser(uid, password)"
   ]
  },
  {
   "cell_type": "markdown",
   "metadata": {},
   "source": [
    "- Exception을 활용하여 구현"
   ]
  },
  {
   "cell_type": "code",
   "execution_count": 90,
   "metadata": {},
   "outputs": [],
   "source": [
    "CHECK_SUCCESS = 0\n",
    "INVALID_UID = 1\n",
    "INCORRECT_PASSWORD = 2\n",
    "DATABASE_ERROR = 3\n",
    "\n",
    "def checkUser(uid, password):\n",
    "    conn = sqlite3.connect('./test.db')\n",
    "    name = ''\n",
    "    try:\n",
    "        cur = conn.cursor()\n",
    "        sql = \"SELECT name, password FROM Users WHERE uid like ?;\"\n",
    "        cur.execute(sql, (uid,))\n",
    "        dbName, dbPassword = cur.fetchone()\n",
    "        if password == dbPassword:\n",
    "            returnCode = CHECK_SUCCESS\n",
    "            name = dbName\n",
    "        else:\n",
    "            returnCode = INCORRECT_PASSWORD\n",
    "    except TypeError as te:\n",
    "        returnCode = INVALID_UID\n",
    "    except Exception as e: \n",
    "        print('예외가 발생했습니다.', e)\n",
    "        returnCode = DATABASE_ERROR\n",
    "    finally:\n",
    "        conn.close()\n",
    "        return returnCode, name"
   ]
  },
  {
   "cell_type": "code",
   "execution_count": 93,
   "metadata": {},
   "outputs": [
    {
     "name": "stdout",
     "output_type": "stream",
     "text": [
      "uid password 입력> tkkim 1234\n",
      "로그인 성공, 사용자 이름 = 김태균\n"
     ]
    }
   ],
   "source": [
    "uid, password = input(\"uid password 입력> \").split()\n",
    "result, name = checkUser(uid, password)\n",
    "if result == CHECK_SUCCESS:\n",
    "    print('로그인 성공, 사용자 이름 =', name)\n",
    "elif result == INVALID_UID:\n",
    "    print('실패 - 잘못된 User ID')\n",
    "elif result == INCORRECT_PASSWORD:\n",
    "    print('실패 - 패스워드 불일치')\n",
    "else:\n",
    "    print('실패 - 데이터베이스 에러')"
   ]
  }
 ],
 "metadata": {
  "kernelspec": {
   "display_name": "Python 3",
   "language": "python",
   "name": "python3"
  },
  "language_info": {
   "codemirror_mode": {
    "name": "ipython",
    "version": 3
   },
   "file_extension": ".py",
   "mimetype": "text/x-python",
   "name": "python",
   "nbconvert_exporter": "python",
   "pygments_lexer": "ipython3",
   "version": "3.7.3"
  }
 },
 "nbformat": 4,
 "nbformat_minor": 2
}

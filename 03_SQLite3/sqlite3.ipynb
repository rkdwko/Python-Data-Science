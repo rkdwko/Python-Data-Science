{
 "cells": [
  {
   "cell_type": "markdown",
   "metadata": {},
   "source": [
    "# SQLite3\n",
    "## 1. 개요\n",
    "#### 1.1 경량 DBMS\n",
    "- 별도의 서버가 필요 없음\n",
    "- 모바일 기기에서 많이 활용되고 있음\n",
    "- 파이썬3에 기본 내장되어 있음\n",
    "- 파일 또는 메모리에 DB 생성\n",
    "- 참고자료: SQLite로 가볍게 배우는 데이터베이스 (WikiDocs)\n",
    "\n",
    "#### 1.2 데이터 타입\n",
    "- 동적 데이터 타입\n",
    "- Null, Integer, Real, Text, Blob 유형이 있음 (Boolean, Date, Time 없음)\n",
    "- 다른 유형 데이터를 삽입해도 컬럼에 맞게 알아서 들어감\n",
    "- 다른 DB에서 사용하는 데이터유형 이름 그대로 사용해도 무방\n",
    "\n",
    "#### 1.3 DBMS 관리 툴\n",
    "- SQLite Expert (http://www.sqliteexpert.com/download.html)\n",
    "- Personal version은 freeware 이므로 사용할 수 있음"
   ]
  },
  {
   "cell_type": "code",
   "execution_count": 1,
   "metadata": {},
   "outputs": [],
   "source": [
    "import sqlite3"
   ]
  },
  {
   "cell_type": "markdown",
   "metadata": {},
   "source": [
    "## 2. 파이썬에서 사용하는 방법\n",
    "- **데이터베이스 접속**"
   ]
  },
  {
   "cell_type": "code",
   "execution_count": 2,
   "metadata": {},
   "outputs": [
    {
     "data": {
      "text/plain": [
       "\"\\nconn = sqlite3.connect(':memory:')    # 메모리 DB 접속(일회성)\\n\""
      ]
     },
     "execution_count": 2,
     "metadata": {},
     "output_type": "execute_result"
    }
   ],
   "source": [
    "conn = sqlite3.connect('./test.db') \n",
    "'''\n",
    "conn = sqlite3.connect(':memory:')    # 메모리 DB 접속(일회성)\n",
    "'''"
   ]
  },
  {
   "cell_type": "markdown",
   "metadata": {},
   "source": [
    "- **테이블 생성**"
   ]
  },
  {
   "cell_type": "code",
   "execution_count": 10,
   "metadata": {},
   "outputs": [
    {
     "data": {
      "text/plain": [
       "<sqlite3.Cursor at 0x4ebdb20>"
      ]
     },
     "execution_count": 10,
     "metadata": {},
     "output_type": "execute_result"
    }
   ],
   "source": [
    "cur = conn.cursor()\n",
    "cur.execute('CREATE TABLE IF NOT EXISTS Eagles \\\n",
    "    (back_no INT NOT NULL, \\\n",
    "     name TEXT, \\\n",
    "     position TEXT, \\\n",
    "     hands TEXT, \\\n",
    "     highschool TEXT, \\\n",
    "     height INT, \\\n",
    "     PRIMARY KEY(back_no));')"
   ]
  },
  {
   "cell_type": "markdown",
   "metadata": {},
   "source": [
    "- **데이터 삽입(insert)**"
   ]
  },
  {
   "cell_type": "code",
   "execution_count": 4,
   "metadata": {
    "scrolled": true
   },
   "outputs": [
    {
     "data": {
      "text/plain": [
       "<sqlite3.Cursor at 0x56dda40>"
      ]
     },
     "execution_count": 4,
     "metadata": {},
     "output_type": "execute_result"
    }
   ],
   "source": [
    "cur = conn.cursor()\n",
    "cur.execute(\"INSERT INTO Eagles VALUES \\\n",
    "    (1, '하주석', '내야수', '우투좌타', '신일고', 184), \\\n",
    "    (28, '양성우', '외야수', '우투좌타', '충암고', 177);\")"
   ]
  },
  {
   "cell_type": "markdown",
   "metadata": {},
   "source": [
    "- **변경사항 저장**"
   ]
  },
  {
   "cell_type": "code",
   "execution_count": 6,
   "metadata": {},
   "outputs": [],
   "source": [
    "conn.commit()"
   ]
  },
  {
   "cell_type": "markdown",
   "metadata": {},
   "source": [
    "- **파일에서 읽어서 데이터베이스에 쓰기**"
   ]
  },
  {
   "cell_type": "code",
   "execution_count": 8,
   "metadata": {},
   "outputs": [
    {
     "data": {
      "text/html": [
       "<div>\n",
       "<style scoped>\n",
       "    .dataframe tbody tr th:only-of-type {\n",
       "        vertical-align: middle;\n",
       "    }\n",
       "\n",
       "    .dataframe tbody tr th {\n",
       "        vertical-align: top;\n",
       "    }\n",
       "\n",
       "    .dataframe thead th {\n",
       "        text-align: right;\n",
       "    }\n",
       "</style>\n",
       "<table border=\"1\" class=\"dataframe\">\n",
       "  <thead>\n",
       "    <tr style=\"text-align: right;\">\n",
       "      <th></th>\n",
       "      <th>back_no</th>\n",
       "      <th>name</th>\n",
       "      <th>position</th>\n",
       "      <th>hands</th>\n",
       "      <th>highschool</th>\n",
       "      <th>height</th>\n",
       "    </tr>\n",
       "  </thead>\n",
       "  <tbody>\n",
       "    <tr>\n",
       "      <th>0</th>\n",
       "      <td>17</td>\n",
       "      <td>'김범수'</td>\n",
       "      <td>'투수'</td>\n",
       "      <td>'좌투좌타'</td>\n",
       "      <td>'천안북일고'</td>\n",
       "      <td>181</td>\n",
       "    </tr>\n",
       "    <tr>\n",
       "      <th>1</th>\n",
       "      <td>38</td>\n",
       "      <td>'안영명'</td>\n",
       "      <td>'투수'</td>\n",
       "      <td>'우투우타'</td>\n",
       "      <td>'천안북일고'</td>\n",
       "      <td>183</td>\n",
       "    </tr>\n",
       "    <tr>\n",
       "      <th>2</th>\n",
       "      <td>36</td>\n",
       "      <td>'장민재'</td>\n",
       "      <td>'투수'</td>\n",
       "      <td>'우투우타'</td>\n",
       "      <td>'광주제일고'</td>\n",
       "      <td>184</td>\n",
       "    </tr>\n",
       "    <tr>\n",
       "      <th>3</th>\n",
       "      <td>13</td>\n",
       "      <td>'최재훈'</td>\n",
       "      <td>'포수'</td>\n",
       "      <td>'우투우타'</td>\n",
       "      <td>'덕수정보고'</td>\n",
       "      <td>178</td>\n",
       "    </tr>\n",
       "    <tr>\n",
       "      <th>4</th>\n",
       "      <td>52</td>\n",
       "      <td>'김태균'</td>\n",
       "      <td>'내야수'</td>\n",
       "      <td>'우투우타'</td>\n",
       "      <td>'천안북일고'</td>\n",
       "      <td>185</td>\n",
       "    </tr>\n",
       "    <tr>\n",
       "      <th>5</th>\n",
       "      <td>7</td>\n",
       "      <td>'송광민'</td>\n",
       "      <td>'내야수'</td>\n",
       "      <td>'우투우타'</td>\n",
       "      <td>'공주고'</td>\n",
       "      <td>184</td>\n",
       "    </tr>\n",
       "    <tr>\n",
       "      <th>6</th>\n",
       "      <td>50</td>\n",
       "      <td>'이성열'</td>\n",
       "      <td>'내야수'</td>\n",
       "      <td>'우투좌타'</td>\n",
       "      <td>'순천효천고'</td>\n",
       "      <td>185</td>\n",
       "    </tr>\n",
       "    <tr>\n",
       "      <th>7</th>\n",
       "      <td>43</td>\n",
       "      <td>'정은원'</td>\n",
       "      <td>'내야수'</td>\n",
       "      <td>'우투좌타'</td>\n",
       "      <td>'인천고'</td>\n",
       "      <td>177</td>\n",
       "    </tr>\n",
       "    <tr>\n",
       "      <th>8</th>\n",
       "      <td>8</td>\n",
       "      <td>'정근우'</td>\n",
       "      <td>'외야수'</td>\n",
       "      <td>'우투우타'</td>\n",
       "      <td>'부산고'</td>\n",
       "      <td>172</td>\n",
       "    </tr>\n",
       "    <tr>\n",
       "      <th>9</th>\n",
       "      <td>25</td>\n",
       "      <td>'최진행'</td>\n",
       "      <td>'외야수'</td>\n",
       "      <td>'우투우타'</td>\n",
       "      <td>'덕수정보고'</td>\n",
       "      <td>188</td>\n",
       "    </tr>\n",
       "  </tbody>\n",
       "</table>\n",
       "</div>"
      ],
      "text/plain": [
       "   back_no   name position   hands highschool  height\n",
       "0       17  '김범수'     '투수'  '좌투좌타'    '천안북일고'     181\n",
       "1       38  '안영명'     '투수'  '우투우타'    '천안북일고'     183\n",
       "2       36  '장민재'     '투수'  '우투우타'    '광주제일고'     184\n",
       "3       13  '최재훈'     '포수'  '우투우타'    '덕수정보고'     178\n",
       "4       52  '김태균'    '내야수'  '우투우타'    '천안북일고'     185\n",
       "5        7  '송광민'    '내야수'  '우투우타'      '공주고'     184\n",
       "6       50  '이성열'    '내야수'  '우투좌타'    '순천효천고'     185\n",
       "7       43  '정은원'    '내야수'  '우투좌타'      '인천고'     177\n",
       "8        8  '정근우'    '외야수'  '우투우타'      '부산고'     172\n",
       "9       25  '최진행'    '외야수'  '우투우타'    '덕수정보고'     188"
      ]
     },
     "execution_count": 8,
     "metadata": {},
     "output_type": "execute_result"
    }
   ],
   "source": [
    "import pandas as pd\n",
    "players = pd.read_csv('./players.csv', encoding='EUC-KR')\n",
    "players"
   ]
  },
  {
   "cell_type": "code",
   "execution_count": 9,
   "metadata": {},
   "outputs": [],
   "source": [
    "cur = conn.cursor()\n",
    "sql = 'INSERT INTO Eagles VALUES (?, ?, ?, ?, ?, ?);'\n",
    "for i in range(10):\n",
    "    cur.execute(sql, (int(players.iloc[i,0]), \n",
    "                      players.iloc[i,1], players.iloc[i,2], \n",
    "                      players.iloc[i,3], players.iloc[i,4], \n",
    "                      int(players.iloc[i,5])))\n",
    "conn.commit()"
   ]
  },
  {
   "cell_type": "markdown",
   "metadata": {},
   "source": [
    "- **데이터 조회**"
   ]
  },
  {
   "cell_type": "code",
   "execution_count": 11,
   "metadata": {},
   "outputs": [
    {
     "name": "stdout",
     "output_type": "stream",
     "text": [
      "(1, '하주석', '내야수', '우투좌타', '신일고', 184)\n",
      "(28, '양성우', '외야수', '우투좌타', '충암고', 177)\n",
      "(17, \"'김범수'\", \"'투수'\", \"'좌투좌타'\", \"'천안북일고'\", 181)\n",
      "(38, \"'안영명'\", \"'투수'\", \"'우투우타'\", \"'천안북일고'\", 183)\n",
      "(36, \"'장민재'\", \"'투수'\", \"'우투우타'\", \"'광주제일고'\", 184)\n",
      "(13, \"'최재훈'\", \"'포수'\", \"'우투우타'\", \"'덕수정보고'\", 178)\n",
      "(52, \"'김태균'\", \"'내야수'\", \"'우투우타'\", \"'천안북일고'\", 185)\n",
      "(7, \"'송광민'\", \"'내야수'\", \"'우투우타'\", \"'공주고'\", 184)\n",
      "(50, \"'이성열'\", \"'내야수'\", \"'우투좌타'\", \"'순천효천고'\", 185)\n",
      "(43, \"'정은원'\", \"'내야수'\", \"'우투좌타'\", \"'인천고'\", 177)\n",
      "(8, \"'정근우'\", \"'외야수'\", \"'우투우타'\", \"'부산고'\", 172)\n",
      "(25, \"'최진행'\", \"'외야수'\", \"'우투우타'\", \"'덕수정보고'\", 188)\n"
     ]
    }
   ],
   "source": [
    "# 순회 조회\n",
    "cur = conn.cursor()\n",
    "cur.execute('SELECT * FROM Eagles')\n",
    "for row in cur:\n",
    "    print(row)"
   ]
  },
  {
   "cell_type": "code",
   "execution_count": 13,
   "metadata": {},
   "outputs": [
    {
     "name": "stdout",
     "output_type": "stream",
     "text": [
      "(1, '하주석', '내야수', '우투좌타', '신일고', 184)\n"
     ]
    }
   ],
   "source": [
    "# 단건 조회\n",
    "cur = conn.cursor()\n",
    "cur.execute('SELECT * FROM Eagles')\n",
    "row = cur.fetchone()\n",
    "print(row)"
   ]
  },
  {
   "cell_type": "code",
   "execution_count": 14,
   "metadata": {},
   "outputs": [
    {
     "name": "stdout",
     "output_type": "stream",
     "text": [
      "(28, '양성우', '외야수', '우투좌타', '충암고', 177)\n",
      "(17, \"'김범수'\", \"'투수'\", \"'좌투좌타'\", \"'천안북일고'\", 181)\n"
     ]
    }
   ],
   "source": [
    "# 다건 조회\n",
    "rows = cur.fetchmany(2)\n",
    "for row in rows:\n",
    "    print(row)"
   ]
  },
  {
   "cell_type": "code",
   "execution_count": 15,
   "metadata": {},
   "outputs": [
    {
     "name": "stdout",
     "output_type": "stream",
     "text": [
      "(38, \"'안영명'\", \"'투수'\", \"'우투우타'\", \"'천안북일고'\", 183)\n",
      "(36, \"'장민재'\", \"'투수'\", \"'우투우타'\", \"'광주제일고'\", 184)\n",
      "(13, \"'최재훈'\", \"'포수'\", \"'우투우타'\", \"'덕수정보고'\", 178)\n",
      "(52, \"'김태균'\", \"'내야수'\", \"'우투우타'\", \"'천안북일고'\", 185)\n",
      "(7, \"'송광민'\", \"'내야수'\", \"'우투우타'\", \"'공주고'\", 184)\n",
      "(50, \"'이성열'\", \"'내야수'\", \"'우투좌타'\", \"'순천효천고'\", 185)\n",
      "(43, \"'정은원'\", \"'내야수'\", \"'우투좌타'\", \"'인천고'\", 177)\n",
      "(8, \"'정근우'\", \"'외야수'\", \"'우투우타'\", \"'부산고'\", 172)\n",
      "(25, \"'최진행'\", \"'외야수'\", \"'우투우타'\", \"'덕수정보고'\", 188)\n"
     ]
    }
   ],
   "source": [
    "# 모두 조회\n",
    "rows = cur.fetchall()\n",
    "for row in rows:\n",
    "    print(row)"
   ]
  },
  {
   "cell_type": "code",
   "execution_count": 16,
   "metadata": {},
   "outputs": [
    {
     "name": "stdout",
     "output_type": "stream",
     "text": [
      "(\"'최재훈'\",)\n",
      "(\"'김범수'\",)\n",
      "(\"'최진행'\",)\n",
      "('양성우',)\n",
      "(\"'장민재'\",)\n",
      "(\"'안영명'\",)\n",
      "(\"'정은원'\",)\n",
      "(\"'이성열'\",)\n",
      "(\"'김태균'\",)\n"
     ]
    }
   ],
   "source": [
    "# 필요한 colum만 조회, 조회 조건도 추가\n",
    "cur = conn.cursor()\n",
    "cur.execute('SELECT name FROM Eagles WHERE back_no > 10')\n",
    "rows = cur.fetchall();\n",
    "for row in rows:\n",
    "    print(row)"
   ]
  },
  {
   "cell_type": "code",
   "execution_count": 19,
   "metadata": {},
   "outputs": [
    {
     "name": "stdout",
     "output_type": "stream",
     "text": [
      "(1, '하주석', '내야수', '우투좌타', '신일고', 184)\n"
     ]
    }
   ],
   "source": [
    "# 원하는 순서 및 개수\n",
    "cur = conn.cursor()\n",
    "cur.execute('SELECT * FROM Eagles ORDER by name DESC')\n",
    "row = cur.fetchone()\n",
    "print(row)"
   ]
  },
  {
   "cell_type": "code",
   "execution_count": 22,
   "metadata": {},
   "outputs": [
    {
     "name": "stdout",
     "output_type": "stream",
     "text": [
      "(\"'최재훈'\",)\n",
      "(\"'김범수'\",)\n",
      "(\"'최진행'\",)\n",
      "('양성우',)\n",
      "(\"'장민재'\",)\n",
      "(\"'안영명'\",)\n",
      "(\"'정은원'\",)\n",
      "(\"'이성열'\",)\n",
      "(\"'김태균'\",)\n"
     ]
    }
   ],
   "source": [
    "# 원하는 순서 및 개수\n",
    "cur = conn.cursor()\n",
    "cur.execute('SELECT * FROM Eagles ORDER BY height DESC LIMIT 5')\n",
    "row = cur.fetchone();\n",
    "for row in rows:\n",
    "    print(row)"
   ]
  },
  {
   "cell_type": "markdown",
   "metadata": {},
   "source": [
    "- **데이터 검색**"
   ]
  },
  {
   "cell_type": "code",
   "execution_count": 24,
   "metadata": {},
   "outputs": [
    {
     "ename": "SyntaxError",
     "evalue": "invalid character in identifier (<ipython-input-24-0bf8a85238ac>, line 3)",
     "output_type": "error",
     "traceback": [
      "\u001b[1;36m  File \u001b[1;32m\"<ipython-input-24-0bf8a85238ac>\"\u001b[1;36m, line \u001b[1;32m3\u001b[0m\n\u001b[1;33m    cur.execute(“SELECT * FROM Eagles WHERE position=‘내야수’;”)\u001b[0m\n\u001b[1;37m                      ^\u001b[0m\n\u001b[1;31mSyntaxError\u001b[0m\u001b[1;31m:\u001b[0m invalid character in identifier\n"
     ]
    }
   ],
   "source": [
    "# 기본 스트링 쿼리\n",
    "cur = conn.cursor()\n",
    "cur.execute(“SELECT * FROM Eagles WHERE position=‘내야수’;”)\n",
    "rows = cur.fetchall();\n",
    "for row in rows:\n",
    " print(row)"
   ]
  },
  {
   "cell_type": "code",
   "execution_count": 25,
   "metadata": {},
   "outputs": [
    {
     "ename": "SyntaxError",
     "evalue": "EOL while scanning string literal (<ipython-input-25-929ac86c5510>, line 4)",
     "output_type": "error",
     "traceback": [
      "\u001b[1;36m  File \u001b[1;32m\"<ipython-input-25-929ac86c5510>\"\u001b[1;36m, line \u001b[1;32m4\u001b[0m\n\u001b[1;33m    cur.execute('SELECT * FROM Eagles WHERE back_no=?;‘, (back_no,))\u001b[0m\n\u001b[1;37m                                                                    ^\u001b[0m\n\u001b[1;31mSyntaxError\u001b[0m\u001b[1;31m:\u001b[0m EOL while scanning string literal\n"
     ]
    }
   ],
   "source": [
    "# Placeholder\n",
    "cur = con.cursor()\n",
    "back_no = 50\n",
    "cur.execute('SELECT * FROM Eagles WHERE back_no=?;‘, (back_no,))\n",
    "player = cur.fetchone()\n",
    "print(player[0]) # 50\n"
   ]
  },
  {
   "cell_type": "code",
   "execution_count": 26,
   "metadata": {},
   "outputs": [
    {
     "ename": "SyntaxError",
     "evalue": "invalid character in identifier (<ipython-input-26-cab0a3dc891c>, line 2)",
     "output_type": "error",
     "traceback": [
      "\u001b[1;36m  File \u001b[1;32m\"<ipython-input-26-cab0a3dc891c>\"\u001b[1;36m, line \u001b[1;32m2\u001b[0m\n\u001b[1;33m    sql = ‘SELECT position, count(*) FROM Eagles GROUP BY position’\u001b[0m\n\u001b[1;37m                ^\u001b[0m\n\u001b[1;31mSyntaxError\u001b[0m\u001b[1;31m:\u001b[0m invalid character in identifier\n"
     ]
    }
   ],
   "source": [
    "# Grouping\n",
    "sql = ‘SELECT position, count(*) FROM Eagles GROUP BY position’\n"
   ]
  },
  {
   "cell_type": "markdown",
   "metadata": {},
   "source": [
    "- **데이터 변경**\n",
    "- UPDATE table SET field1 = value1, ... WHERE 조건:"
   ]
  },
  {
   "cell_type": "code",
   "execution_count": 31,
   "metadata": {},
   "outputs": [
    {
     "ename": "ProgrammingError",
     "evalue": "Cannot operate on a closed database.",
     "output_type": "error",
     "traceback": [
      "\u001b[1;31m---------------------------------------------------------------------------\u001b[0m",
      "\u001b[1;31mProgrammingError\u001b[0m                          Traceback (most recent call last)",
      "\u001b[1;32m<ipython-input-31-3b873966b286>\u001b[0m in \u001b[0;36m<module>\u001b[1;34m\u001b[0m\n\u001b[1;32m----> 1\u001b[1;33m \u001b[0mcur\u001b[0m \u001b[1;33m=\u001b[0m \u001b[0mconn\u001b[0m\u001b[1;33m.\u001b[0m\u001b[0mcursor\u001b[0m\u001b[1;33m(\u001b[0m\u001b[1;33m)\u001b[0m\u001b[1;33m\u001b[0m\u001b[1;33m\u001b[0m\u001b[0m\n\u001b[0m\u001b[0;32m      2\u001b[0m \u001b[0mcur\u001b[0m\u001b[1;33m.\u001b[0m\u001b[0mexecute\u001b[0m\u001b[1;33m(\u001b[0m\u001b[1;34m\"UPDATE Eagles SET hands ='우투좌타', highschool='미쿡고', height=190 WHERE back_no=30;\"\u001b[0m\u001b[1;33m)\u001b[0m\u001b[1;33m\u001b[0m\u001b[1;33m\u001b[0m\u001b[0m\n\u001b[0;32m      3\u001b[0m \u001b[0mconn\u001b[0m\u001b[1;33m.\u001b[0m\u001b[0mcomit\u001b[0m\u001b[1;33m(\u001b[0m\u001b[1;33m)\u001b[0m\u001b[1;33m\u001b[0m\u001b[1;33m\u001b[0m\u001b[0m\n",
      "\u001b[1;31mProgrammingError\u001b[0m: Cannot operate on a closed database."
     ]
    }
   ],
   "source": [
    "cur = conn.cursor()\n",
    "cur.execute(\"UPDATE Eagles SET hands ='우투좌타', highschool='미쿡고', height=190 WHERE back_no=30;\")\n",
    "conn.comit()"
   ]
  },
  {
   "cell_type": "markdown",
   "metadata": {},
   "source": [
    "- **데이터 삭제**\n",
    "- DELETE FROM table WHERE 조건:"
   ]
  },
  {
   "cell_type": "code",
   "execution_count": 29,
   "metadata": {},
   "outputs": [],
   "source": [
    "cur = conn.cursor()\n",
    "cur.execute(\"DELETE FROM Eagles WHERE back_no=1;\")\n",
    "conn.commit()"
   ]
  },
  {
   "cell_type": "code",
   "execution_count": 30,
   "metadata": {},
   "outputs": [],
   "source": [
    "conn.close()"
   ]
  },
  {
   "cell_type": "markdown",
   "metadata": {},
   "source": [
    "## Table Join을 위한 준비"
   ]
  },
  {
   "cell_type": "code",
   "execution_count": null,
   "metadata": {},
   "outputs": [],
   "source": [
    "cur = conn.cursor()\n",
    "cur.execute('CREATE TABLE IF NOT EXISTS Stats \\\n",
    "    (id INT NOT NULL, \\\n",
    "    player TEXT, \\\n",
    "    average REAL, \\\n",
    "    rbi INT, \\\n",
    "    homerun INT, \\\n",
    "    PRIMARY KEY())\n"
   ]
  }
 ],
 "metadata": {
  "kernelspec": {
   "display_name": "Python 3",
   "language": "python",
   "name": "python3"
  },
  "language_info": {
   "codemirror_mode": {
    "name": "ipython",
    "version": 3
   },
   "file_extension": ".py",
   "mimetype": "text/x-python",
   "name": "python",
   "nbconvert_exporter": "python",
   "pygments_lexer": "ipython3",
   "version": "3.7.3"
  }
 },
 "nbformat": 4,
 "nbformat_minor": 2
}

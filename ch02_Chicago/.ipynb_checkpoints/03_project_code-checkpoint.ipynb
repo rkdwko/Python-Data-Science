{
 "cells": [
  {
   "cell_type": "markdown",
   "metadata": {},
   "source": [
    "# 3장. 시카고 샌드위치 맛집 분석\n",
    "## 3-1 웹 데이터를 가져오는 Beautiful Soup 익히기"
   ]
  },
  {
   "cell_type": "code",
   "execution_count": 35,
   "metadata": {},
   "outputs": [],
   "source": [
    "from bs4 import BeautifulSoup"
   ]
  },
  {
   "cell_type": "code",
   "execution_count": 36,
   "metadata": {},
   "outputs": [
    {
     "name": "stdout",
     "output_type": "stream",
     "text": [
      "<!DOCTYPE html>\n",
      "<html>\n",
      " <head>\n",
      "  <title>\n",
      "   Very Simple HTML Code by PinkWink\n",
      "  </title>\n",
      " </head>\n",
      " <body>\n",
      "  <div>\n",
      "   <p class=\"inner-text first-item\" id=\"first\">\n",
      "    Happy PinkWink.\n",
      "    <a href=\"http://www.pinkwink.kr\" id=\"pw-link\">\n",
      "     PinkWink\n",
      "    </a>\n",
      "   </p>\n",
      "   <p class=\"inner-text second-item\">\n",
      "    Happy Data Science.\n",
      "    <a href=\"https://www.python.org\" id=\"py-link\">\n",
      "     Python\n",
      "    </a>\n",
      "   </p>\n",
      "  </div>\n",
      "  <p class=\"outer-text first-item\" id=\"second\">\n",
      "   <b>\n",
      "    Data Science is funny.\n",
      "   </b>\n",
      "  </p>\n",
      "  <p class=\"outer-text\">\n",
      "   <b>\n",
      "    All I need is Love.\n",
      "   </b>\n",
      "  </p>\n",
      " </body>\n",
      "</html>\n"
     ]
    }
   ],
   "source": [
    "page = open(\"data/03. test_first.html\",'r').read()\n",
    "soup = BeautifulSoup(page, 'html.parser')\n",
    "print(soup.prettify())"
   ]
  },
  {
   "cell_type": "code",
   "execution_count": 37,
   "metadata": {},
   "outputs": [
    {
     "data": {
      "text/plain": [
       "['html', '\\n', <html>\n",
       " <head>\n",
       " <title>Very Simple HTML Code by PinkWink</title>\n",
       " </head>\n",
       " <body>\n",
       " <div>\n",
       " <p class=\"inner-text first-item\" id=\"first\">\n",
       "                 Happy PinkWink.\n",
       "                 <a href=\"http://www.pinkwink.kr\" id=\"pw-link\">PinkWink</a>\n",
       " </p>\n",
       " <p class=\"inner-text second-item\">\n",
       "                 Happy Data Science.\n",
       "                 <a href=\"https://www.python.org\" id=\"py-link\">Python</a>\n",
       " </p>\n",
       " </div>\n",
       " <p class=\"outer-text first-item\" id=\"second\">\n",
       " <b>\n",
       "                 Data Science is funny.\n",
       "             </b>\n",
       " </p>\n",
       " <p class=\"outer-text\">\n",
       " <b>\n",
       "                 All I need is Love.\n",
       "             </b>\n",
       " </p>\n",
       " </body>\n",
       " </html>]"
      ]
     },
     "execution_count": 37,
     "metadata": {},
     "output_type": "execute_result"
    }
   ],
   "source": [
    "list(soup.children)"
   ]
  },
  {
   "cell_type": "code",
   "execution_count": 38,
   "metadata": {},
   "outputs": [
    {
     "data": {
      "text/plain": [
       "('html', '\\n')"
      ]
     },
     "execution_count": 38,
     "metadata": {},
     "output_type": "execute_result"
    }
   ],
   "source": [
    "list(soup.children)[0], list(soup.children)[1]"
   ]
  },
  {
   "cell_type": "code",
   "execution_count": 39,
   "metadata": {},
   "outputs": [
    {
     "data": {
      "text/plain": [
       "<html>\n",
       "<head>\n",
       "<title>Very Simple HTML Code by PinkWink</title>\n",
       "</head>\n",
       "<body>\n",
       "<div>\n",
       "<p class=\"inner-text first-item\" id=\"first\">\n",
       "                Happy PinkWink.\n",
       "                <a href=\"http://www.pinkwink.kr\" id=\"pw-link\">PinkWink</a>\n",
       "</p>\n",
       "<p class=\"inner-text second-item\">\n",
       "                Happy Data Science.\n",
       "                <a href=\"https://www.python.org\" id=\"py-link\">Python</a>\n",
       "</p>\n",
       "</div>\n",
       "<p class=\"outer-text first-item\" id=\"second\">\n",
       "<b>\n",
       "                Data Science is funny.\n",
       "            </b>\n",
       "</p>\n",
       "<p class=\"outer-text\">\n",
       "<b>\n",
       "                All I need is Love.\n",
       "            </b>\n",
       "</p>\n",
       "</body>\n",
       "</html>"
      ]
     },
     "execution_count": 39,
     "metadata": {},
     "output_type": "execute_result"
    }
   ],
   "source": [
    "html = list(soup.children)[2]\n",
    "html"
   ]
  },
  {
   "cell_type": "code",
   "execution_count": 40,
   "metadata": {},
   "outputs": [
    {
     "data": {
      "text/plain": [
       "['\\n', <head>\n",
       " <title>Very Simple HTML Code by PinkWink</title>\n",
       " </head>, '\\n', <body>\n",
       " <div>\n",
       " <p class=\"inner-text first-item\" id=\"first\">\n",
       "                 Happy PinkWink.\n",
       "                 <a href=\"http://www.pinkwink.kr\" id=\"pw-link\">PinkWink</a>\n",
       " </p>\n",
       " <p class=\"inner-text second-item\">\n",
       "                 Happy Data Science.\n",
       "                 <a href=\"https://www.python.org\" id=\"py-link\">Python</a>\n",
       " </p>\n",
       " </div>\n",
       " <p class=\"outer-text first-item\" id=\"second\">\n",
       " <b>\n",
       "                 Data Science is funny.\n",
       "             </b>\n",
       " </p>\n",
       " <p class=\"outer-text\">\n",
       " <b>\n",
       "                 All I need is Love.\n",
       "             </b>\n",
       " </p>\n",
       " </body>, '\\n']"
      ]
     },
     "execution_count": 40,
     "metadata": {},
     "output_type": "execute_result"
    }
   ],
   "source": [
    "list(html.children)"
   ]
  },
  {
   "cell_type": "code",
   "execution_count": 41,
   "metadata": {},
   "outputs": [
    {
     "data": {
      "text/plain": [
       "<body>\n",
       "<div>\n",
       "<p class=\"inner-text first-item\" id=\"first\">\n",
       "                Happy PinkWink.\n",
       "                <a href=\"http://www.pinkwink.kr\" id=\"pw-link\">PinkWink</a>\n",
       "</p>\n",
       "<p class=\"inner-text second-item\">\n",
       "                Happy Data Science.\n",
       "                <a href=\"https://www.python.org\" id=\"py-link\">Python</a>\n",
       "</p>\n",
       "</div>\n",
       "<p class=\"outer-text first-item\" id=\"second\">\n",
       "<b>\n",
       "                Data Science is funny.\n",
       "            </b>\n",
       "</p>\n",
       "<p class=\"outer-text\">\n",
       "<b>\n",
       "                All I need is Love.\n",
       "            </b>\n",
       "</p>\n",
       "</body>"
      ]
     },
     "execution_count": 41,
     "metadata": {},
     "output_type": "execute_result"
    }
   ],
   "source": [
    "body = list(html.children)[3]\n",
    "body"
   ]
  },
  {
   "cell_type": "code",
   "execution_count": 42,
   "metadata": {},
   "outputs": [
    {
     "data": {
      "text/plain": [
       "<body>\n",
       "<div>\n",
       "<p class=\"inner-text first-item\" id=\"first\">\n",
       "                Happy PinkWink.\n",
       "                <a href=\"http://www.pinkwink.kr\" id=\"pw-link\">PinkWink</a>\n",
       "</p>\n",
       "<p class=\"inner-text second-item\">\n",
       "                Happy Data Science.\n",
       "                <a href=\"https://www.python.org\" id=\"py-link\">Python</a>\n",
       "</p>\n",
       "</div>\n",
       "<p class=\"outer-text first-item\" id=\"second\">\n",
       "<b>\n",
       "                Data Science is funny.\n",
       "            </b>\n",
       "</p>\n",
       "<p class=\"outer-text\">\n",
       "<b>\n",
       "                All I need is Love.\n",
       "            </b>\n",
       "</p>\n",
       "</body>"
      ]
     },
     "execution_count": 42,
     "metadata": {},
     "output_type": "execute_result"
    }
   ],
   "source": [
    "soup.body"
   ]
  },
  {
   "cell_type": "code",
   "execution_count": 43,
   "metadata": {},
   "outputs": [
    {
     "data": {
      "text/plain": [
       "['\\n', <div>\n",
       " <p class=\"inner-text first-item\" id=\"first\">\n",
       "                 Happy PinkWink.\n",
       "                 <a href=\"http://www.pinkwink.kr\" id=\"pw-link\">PinkWink</a>\n",
       " </p>\n",
       " <p class=\"inner-text second-item\">\n",
       "                 Happy Data Science.\n",
       "                 <a href=\"https://www.python.org\" id=\"py-link\">Python</a>\n",
       " </p>\n",
       " </div>, '\\n', <p class=\"outer-text first-item\" id=\"second\">\n",
       " <b>\n",
       "                 Data Science is funny.\n",
       "             </b>\n",
       " </p>, '\\n', <p class=\"outer-text\">\n",
       " <b>\n",
       "                 All I need is Love.\n",
       "             </b>\n",
       " </p>, '\\n']"
      ]
     },
     "execution_count": 43,
     "metadata": {},
     "output_type": "execute_result"
    }
   ],
   "source": [
    "list(body.children)"
   ]
  },
  {
   "cell_type": "code",
   "execution_count": 44,
   "metadata": {},
   "outputs": [
    {
     "data": {
      "text/plain": [
       "7"
      ]
     },
     "execution_count": 44,
     "metadata": {},
     "output_type": "execute_result"
    }
   ],
   "source": [
    "len(list(body.children))"
   ]
  },
  {
   "cell_type": "code",
   "execution_count": 45,
   "metadata": {},
   "outputs": [
    {
     "data": {
      "text/plain": [
       "[<p class=\"inner-text first-item\" id=\"first\">\n",
       "                 Happy PinkWink.\n",
       "                 <a href=\"http://www.pinkwink.kr\" id=\"pw-link\">PinkWink</a>\n",
       " </p>, <p class=\"inner-text second-item\">\n",
       "                 Happy Data Science.\n",
       "                 <a href=\"https://www.python.org\" id=\"py-link\">Python</a>\n",
       " </p>, <p class=\"outer-text first-item\" id=\"second\">\n",
       " <b>\n",
       "                 Data Science is funny.\n",
       "             </b>\n",
       " </p>, <p class=\"outer-text\">\n",
       " <b>\n",
       "                 All I need is Love.\n",
       "             </b>\n",
       " </p>]"
      ]
     },
     "execution_count": 45,
     "metadata": {},
     "output_type": "execute_result"
    }
   ],
   "source": [
    "soup.find_all('p')"
   ]
  },
  {
   "cell_type": "code",
   "execution_count": 46,
   "metadata": {},
   "outputs": [
    {
     "data": {
      "text/plain": [
       "<p class=\"inner-text first-item\" id=\"first\">\n",
       "                Happy PinkWink.\n",
       "                <a href=\"http://www.pinkwink.kr\" id=\"pw-link\">PinkWink</a>\n",
       "</p>"
      ]
     },
     "execution_count": 46,
     "metadata": {},
     "output_type": "execute_result"
    }
   ],
   "source": [
    "soup.find('p')"
   ]
  },
  {
   "cell_type": "code",
   "execution_count": 47,
   "metadata": {},
   "outputs": [
    {
     "data": {
      "text/plain": [
       "[<p class=\"outer-text first-item\" id=\"second\">\n",
       " <b>\n",
       "                 Data Science is funny.\n",
       "             </b>\n",
       " </p>, <p class=\"outer-text\">\n",
       " <b>\n",
       "                 All I need is Love.\n",
       "             </b>\n",
       " </p>]"
      ]
     },
     "execution_count": 47,
     "metadata": {},
     "output_type": "execute_result"
    }
   ],
   "source": [
    "# <p> 태그 중에서 클래스가 'outer-text'인 것을 모두 다 찾아라.\n",
    "soup.find_all('p', class_='outer-text')"
   ]
  },
  {
   "cell_type": "code",
   "execution_count": 48,
   "metadata": {},
   "outputs": [
    {
     "data": {
      "text/plain": [
       "[<p class=\"outer-text first-item\" id=\"second\">\n",
       " <b>\n",
       "                 Data Science is funny.\n",
       "             </b>\n",
       " </p>, <p class=\"outer-text\">\n",
       " <b>\n",
       "                 All I need is Love.\n",
       "             </b>\n",
       " </p>]"
      ]
     },
     "execution_count": 48,
     "metadata": {},
     "output_type": "execute_result"
    }
   ],
   "source": [
    "soup.find_all(class_=\"outer-text\")"
   ]
  },
  {
   "cell_type": "code",
   "execution_count": 49,
   "metadata": {},
   "outputs": [
    {
     "data": {
      "text/plain": [
       "[<p class=\"inner-text first-item\" id=\"first\">\n",
       "                 Happy PinkWink.\n",
       "                 <a href=\"http://www.pinkwink.kr\" id=\"pw-link\">PinkWink</a>\n",
       " </p>]"
      ]
     },
     "execution_count": 49,
     "metadata": {},
     "output_type": "execute_result"
    }
   ],
   "source": [
    "soup.find_all(id=\"first\")"
   ]
  },
  {
   "cell_type": "code",
   "execution_count": 50,
   "metadata": {},
   "outputs": [
    {
     "data": {
      "text/plain": [
       "[<p class=\"inner-text first-item\" id=\"first\">\n",
       "                 Happy PinkWink.\n",
       "                 <a href=\"http://www.pinkwink.kr\" id=\"pw-link\">PinkWink</a>\n",
       " </p>, <p class=\"inner-text second-item\">\n",
       "                 Happy Data Science.\n",
       "                 <a href=\"https://www.python.org\" id=\"py-link\">Python</a>\n",
       " </p>]"
      ]
     },
     "execution_count": 50,
     "metadata": {},
     "output_type": "execute_result"
    }
   ],
   "source": [
    "soup.find_all(class_=\"inner-text\")"
   ]
  },
  {
   "cell_type": "code",
   "execution_count": 51,
   "metadata": {},
   "outputs": [
    {
     "data": {
      "text/plain": [
       "[<p class=\"inner-text second-item\">\n",
       "                 Happy Data Science.\n",
       "                 <a href=\"https://www.python.org\" id=\"py-link\">Python</a>\n",
       " </p>]"
      ]
     },
     "execution_count": 51,
     "metadata": {},
     "output_type": "execute_result"
    }
   ],
   "source": [
    "soup.find_all(class_=\"inner-text second-item\")"
   ]
  },
  {
   "cell_type": "code",
   "execution_count": 52,
   "metadata": {},
   "outputs": [
    {
     "data": {
      "text/plain": [
       "<head>\n",
       "<title>Very Simple HTML Code by PinkWink</title>\n",
       "</head>"
      ]
     },
     "execution_count": 52,
     "metadata": {},
     "output_type": "execute_result"
    }
   ],
   "source": [
    "soup.head"
   ]
  },
  {
   "cell_type": "code",
   "execution_count": 53,
   "metadata": {},
   "outputs": [
    {
     "data": {
      "text/plain": [
       "'\\n'"
      ]
     },
     "execution_count": 53,
     "metadata": {},
     "output_type": "execute_result"
    }
   ],
   "source": [
    "soup.head.next_sibling"
   ]
  },
  {
   "cell_type": "code",
   "execution_count": 54,
   "metadata": {},
   "outputs": [
    {
     "data": {
      "text/plain": [
       "<body>\n",
       "<div>\n",
       "<p class=\"inner-text first-item\" id=\"first\">\n",
       "                Happy PinkWink.\n",
       "                <a href=\"http://www.pinkwink.kr\" id=\"pw-link\">PinkWink</a>\n",
       "</p>\n",
       "<p class=\"inner-text second-item\">\n",
       "                Happy Data Science.\n",
       "                <a href=\"https://www.python.org\" id=\"py-link\">Python</a>\n",
       "</p>\n",
       "</div>\n",
       "<p class=\"outer-text first-item\" id=\"second\">\n",
       "<b>\n",
       "                Data Science is funny.\n",
       "            </b>\n",
       "</p>\n",
       "<p class=\"outer-text\">\n",
       "<b>\n",
       "                All I need is Love.\n",
       "            </b>\n",
       "</p>\n",
       "</body>"
      ]
     },
     "execution_count": 54,
     "metadata": {},
     "output_type": "execute_result"
    }
   ],
   "source": [
    "soup.head.next_sibling.next_sibling"
   ]
  },
  {
   "cell_type": "code",
   "execution_count": 55,
   "metadata": {},
   "outputs": [
    {
     "data": {
      "text/plain": [
       "<p class=\"inner-text first-item\" id=\"first\">\n",
       "                Happy PinkWink.\n",
       "                <a href=\"http://www.pinkwink.kr\" id=\"pw-link\">PinkWink</a>\n",
       "</p>"
      ]
     },
     "execution_count": 55,
     "metadata": {},
     "output_type": "execute_result"
    }
   ],
   "source": [
    "body.p"
   ]
  },
  {
   "cell_type": "code",
   "execution_count": 56,
   "metadata": {},
   "outputs": [
    {
     "data": {
      "text/plain": [
       "'\\n'"
      ]
     },
     "execution_count": 56,
     "metadata": {},
     "output_type": "execute_result"
    }
   ],
   "source": [
    "body.p.next_sibling"
   ]
  },
  {
   "cell_type": "code",
   "execution_count": 57,
   "metadata": {},
   "outputs": [
    {
     "data": {
      "text/plain": [
       "<p class=\"inner-text second-item\">\n",
       "                Happy Data Science.\n",
       "                <a href=\"https://www.python.org\" id=\"py-link\">Python</a>\n",
       "</p>"
      ]
     },
     "execution_count": 57,
     "metadata": {},
     "output_type": "execute_result"
    }
   ],
   "source": [
    "body.p.next_sibling.next_sibling"
   ]
  },
  {
   "cell_type": "code",
   "execution_count": 58,
   "metadata": {},
   "outputs": [
    {
     "name": "stdout",
     "output_type": "stream",
     "text": [
      "\n",
      "                Happy PinkWink.\n",
      "                PinkWink\n",
      "\n",
      "\n",
      "                Happy Data Science.\n",
      "                Python\n",
      "\n",
      "\n",
      "\n",
      "                Data Science is funny.\n",
      "            \n",
      "\n",
      "\n",
      "\n",
      "                All I need is Love.\n",
      "            \n",
      "\n"
     ]
    }
   ],
   "source": [
    "for each_tag in soup.find_all('p'):\n",
    "    print(each_tag.get_text())"
   ]
  },
  {
   "cell_type": "code",
   "execution_count": 59,
   "metadata": {},
   "outputs": [
    {
     "data": {
      "text/plain": [
       "'\\n\\n\\n                Happy PinkWink.\\n                PinkWink\\n\\n\\n                Happy Data Science.\\n                Python\\n\\n\\n\\n\\n                Data Science is funny.\\n            \\n\\n\\n\\n                All I need is Love.\\n            \\n\\n'"
      ]
     },
     "execution_count": 59,
     "metadata": {},
     "output_type": "execute_result"
    }
   ],
   "source": [
    "body.get_text()"
   ]
  },
  {
   "cell_type": "code",
   "execution_count": 60,
   "metadata": {},
   "outputs": [
    {
     "data": {
      "text/plain": [
       "[<a href=\"http://www.pinkwink.kr\" id=\"pw-link\">PinkWink</a>,\n",
       " <a href=\"https://www.python.org\" id=\"py-link\">Python</a>]"
      ]
     },
     "execution_count": 60,
     "metadata": {},
     "output_type": "execute_result"
    }
   ],
   "source": [
    "links = soup.find_all('a')\n",
    "links"
   ]
  },
  {
   "cell_type": "code",
   "execution_count": 61,
   "metadata": {},
   "outputs": [
    {
     "name": "stdout",
     "output_type": "stream",
     "text": [
      "PinkWink -> http://www.pinkwink.kr\n",
      "Python -> https://www.python.org\n"
     ]
    }
   ],
   "source": [
    "for each in links:\n",
    "    href = each['href']\n",
    "    text = each.string\n",
    "    print(text + ' -> ' + href)"
   ]
  },
  {
   "cell_type": "code",
   "execution_count": 62,
   "metadata": {},
   "outputs": [
    {
     "data": {
      "text/plain": [
       "'http://www.pinkwink.kr'"
      ]
     },
     "execution_count": 62,
     "metadata": {},
     "output_type": "execute_result"
    }
   ],
   "source": [
    "links[0]['href']"
   ]
  },
  {
   "cell_type": "code",
   "execution_count": 63,
   "metadata": {},
   "outputs": [
    {
     "data": {
      "text/plain": [
       "'PinkWink'"
      ]
     },
     "execution_count": 63,
     "metadata": {},
     "output_type": "execute_result"
    }
   ],
   "source": [
    "links[0].string"
   ]
  },
  {
   "cell_type": "markdown",
   "metadata": {},
   "source": [
    "## 3-2 크롬 개발자 도구를 이용해서 원하는 태그 찾기"
   ]
  },
  {
   "cell_type": "code",
   "execution_count": 64,
   "metadata": {},
   "outputs": [],
   "source": [
    "from urllib.request import urlopen"
   ]
  },
  {
   "cell_type": "code",
   "execution_count": 65,
   "metadata": {},
   "outputs": [],
   "source": [
    "url = \"https://finance.naver.com/marketindex/\"\n",
    "page = urlopen(url)\n",
    "\n",
    "soup = BeautifulSoup(page, \"html.parser\")"
   ]
  },
  {
   "cell_type": "code",
   "execution_count": 66,
   "metadata": {},
   "outputs": [
    {
     "data": {
      "text/plain": [
       "[<span class=\"value\">1,214.80</span>,\n",
       " <span class=\"value\">1,144.26</span>,\n",
       " <span class=\"value\">1,348.31</span>,\n",
       " <span class=\"value\">172.22</span>,\n",
       " <span class=\"value\">106.1500</span>,\n",
       " <span class=\"value\">1.1107</span>,\n",
       " <span class=\"value\">1.2110</span>,\n",
       " <span class=\"value\">98.0000</span>,\n",
       " <span class=\"value\">54.47</span>,\n",
       " <span class=\"value\">1493.4</span>,\n",
       " <span class=\"value\">1519.6</span>,\n",
       " <span class=\"value\">59459.84</span>]"
      ]
     },
     "execution_count": 66,
     "metadata": {},
     "output_type": "execute_result"
    }
   ],
   "source": [
    "soup.find_all('span', 'value')"
   ]
  },
  {
   "cell_type": "code",
   "execution_count": 67,
   "metadata": {},
   "outputs": [
    {
     "data": {
      "text/plain": [
       "'1,214.80'"
      ]
     },
     "execution_count": 67,
     "metadata": {},
     "output_type": "execute_result"
    }
   ],
   "source": [
    "soup.find_all('span', 'value')[0].string"
   ]
  },
  {
   "cell_type": "markdown",
   "metadata": {},
   "source": [
    "## 3-3"
   ]
  },
  {
   "cell_type": "code",
   "execution_count": 2,
   "metadata": {},
   "outputs": [],
   "source": [
    "url_base = 'http://www.chicagomag.com'\n",
    "url_sub = '/Chicago-Magazine/November-2012/Best-Sandwiches-Chicago/'\n",
    "url = url_base + url_sub\n",
    "\n",
    "html = urlopen(url)\n",
    "soup = BeautifulSoup(html, \"html.parser\")"
   ]
  },
  {
   "cell_type": "code",
   "execution_count": 3,
   "metadata": {},
   "outputs": [
    {
     "name": "stdout",
     "output_type": "stream",
     "text": [
      "[<div class=\"sammy\" style=\"position: relative;\">\n",
      "<div class=\"sammyRank\">1</div>\n",
      "<div class=\"sammyListing\"><a href=\"/Chicago-Magazine/November-2012/Best-Sandwiches-in-Chicago-Old-Oak-Tap-BLT/\"><b>BLT</b><br>\r\n",
      "Old Oak Tap<br>\n",
      "<em>Read more</em> </br></br></a></div>\n",
      "</div>, <div class=\"sammy\" style=\"position: relative;\">\n",
      "<div class=\"sammyRank\">2</div>\n",
      "<div class=\"sammyListing\"><a href=\"/Chicago-Magazine/November-2012/Best-Sandwiches-in-Chicago-Au-Cheval-Fried-Bologna/\"><b>Fried Bologna</b><br/>\r\n",
      "Au Cheval<br/>\n",
      "<em>Read more</em> </a></div>\n",
      "</div>, <div class=\"sammy\" style=\"position: relative;\">\n",
      "<div class=\"sammyRank\">3</div>\n",
      "<div class=\"sammyListing\"><a href=\"/Chicago-Magazine/November-2012/Best-Sandwiches-in-Chicago-Xoco-Woodland-Mushroom/\"><b>Woodland Mushroom</b><br/>\r\n",
      "Xoco<br/>\n",
      "<em>Read more</em> </a></div>\n",
      "</div>, <div class=\"sammy\" style=\"position: relative;\">\n",
      "<div class=\"sammyRank\">4</div>\n",
      "<div class=\"sammyListing\"><a href=\"/Chicago-Magazine/November-2012/Best-Sandwiches-in-Chicago-Als-Deli-Roast-Beef/\"><b>Roast Beef</b><br/>\r\n",
      "Al’s Deli<br/>\n",
      "<em>Read more</em> </a></div>\n",
      "</div>, <div class=\"sammy\" style=\"position: relative;\">\n",
      "<div class=\"sammyRank\">5</div>\n",
      "<div class=\"sammyListing\"><a href=\"/Chicago-Magazine/November-2012/Best-Sandwiches-in-Chicago-Publican-Quality-Meats-PB-L/\"><b>PB&amp;L</b><br/>\r\n",
      "Publican Quality Meats<br/>\n",
      "<em>Read more</em> </a></div>\n",
      "</div>, <div class=\"sammy\" style=\"position: relative;\">\n",
      "<div class=\"sammyRank\">6</div>\n",
      "<div class=\"sammyListing\"><a href=\"http://www.chicagomag.com/Chicago-Magazine/November-2012/Best-Sandwiches-in-Chicago-Hendrickx-Belgian-Bread-Crafter-Belgian-Chicken-Curry-Salad/\"><b>Belgian Chicken Curry Salad</b><br/>\r\n",
      "Hendrickx Belgian Bread Crafter<br/>\n",
      "<em>Read more</em> </a></div>\n",
      "</div>, <div class=\"sammy\" style=\"position: relative;\">\n",
      "<div class=\"sammyRank\">7</div>\n",
      "<div class=\"sammyListing\"><a href=\"/Chicago-Magazine/November-2012/Best-Sandwiches-in-Chicago-Acadia-Lobster-Roll/\"><b>Lobster Roll</b><br/>\r\n",
      "Acadia<br/>\n",
      "<em>Read more</em> </a></div>\n",
      "</div>, <div class=\"sammy\" style=\"position: relative;\">\n",
      "<div class=\"sammyRank\">8</div>\n",
      "<div class=\"sammyListing\"><a href=\"/Chicago-Magazine/November-2012/Best-Sandwiches-in-Chicago-Birchwood-Kitchen-Smoked-Salmon-Salad/\"><b>Smoked Salmon Salad</b><br/>\r\n",
      "Birchwood Kitchen<br/>\n",
      "<em>Read more</em> </a></div>\n",
      "</div>, <div class=\"sammy\" style=\"position: relative;\">\n",
      "<div class=\"sammyRank\">9</div>\n",
      "<div class=\"sammyListing\"><a href=\"/Chicago-Magazine/November-2012/Best-Sandwiches-in-Chicago-Cemitas-Puebla-Atomica-Cemitas/\"><b>Atomica Cemitas</b><br/>\r\n",
      "Cemitas Puebla<br/>\n",
      "<em>Read more</em> </a></div>\n",
      "</div>, <div class=\"sammy\" style=\"position: relative;\">\n",
      "<div class=\"sammyRank\">10</div>\n",
      "<div class=\"sammyListing\"><a href=\"/Chicago-Magazine/November-2012/Best-Sandwiches-in-Chicago-Nana-Grilled-Laughing-Bird-Shrimp-and-Fried-Oyster-Po-Boy/\"><b>Grilled Laughing Bird Shrimp and Fried Po’ Boy</b><br/>\r\n",
      "Nana<br/>\n",
      "<em>Read more</em> </a></div>\n",
      "</div>, <div class=\"sammy\" style=\"position: relative;\">\n",
      "<div class=\"sammyRank\">11</div>\n",
      "<div class=\"sammyListing\"><a href=\"http://www.chicagomag.com/Chicago-Magazine/November-2012/Best-Sandwiches-in-Chicago-Lula-Cafe-Ham-and-Raclette-Panino/\"><b>Ham and Raclette Panino</b><br/>\r\n",
      "Lula Cafe<br/>\n",
      "<em>Read more</em> </a></div>\n",
      "</div>, <div class=\"sammy\" style=\"position: relative;\">\n",
      "<div class=\"sammyRank\">12</div>\n",
      "<div class=\"sammyListing\"><a href=\"http://www.chicagomag.com/Chicago-Magazine/November-2012/Best-Sandwiches-in-Chicago-Ricobenes-Breaded-Steak/\"><b>Breaded Steak</b><br/>\r\n",
      "Ricobene’s<br/>\n",
      "<em>Read more</em> </a></div>\n",
      "</div>, <div class=\"sammy\" style=\"position: relative;\">\n",
      "<div class=\"sammyRank\">13</div>\n",
      "<div class=\"sammyListing\"><a href=\"http://www.chicagomag.com/Chicago-Magazine/November-2012/Best-Sandwiches-in-Chicago-Frog-n-Snail-The-Hawkeye/\"><b>The Hawkeye</b><br/>\r\n",
      "Frog n Snail<br/>\n",
      "<em>Read more</em> </a></div>\n",
      "</div>, <div class=\"sammy\" style=\"position: relative;\">\n",
      "<div class=\"sammyRank\">14</div>\n",
      "<div class=\"sammyListing\"><a href=\"http://www.chicagomag.com/Chicago-Magazine/November-2012/Best-Sandwiches-in-Chicago-Crosbys-Kitchen-Chicken-Dip/\"><b>Chicken Dip</b><br/>\r\n",
      "Crosby’s Kitchen<br/>\n",
      "<em>Read more</em> </a></div>\n",
      "</div>, <div class=\"sammy\" style=\"position: relative;\">\n",
      "<div class=\"sammyRank\">15</div>\n",
      "<div class=\"sammyListing\"><a href=\"http://www.chicagomag.com/Chicago-Magazine/November-2012/Best-Sandwiches-in-Chicago-Longman-and-Eagle-Wild-Boar-Sloppy-Joe/\"><b>Wild Boar Sloppy Joe</b><br/>\r\n",
      "Longman &amp; Eagle<br/>\n",
      "<em>Read more</em> </a></div>\n",
      "</div>, <div class=\"sammy\" style=\"position: relative;\">\n",
      "<div class=\"sammyRank\">16</div>\n",
      "<div class=\"sammyListing\"><a href=\"http://www.chicagomag.com/Chicago-Magazine/November-2012/Best-Sandwiches-in-Chicago-Bari-Meatball-Sub/\"><b>Meatball Sub</b><br/>\r\n",
      "Bari<br/>\n",
      "<em>Read more</em> </a></div>\n",
      "</div>, <div class=\"sammy\" style=\"position: relative;\">\n",
      "<div class=\"sammyRank\">17</div>\n",
      "<div class=\"sammyListing\"><a href=\"http://www.chicagomag.com/Chicago-Magazine/November-2012/Best-Sandwiches-in-Chicago-Mannys-Corned-Beef/\"><b>Corned Beef</b><br/>\r\n",
      "Manny’s<br/>\n",
      "<em>Read more</em> </a></div>\n",
      "</div>, <div class=\"sammy\" style=\"position: relative;\">\n",
      "<div class=\"sammyRank\">18</div>\n",
      "<div class=\"sammyListing\"><a href=\"http://www.chicagomag.com/Chicago-Magazine/November-2012/Best-Sandwiches-in-Chicago-Eggys-Turkey-Club/\"><b>Turkey Club</b><br/>\r\n",
      "Eggy’s<br/>\n",
      "<em>Read more</em> </a></div>\n",
      "</div>, <div class=\"sammy\" style=\"position: relative;\">\n",
      "<div class=\"sammyRank\">19</div>\n",
      "<div class=\"sammyListing\"><a href=\"http://www.chicagomag.com/Chicago-Magazine/November-2012/Best-Sandwiches-in-Chicago-Old-Jerusalem-Falafel/\"><b>Falafel</b><br/>\r\n",
      "Old Jerusalem<br/>\n",
      "<em>Read more</em> </a></div>\n",
      "</div>, <div class=\"sammy\" style=\"position: relative;\">\n",
      "<div class=\"sammyRank\">20</div>\n",
      "<div class=\"sammyListing\"><a href=\"http://www.chicagomag.com/Chicago-Magazine/November-2012/Best-Sandwiches-in-Chicago-Mindys-HotChocolate-Crab-Cake/\"><b>Crab Cake</b><br/>\r\n",
      "Mindy’s HotChocolate<br/>\n",
      "<em>Read more</em> </a></div>\n",
      "</div>, <div class=\"sammy\" style=\"position: relative;\">\n",
      "<div class=\"sammyRank\">21</div>\n",
      "<div class=\"sammyListing\"><a href=\"http://www.chicagomag.com/Chicago-Magazine/November-2012/Best-Sandwiches-in-Chicago-Olgas-Delicatessen-Chicken-Schnitzel/\"><b>Chicken Schnitzel</b><br/>\r\n",
      "Olga’s Delicatessen<br/>\n",
      "<em>Read more</em> </a></div>\n",
      "</div>, <div class=\"sammy\" style=\"position: relative;\">\n",
      "<div class=\"sammyRank\">22</div>\n",
      "<div class=\"sammyListing\"><a href=\"http://www.chicagomag.com/Chicago-Magazine/November-2012/Best-Sandwiches-in-Chicago-Dawali-Mediterranean-Kitchen-Shawarma/\"><b>Shawarma</b><br/>\r\n",
      "Dawali Mediterranean Kitchen<br/>\n",
      "<em>Read more</em> </a></div>\n",
      "</div>, <div class=\"sammy\" style=\"position: relative;\">\n",
      "<div class=\"sammyRank\">23</div>\n",
      "<div class=\"sammyListing\"><a href=\"http://www.chicagomag.com/Chicago-Magazine/November-2012/Best-Sandwiches-in-Chicago-Big-Jones-Toasted-Pimiento-Cheese/\"><b>Toasted Pimiento Cheese</b><br/>\r\n",
      "Big Jones<br/>\n",
      "<em>Read more</em> </a></div>\n",
      "</div>, <div class=\"sammy\" style=\"position: relative;\">\n",
      "<div class=\"sammyRank\">24</div>\n",
      "<div class=\"sammyListing\"><a href=\"http://www.chicagomag.com/Chicago-Magazine/November-2012/Best-Sandwiches-in-Chicago-La-Pane-Vegetarian-Panino/\"><b>Vegetarian Panino</b><br/>\r\n",
      "La Pane<br/>\n",
      "<em>Read more</em> </a></div>\n",
      "</div>, <div class=\"sammy\" style=\"position: relative;\">\n",
      "<div class=\"sammyRank\">25</div>\n",
      "<div class=\"sammyListing\"><a href=\"/Chicago-Magazine/November-2012/Best-Sandwiches-in-Chicago-Pastoral-Cali-Chevre/\"><b>Cali Chèvre</b><br/>\r\n",
      "Pastoral<br/>\n",
      "<em>Read more</em> </a></div>\n",
      "</div>, <div class=\"sammy\" style=\"position: relative;\">\n",
      "<div class=\"sammyRank\">26</div>\n",
      "<div class=\"sammyListing\"><a href=\"http://www.chicagomag.com/Chicago-Magazine/November-2012/Best-Sandwiches-in-Chicago-Maxs-Deli-Pastrami/\"><b>Pastrami</b><br/>\r\n",
      "Max’s Deli<br/>\n",
      "<em>Read more</em> </a></div>\n",
      "</div>, <div class=\"sammy\" style=\"position: relative;\">\n",
      "<div class=\"sammyRank\">27</div>\n",
      "<div class=\"sammyListing\"><a href=\"http://www.chicagomag.com/Chicago-Magazine/November-2012/Best-Sandwiches-in-Chicago-Luckys-Sandwich-Co-The-Fredo/\"><b>The Fredo</b><br/>\r\n",
      "Lucky’s Sandwich Co.<br/>\n",
      "<em>Read more</em> </a></div>\n",
      "</div>, <div class=\"sammy\" style=\"position: relative;\">\n",
      "<div class=\"sammyRank\">28</div>\n",
      "<div class=\"sammyListing\"><a href=\"http://www.chicagomag.com/Chicago-Magazine/November-2012/Best-Sandwiches-in-Chicago-City-Provisions-Smoked-Ham/\"><b>Smoked Ham</b><br/>\r\n",
      "City Provisions<br/>\n",
      "<em>Read more</em> </a></div>\n",
      "</div>, <div class=\"sammy\" style=\"position: relative;\">\n",
      "<div class=\"sammyRank\">29</div>\n",
      "<div class=\"sammyListing\"><a href=\"http://www.chicagomag.com/Chicago-Magazine/November-2012/Best-Sandwiches-in-Chicago-Papas-Cache-Sabroso-Jibarito/\"><b>Jibarito</b><br/>\r\n",
      "Papa’s Cache Sabroso<br/>\n",
      "<em>Read more</em> </a></div>\n",
      "</div>, <div class=\"sammy\" style=\"position: relative;\">\n",
      "<div class=\"sammyRank\">30</div>\n",
      "<div class=\"sammyListing\"><a href=\"http://www.chicagomag.com/Chicago-Magazine/November-2012/Best-Sandwiches-in-Chicago-Bavettes-Bar-and-Boeuf-Shaved-Prime-Rib/\"><b>Shaved Prime Rib</b><br/>\r\n",
      "Bavette’s Bar &amp; Boeuf<br/>\n",
      "<em>Read more</em> </a></div>\n",
      "</div>, <div class=\"sammy\" style=\"position: relative;\">\n",
      "<div class=\"sammyRank\">31</div>\n",
      "<div class=\"sammyListing\"><a href=\"http://www.chicagomag.com/Chicago-Magazine/November-2012/Best-Sandwiches-in-Chicago-Hannahs-Bretzel-Serrano-Ham-and-Manchego-Cheese/\"><b>Serrano Ham and Manchego Cheese</b><br/>\r\n",
      "Hannah’s Bretzel<br/>\n",
      "<em>Read more</em> </a></div>\n",
      "</div>, <div class=\"sammy\" style=\"position: relative;\">\n",
      "<div class=\"sammyRank\">32</div>\n",
      "<div class=\"sammyListing\"><a href=\"http://www.chicagomag.com/Chicago-Magazine/November-2012/Best-Sandwiches-in-Chicago-La-Fournette-Tuna-Salad/\"><b>Tuna Salad</b><br/>\r\n",
      "La Fournette<br/>\n",
      "<em>Read more</em> </a></div>\n",
      "</div>, <div class=\"sammy\" style=\"position: relative;\">\n",
      "<div class=\"sammyRank\">33</div>\n",
      "<div class=\"sammyListing\"><a href=\"http://www.chicagomag.com/Chicago-Magazine/November-2012/Best-Sandwiches-in-Chicago-Paramount-Room-Paramount-Reuben/\"><b>Paramount Reuben</b><br/>\r\n",
      "Paramount Room<br/>\n",
      "<em>Read more</em> </a></div>\n",
      "</div>, <div class=\"sammy\" style=\"position: relative;\">\n",
      "<div class=\"sammyRank\">34</div>\n",
      "<div class=\"sammyListing\"><a href=\"http://www.chicagomag.com/Chicago-Magazine/November-2012/Best-Sandwiches-in-Chicago-Melt-Sandwich-Shoppe-The-Istanbul/\"><b>The Istanbul</b><br/>\r\n",
      "Melt Sandwich Shoppe<br/>\n",
      "<em>Read more</em> </a></div>\n",
      "</div>, <div class=\"sammy\" style=\"position: relative;\">\n",
      "<div class=\"sammyRank\">35</div>\n",
      "<div class=\"sammyListing\"><a href=\"http://www.chicagomag.com/Chicago-Magazine/November-2012/Best-Sandwiches-in-Chicago-Floriole-Cafe-and-Bakery-BAD/\"><b>B.A.D.</b><br/>\r\n",
      "Floriole Cafe &amp; Bakery<br/>\n",
      "<em>Read more</em> </a></div>\n",
      "</div>, <div class=\"sammy\" style=\"position: relative;\">\n",
      "<div class=\"sammyRank\">36</div>\n",
      "<div class=\"sammyListing\"><a href=\"http://www.chicagomag.com/Chicago-Magazine/November-2012/Best-Sandwiches-in-Chicago-First-Slice-Pie-Cafe-Duck-Confit-and-Mozzarella/\"><b>Duck Confit and Mozzarella</b><br/>\r\n",
      "First Slice Pie Café<br/>\n",
      "<em>Read more</em> </a></div>\n",
      "</div>, <div class=\"sammy\" style=\"position: relative;\">\n",
      "<div class=\"sammyRank\">37</div>\n",
      "<div class=\"sammyListing\"><a href=\"http://www.chicagomag.com/Chicago-Magazine/November-2012/Best-Sandwiches-in-Chicago-Troquet-Croque-Monsieur/\"><b>Croque Monsieur</b><br/>\r\n",
      "Troquet<br/>\n",
      "<em>Read more</em> </a></div>\n",
      "</div>, <div class=\"sammy\" style=\"position: relative;\">\n",
      "<div class=\"sammyRank\">38</div>\n",
      "<div class=\"sammyListing\"><a href=\"http://www.chicagomag.com/Chicago-Magazine/November-2012/Best-Sandwiches-in-Chicago-Grahamwich-Green-Garbanzo/\"><b>Green Garbanzo</b><br/>\r\n",
      "Grahamwich<br/>\n",
      "<em>Read more</em> </a></div>\n",
      "</div>, <div class=\"sammy\" style=\"position: relative;\">\n",
      "<div class=\"sammyRank\">39</div>\n",
      "<div class=\"sammyListing\"><a href=\"http://www.chicagomag.com/Chicago-Magazine/November-2012/Best-Sandwiches-in-Chicago-Saigon-Sisters-The-Hen-House/\"><b>The Hen House</b><br/>\r\n",
      "Saigon Sisters<br/>\n",
      "<em>Read more</em> </a></div>\n",
      "</div>, <div class=\"sammy\" style=\"position: relative;\">\n",
      "<div class=\"sammyRank\">40</div>\n",
      "<div class=\"sammyListing\"><a href=\"http://www.chicagomag.com/Chicago-Magazine/November-2012/Best-Sandwiches-in-Chicago-Rosalias-Deli-Tuscan-Chicken/\"><b>Tuscan Chicken</b><br/>\r\n",
      "Rosalia’s Deli<br/>\n",
      "<em>Read more</em> </a></div>\n",
      "</div>, <div class=\"sammy\" style=\"position: relative;\">\n",
      "<div class=\"sammyRank\">41</div>\n",
      "<div class=\"sammyListing\"><a href=\"http://www.chicagomag.com/Chicago-Magazine/November-2012/Best-Sandwiches-in-Chicago-Z-and-H-MarketCafe-The-Marty/\"><b>The Marty </b><br/>\r\n",
      "Z&amp;H MarketCafe<br/>\n",
      "<em>Read more</em> </a></div>\n",
      "</div>, <div class=\"sammy\" style=\"position: relative;\">\n",
      "<div class=\"sammyRank\">42</div>\n",
      "<div class=\"sammyListing\"><a href=\"http://www.chicagomag.com/Chicago-Magazine/November-2012/Best-Sandwiches-in-Chicago-Market-House-on-the-Square-Whitefish/\"><b>Whitefish</b><br/>\r\n",
      "Market House on the Square<br/>\n",
      "<em>Read more</em> </a></div>\n",
      "</div>, <div class=\"sammy\" style=\"position: relative;\">\n",
      "<div class=\"sammyRank\">43</div>\n",
      "<div class=\"sammyListing\"><a href=\"http://www.chicagomag.com/Chicago-Magazine/November-2012/Best-Sandwiches-in-Chicago-Elaines-Coffee-Call-Oat-Bread-Pecan-Butter-and-Fruit-Jam/\"><b>Oat Bread, Pecan Butter, and Fruit Jam</b><br/>\r\n",
      "Elaine’s Coffee Call<br/>\n",
      "<em>Read more</em> </a></div>\n",
      "</div>, <div class=\"sammy\" style=\"position: relative;\">\n",
      "<div class=\"sammyRank\">44</div>\n",
      "<div class=\"sammyListing\"><a href=\"http://www.chicagomag.com/Chicago-Magazine/November-2012/Best-Sandwiches-in-Chicago-Marion-Street-Cheese-Market-Cauliflower-Melt/\"><b>Cauliflower Melt</b><br/>\r\n",
      "Marion Street Cheese Market<br/>\n",
      "<em>Read more</em> </a></div>\n",
      "</div>, <div class=\"sammy\" style=\"position: relative;\">\n",
      "<div class=\"sammyRank\">45</div>\n",
      "<div class=\"sammyListing\"><a href=\"http://www.chicagomag.com/Chicago-Magazine/November-2012/Best-Sandwiches-in-Chicago-Cafecito-Cubano/\"><b>Cubana</b><br/>\r\n",
      "Cafecito<br/>\n",
      "<em>Read more</em> </a></div>\n",
      "</div>, <div class=\"sammy\" style=\"position: relative;\">\n",
      "<div class=\"sammyRank\">46</div>\n",
      "<div class=\"sammyListing\"><a href=\"http://www.chicagomag.com/Chicago-Magazine/November-2012/Best-Sandwiches-in-Chicago-Chickpea-Kufta/\"><b>Kufta</b><br/>\r\n",
      "Chickpea<br/>\n",
      "<em>Read more</em> </a></div>\n",
      "</div>, <div class=\"sammy\" style=\"position: relative;\">\n",
      "<div class=\"sammyRank\">47</div>\n",
      "<div class=\"sammyListing\"><a href=\"http://www.chicagomag.com/Chicago-Magazine/November-2012/Best-Sandwiches-in-Chicago-The-Goddess-and-Grocer-Debbies-Egg-Salad/\"><b>Debbie’s Egg Salad</b><br/>\r\n",
      "The Goddess and Grocer<br/>\n",
      "<em>Read more</em> </a></div>\n",
      "</div>, <div class=\"sammy\" style=\"position: relative;\">\n",
      "<div class=\"sammyRank\">48</div>\n",
      "<div class=\"sammyListing\"><a href=\"http://www.chicagomag.com/Chicago-Magazine/November-2012/Best-Sandwiches-in-Chicago-Zenwich-Beef-Curry/\"><b>Beef Curry</b><br/>\r\n",
      "Zenwich<br/>\n",
      "<em>Read more</em> </a></div>\n",
      "</div>, <div class=\"sammy\" style=\"position: relative;\">\n",
      "<div class=\"sammyRank\">49</div>\n",
      "<div class=\"sammyListing\"><a href=\"http://www.chicagomag.com/Chicago-Magazine/November-2012/Best-Sandwiches-in-Chicago-Toni-Patisserie-Le-Vegetarien/\"><b>Le Végétarien</b><br/>\r\n",
      "Toni Patisserie<br/>\n",
      "<em>Read more</em> </a></div>\n",
      "</div>, <div class=\"sammy\" style=\"position: relative; border-bottom: 0\">\n",
      "<div class=\"sammyRank\">50</div>\n",
      "<div class=\"sammyListing\"><a href=\"http://www.chicagomag.com/Chicago-Magazine/November-2012/Best-Sandwiches-in-Chicago-Phoebes-Bakery-The-Gatsby/\"><b>The Gatsby</b><br/>\r\n",
      "Phoebe’s Bakery<br/>\n",
      "<em>Read more</em> </a></div>\n",
      "</div>]\n"
     ]
    }
   ],
   "source": [
    "print(soup.find_all('div', 'sammy'))"
   ]
  },
  {
   "cell_type": "code",
   "execution_count": 4,
   "metadata": {},
   "outputs": [
    {
     "data": {
      "text/plain": [
       "50"
      ]
     },
     "execution_count": 4,
     "metadata": {},
     "output_type": "execute_result"
    }
   ],
   "source": [
    "len(soup.find_all('div', 'sammy'))"
   ]
  },
  {
   "cell_type": "code",
   "execution_count": 5,
   "metadata": {},
   "outputs": [
    {
     "name": "stdout",
     "output_type": "stream",
     "text": [
      "<div class=\"sammy\" style=\"position: relative;\">\n",
      "<div class=\"sammyRank\">1</div>\n",
      "<div class=\"sammyListing\"><a href=\"/Chicago-Magazine/November-2012/Best-Sandwiches-in-Chicago-Old-Oak-Tap-BLT/\"><b>BLT</b><br>\r\n",
      "Old Oak Tap<br>\n",
      "<em>Read more</em> </br></br></a></div>\n",
      "</div>\n"
     ]
    }
   ],
   "source": [
    "print(soup.find_all('div', 'sammy')[0])"
   ]
  },
  {
   "cell_type": "markdown",
   "metadata": {},
   "source": [
    "## 3-4 접근한 웹 페이지에서 원하는 데이터 추출하고 정리하기"
   ]
  },
  {
   "cell_type": "code",
   "execution_count": 6,
   "metadata": {},
   "outputs": [
    {
     "data": {
      "text/plain": [
       "bs4.element.Tag"
      ]
     },
     "execution_count": 6,
     "metadata": {},
     "output_type": "execute_result"
    }
   ],
   "source": [
    "tmp_one = soup.find_all('div', 'sammy')[0]\n",
    "type(tmp_one)"
   ]
  },
  {
   "cell_type": "code",
   "execution_count": 7,
   "metadata": {},
   "outputs": [
    {
     "data": {
      "text/plain": [
       "<div class=\"sammyRank\">1</div>"
      ]
     },
     "execution_count": 7,
     "metadata": {},
     "output_type": "execute_result"
    }
   ],
   "source": [
    "tmp_one.find(class_='sammyRank')"
   ]
  },
  {
   "cell_type": "code",
   "execution_count": 8,
   "metadata": {},
   "outputs": [
    {
     "data": {
      "text/plain": [
       "'1'"
      ]
     },
     "execution_count": 8,
     "metadata": {},
     "output_type": "execute_result"
    }
   ],
   "source": [
    "tmp_one.find(class_='sammyRank').get_text()"
   ]
  },
  {
   "cell_type": "code",
   "execution_count": 9,
   "metadata": {},
   "outputs": [
    {
     "data": {
      "text/plain": [
       "'BLT\\r\\nOld Oak Tap\\nRead more '"
      ]
     },
     "execution_count": 9,
     "metadata": {},
     "output_type": "execute_result"
    }
   ],
   "source": [
    "tmp_one.find(class_='sammyListing').get_text()"
   ]
  },
  {
   "cell_type": "code",
   "execution_count": 10,
   "metadata": {},
   "outputs": [
    {
     "data": {
      "text/plain": [
       "'/Chicago-Magazine/November-2012/Best-Sandwiches-in-Chicago-Old-Oak-Tap-BLT/'"
      ]
     },
     "execution_count": 10,
     "metadata": {},
     "output_type": "execute_result"
    }
   ],
   "source": [
    "tmp_one.find('a')['href']"
   ]
  },
  {
   "cell_type": "code",
   "execution_count": 11,
   "metadata": {},
   "outputs": [],
   "source": [
    "import re"
   ]
  },
  {
   "cell_type": "code",
   "execution_count": 12,
   "metadata": {},
   "outputs": [
    {
     "name": "stdout",
     "output_type": "stream",
     "text": [
      "BLT\n",
      "Old Oak Tap\n"
     ]
    }
   ],
   "source": [
    "tmp_string = tmp_one.find(class_='sammyListing').get_text()\n",
    "\n",
    "re.split(('\\n|\\r\\n'), tmp_string)\n",
    "\n",
    "print(re.split(('\\n|\\r\\n'), tmp_string)[0])\n",
    "print(re.split(('\\n|\\r\\n'), tmp_string)[1])"
   ]
  },
  {
   "cell_type": "code",
   "execution_count": 13,
   "metadata": {},
   "outputs": [],
   "source": [
    "from urllib.parse import urljoin"
   ]
  },
  {
   "cell_type": "code",
   "execution_count": 14,
   "metadata": {},
   "outputs": [],
   "source": [
    "rank = []\n",
    "main_menu = []\n",
    "cafe_name = []\n",
    "url_add = []\n",
    "\n",
    "list_soup = soup.find_all('div', 'sammy')\n",
    "\n",
    "for item in list_soup:\n",
    "    rank.append(item.find(class_='sammyRank').get_text())\n",
    "    \n",
    "    tmp_string = item.find(class_='sammyListing').get_text()\n",
    "\n",
    "    main_menu.append(re.split(('\\n|\\r\\n'), tmp_string)[0])\n",
    "    cafe_name.append(re.split(('\\n|\\r\\n'), tmp_string)[1])\n",
    "    \n",
    "    url_add.append(urljoin(url_base, item.find('a')['href']))"
   ]
  },
  {
   "cell_type": "code",
   "execution_count": 16,
   "metadata": {},
   "outputs": [
    {
     "data": {
      "application/vnd.jupyter.widget-view+json": {
       "model_id": "ed6d7d5571ad4e86893e29e7be170f5f",
       "version_major": 2,
       "version_minor": 0
      },
      "text/plain": [
       "HBox(children=(IntProgress(value=0, max=50), HTML(value='')))"
      ]
     },
     "metadata": {},
     "output_type": "display_data"
    },
    {
     "name": "stdout",
     "output_type": "stream",
     "text": [
      "\n"
     ]
    }
   ],
   "source": [
    "from tqdm import tqdm_notebook \n",
    "import time \n",
    "rank = [] \n",
    "main_menu = [] \n",
    "cafe_name = [] \n",
    "url_add = [] \n",
    "list_soup = soup.find_all('div', 'sammy') \n",
    "bar_total = tqdm_notebook(list_soup) \n",
    "for item in bar_total: \n",
    "    rank.append(item.find(class_='sammyRank').get_text()) \n",
    "    tmp_string = item.find(class_='sammyListing').get_text() \n",
    "    main_menu.append(re.split(('\\n|\\r\\n'), tmp_string)[0]) \n",
    "    cafe_name.append(re.split(('\\n|\\r\\n'), tmp_string)[1]) \n",
    "    url_add.append(urljoin(url_base, item.find('a')['href'])) \n",
    "    time.sleep(0.05)"
   ]
  },
  {
   "cell_type": "code",
   "execution_count": 17,
   "metadata": {},
   "outputs": [
    {
     "data": {
      "text/plain": [
       "['1', '2', '3', '4', '5']"
      ]
     },
     "execution_count": 17,
     "metadata": {},
     "output_type": "execute_result"
    }
   ],
   "source": [
    "rank[:5]"
   ]
  },
  {
   "cell_type": "code",
   "execution_count": 18,
   "metadata": {},
   "outputs": [
    {
     "data": {
      "text/plain": [
       "['BLT', 'Fried Bologna', 'Woodland Mushroom', 'Roast Beef', 'PB&L']"
      ]
     },
     "execution_count": 18,
     "metadata": {},
     "output_type": "execute_result"
    }
   ],
   "source": [
    "main_menu[:5]"
   ]
  },
  {
   "cell_type": "code",
   "execution_count": 19,
   "metadata": {},
   "outputs": [
    {
     "data": {
      "text/plain": [
       "['Old Oak Tap', 'Au Cheval', 'Xoco', 'Al’s Deli', 'Publican Quality Meats']"
      ]
     },
     "execution_count": 19,
     "metadata": {},
     "output_type": "execute_result"
    }
   ],
   "source": [
    "cafe_name[:5]"
   ]
  },
  {
   "cell_type": "code",
   "execution_count": 20,
   "metadata": {},
   "outputs": [
    {
     "data": {
      "text/plain": [
       "['http://www.chicagomag.com/Chicago-Magazine/November-2012/Best-Sandwiches-in-Chicago-Old-Oak-Tap-BLT/',\n",
       " 'http://www.chicagomag.com/Chicago-Magazine/November-2012/Best-Sandwiches-in-Chicago-Au-Cheval-Fried-Bologna/',\n",
       " 'http://www.chicagomag.com/Chicago-Magazine/November-2012/Best-Sandwiches-in-Chicago-Xoco-Woodland-Mushroom/',\n",
       " 'http://www.chicagomag.com/Chicago-Magazine/November-2012/Best-Sandwiches-in-Chicago-Als-Deli-Roast-Beef/',\n",
       " 'http://www.chicagomag.com/Chicago-Magazine/November-2012/Best-Sandwiches-in-Chicago-Publican-Quality-Meats-PB-L/']"
      ]
     },
     "execution_count": 20,
     "metadata": {},
     "output_type": "execute_result"
    }
   ],
   "source": [
    "url_add[:5]"
   ]
  },
  {
   "cell_type": "code",
   "execution_count": 21,
   "metadata": {},
   "outputs": [
    {
     "data": {
      "text/plain": [
       "(50, 50, 50, 50)"
      ]
     },
     "execution_count": 21,
     "metadata": {},
     "output_type": "execute_result"
    }
   ],
   "source": [
    "len(rank), len(main_menu), len(cafe_name), len(url_add)"
   ]
  },
  {
   "cell_type": "code",
   "execution_count": 22,
   "metadata": {},
   "outputs": [
    {
     "data": {
      "text/html": [
       "<div>\n",
       "<style scoped>\n",
       "    .dataframe tbody tr th:only-of-type {\n",
       "        vertical-align: middle;\n",
       "    }\n",
       "\n",
       "    .dataframe tbody tr th {\n",
       "        vertical-align: top;\n",
       "    }\n",
       "\n",
       "    .dataframe thead th {\n",
       "        text-align: right;\n",
       "    }\n",
       "</style>\n",
       "<table border=\"1\" class=\"dataframe\">\n",
       "  <thead>\n",
       "    <tr style=\"text-align: right;\">\n",
       "      <th></th>\n",
       "      <th>Rank</th>\n",
       "      <th>Menu</th>\n",
       "      <th>Cafe</th>\n",
       "      <th>URL</th>\n",
       "    </tr>\n",
       "  </thead>\n",
       "  <tbody>\n",
       "    <tr>\n",
       "      <th>0</th>\n",
       "      <td>1</td>\n",
       "      <td>BLT</td>\n",
       "      <td>Old Oak Tap</td>\n",
       "      <td>http://www.chicagomag.com/Chicago-Magazine/Nov...</td>\n",
       "    </tr>\n",
       "    <tr>\n",
       "      <th>1</th>\n",
       "      <td>2</td>\n",
       "      <td>Fried Bologna</td>\n",
       "      <td>Au Cheval</td>\n",
       "      <td>http://www.chicagomag.com/Chicago-Magazine/Nov...</td>\n",
       "    </tr>\n",
       "    <tr>\n",
       "      <th>2</th>\n",
       "      <td>3</td>\n",
       "      <td>Woodland Mushroom</td>\n",
       "      <td>Xoco</td>\n",
       "      <td>http://www.chicagomag.com/Chicago-Magazine/Nov...</td>\n",
       "    </tr>\n",
       "    <tr>\n",
       "      <th>3</th>\n",
       "      <td>4</td>\n",
       "      <td>Roast Beef</td>\n",
       "      <td>Al’s Deli</td>\n",
       "      <td>http://www.chicagomag.com/Chicago-Magazine/Nov...</td>\n",
       "    </tr>\n",
       "    <tr>\n",
       "      <th>4</th>\n",
       "      <td>5</td>\n",
       "      <td>PB&amp;L</td>\n",
       "      <td>Publican Quality Meats</td>\n",
       "      <td>http://www.chicagomag.com/Chicago-Magazine/Nov...</td>\n",
       "    </tr>\n",
       "  </tbody>\n",
       "</table>\n",
       "</div>"
      ],
      "text/plain": [
       "  Rank               Menu                    Cafe  \\\n",
       "0    1                BLT             Old Oak Tap   \n",
       "1    2      Fried Bologna               Au Cheval   \n",
       "2    3  Woodland Mushroom                    Xoco   \n",
       "3    4         Roast Beef               Al’s Deli   \n",
       "4    5               PB&L  Publican Quality Meats   \n",
       "\n",
       "                                                 URL  \n",
       "0  http://www.chicagomag.com/Chicago-Magazine/Nov...  \n",
       "1  http://www.chicagomag.com/Chicago-Magazine/Nov...  \n",
       "2  http://www.chicagomag.com/Chicago-Magazine/Nov...  \n",
       "3  http://www.chicagomag.com/Chicago-Magazine/Nov...  \n",
       "4  http://www.chicagomag.com/Chicago-Magazine/Nov...  "
      ]
     },
     "execution_count": 22,
     "metadata": {},
     "output_type": "execute_result"
    }
   ],
   "source": [
    "import pandas as pd\n",
    "\n",
    "data = {'Rank':rank, 'Menu':main_menu, 'Cafe':cafe_name, 'URL':url_add}\n",
    "df = pd.DataFrame(data)\n",
    "df.head()"
   ]
  },
  {
   "cell_type": "code",
   "execution_count": 23,
   "metadata": {},
   "outputs": [
    {
     "data": {
      "text/html": [
       "<div>\n",
       "<style scoped>\n",
       "    .dataframe tbody tr th:only-of-type {\n",
       "        vertical-align: middle;\n",
       "    }\n",
       "\n",
       "    .dataframe tbody tr th {\n",
       "        vertical-align: top;\n",
       "    }\n",
       "\n",
       "    .dataframe thead th {\n",
       "        text-align: right;\n",
       "    }\n",
       "</style>\n",
       "<table border=\"1\" class=\"dataframe\">\n",
       "  <thead>\n",
       "    <tr style=\"text-align: right;\">\n",
       "      <th></th>\n",
       "      <th>Rank</th>\n",
       "      <th>Cafe</th>\n",
       "      <th>Menu</th>\n",
       "      <th>URL</th>\n",
       "    </tr>\n",
       "  </thead>\n",
       "  <tbody>\n",
       "    <tr>\n",
       "      <th>0</th>\n",
       "      <td>1</td>\n",
       "      <td>Old Oak Tap</td>\n",
       "      <td>BLT</td>\n",
       "      <td>http://www.chicagomag.com/Chicago-Magazine/Nov...</td>\n",
       "    </tr>\n",
       "    <tr>\n",
       "      <th>1</th>\n",
       "      <td>2</td>\n",
       "      <td>Au Cheval</td>\n",
       "      <td>Fried Bologna</td>\n",
       "      <td>http://www.chicagomag.com/Chicago-Magazine/Nov...</td>\n",
       "    </tr>\n",
       "    <tr>\n",
       "      <th>2</th>\n",
       "      <td>3</td>\n",
       "      <td>Xoco</td>\n",
       "      <td>Woodland Mushroom</td>\n",
       "      <td>http://www.chicagomag.com/Chicago-Magazine/Nov...</td>\n",
       "    </tr>\n",
       "    <tr>\n",
       "      <th>3</th>\n",
       "      <td>4</td>\n",
       "      <td>Al’s Deli</td>\n",
       "      <td>Roast Beef</td>\n",
       "      <td>http://www.chicagomag.com/Chicago-Magazine/Nov...</td>\n",
       "    </tr>\n",
       "    <tr>\n",
       "      <th>4</th>\n",
       "      <td>5</td>\n",
       "      <td>Publican Quality Meats</td>\n",
       "      <td>PB&amp;L</td>\n",
       "      <td>http://www.chicagomag.com/Chicago-Magazine/Nov...</td>\n",
       "    </tr>\n",
       "  </tbody>\n",
       "</table>\n",
       "</div>"
      ],
      "text/plain": [
       "  Rank                    Cafe               Menu  \\\n",
       "0    1             Old Oak Tap                BLT   \n",
       "1    2               Au Cheval      Fried Bologna   \n",
       "2    3                    Xoco  Woodland Mushroom   \n",
       "3    4               Al’s Deli         Roast Beef   \n",
       "4    5  Publican Quality Meats               PB&L   \n",
       "\n",
       "                                                 URL  \n",
       "0  http://www.chicagomag.com/Chicago-Magazine/Nov...  \n",
       "1  http://www.chicagomag.com/Chicago-Magazine/Nov...  \n",
       "2  http://www.chicagomag.com/Chicago-Magazine/Nov...  \n",
       "3  http://www.chicagomag.com/Chicago-Magazine/Nov...  \n",
       "4  http://www.chicagomag.com/Chicago-Magazine/Nov...  "
      ]
     },
     "execution_count": 23,
     "metadata": {},
     "output_type": "execute_result"
    }
   ],
   "source": [
    "# 컬럼 순서 변경\n",
    "df = pd.DataFrame(data, columns=['Rank','Cafe','Menu','URL'])\n",
    "df.head(5)"
   ]
  },
  {
   "cell_type": "code",
   "execution_count": 24,
   "metadata": {},
   "outputs": [],
   "source": [
    "df.to_csv('data/03. best_sandwiches_list_chicago.csv', sep=',', \n",
    "          encoding='UTF-8')"
   ]
  },
  {
   "cell_type": "markdown",
   "metadata": {},
   "source": [
    "## 3-5 다수의 웹 페이지에 자동으로 접근해서 원하는 정보 가져오기"
   ]
  },
  {
   "cell_type": "code",
   "execution_count": 25,
   "metadata": {},
   "outputs": [
    {
     "data": {
      "text/plain": [
       "'http://www.chicagomag.com/Chicago-Magazine/November-2012/Best-Sandwiches-in-Chicago-Old-Oak-Tap-BLT/'"
      ]
     },
     "execution_count": 25,
     "metadata": {},
     "output_type": "execute_result"
    }
   ],
   "source": [
    "df['URL'][0]"
   ]
  },
  {
   "cell_type": "code",
   "execution_count": 26,
   "metadata": {},
   "outputs": [
    {
     "data": {
      "text/plain": [
       "\n",
       "<!DOCTYPE doctype html>\n",
       "\n",
       "<html lang=\"en\">\n",
       "<head>\n",
       "<!-- Urbis magnitudo. Fabulas magnitudo. -->\n",
       "<meta charset=\"utf-8\"/>\n",
       "<style>a.edit_from_site {display: none !important;}</style>\n",
       "<title>\n",
       "  1. Old Oak Tap BLT |\n",
       "  Chicago magazine\n",
       "      |  November 2012\n",
       "    </title>\n",
       "<meta content=\"width=device-width, initial-scale=1.0, maximum-scale=1.0, user-scalable = no\" name=\"viewport\">\n",
       "<meta content=\"“Truly inspired.”\" name=\"description\"/>\n",
       "<!-- <meta name=\"description\" content=\"&#8220;Truly inspired.&#8221;\"> -->\n",
       "<meta content=\"\" name=\"keywords\"/>\n",
       "<meta content=\"37873197144\" property=\"fb:pages\">\n",
       "<link href=\"//www.googletagservices.com\" rel=\"dns-prefetch\"/>\n",
       "<link href=\"//ajax.googleapis.com\" rel=\"dns-prefetch\"/>\n",
       "<link href=\"//securepubads.g.doubleclick.net\" rel=\"dns-prefetch\"/>\n",
       "<link href=\"//media.chicagomag.com\" rel=\"dns-prefetch\"/>\n",
       "<link href=\"//ox-d.godengo.com/\" rel=\"dns-prefetch\"/>\n",
       "<link href=\"//www.google-analytics.com\" rel=\"dns-prefetch\"/>\n",
       "<link href=\"//ping.chartbeat.net\" rel=\"dns-prefetch\"/>\n",
       "<link href=\"//static.chartbeat.com\" rel=\"dns-prefetch\"/>\n",
       "<link href=\"//www.google.com\" rel=\"dns-prefetch\"/>\n",
       "<link href=\"//cse.google.com\" rel=\"dns-prefetch\"/>\n",
       "<link href=\"//www.googleapis.com\" rel=\"dns-prefetch\"/>\n",
       "<link href=\"//maps.googleapis.com\" rel=\"dns-prefetch\"/>\n",
       "<link href=\"//csi.gstatic.com\" rel=\"dns-prefetch\"/>\n",
       "<link href=\"//www.facebook.com\" rel=\"dns-prefetch\"/>\n",
       "<link href=\"//staticxx.facebook.com\" rel=\"dns-prefetch\"/>\n",
       "<link href=\"//connect.facebook.net\" rel=\"dns-prefetch\"/>\n",
       "<link href=\"//contentz.mkt51.net\" rel=\"dns-prefetch\"/>\n",
       "<link href=\"//www.pages05.net\" rel=\"dns-prefetch\"/>\n",
       "<link href=\"//fbcdn.net\" rel=\"dns-prefetch\"/>\n",
       "<link href=\"//players.brightcove.net\" rel=\"dns-prefetch\"/>\n",
       "<link href=\"//edge.api.brightcove.com\" rel=\"dns-prefetch\"/>\n",
       "<link href=\"//metrics.brightcove.com\" rel=\"dns-prefetch\"/>\n",
       "<link href=\"//c.brightcove.com\" rel=\"dns-prefetch\"/>\n",
       "<link href=\"//pvp.trb.com\" rel=\"dns-prefetch\"/>\n",
       "<link href=\"//s.ntv.io\" rel=\"dns-prefetch\"/>\n",
       "<!-- For Citi sponsorship (move these to above ^^ links after Nov 2018) -->\n",
       "<!-- -->\n",
       "<!-- DOES NOT HAVE REAL ESTATE CATEGORY OR IS NOT REAL ESTATE HOMEPAGE -->\n",
       "<link href=\"//chicagomag.disqus.com\" rel=\"dns-prefetch\"/>\n",
       "<link href=\"//www.disqus.com\" rel=\"dns-prefetch\"/>\n",
       "<link href=\"//a.disquscdn.com\" rel=\"dns-prefetch\"/>\n",
       "<!-- -->\n",
       "<link href=\"https://use.typekit.net/vdh5vgk.css\" rel=\"stylesheet\"/>\n",
       "<meta content=\"www.pages05.net,chicagomag.com\" name=\"com.silverpop.brandeddomains\">\n",
       "<script>\n",
       "(function(i,s,o,g,r,a,m){i['GoogleAnalyticsObject']=r;i[r]=i[r]||function(){\n",
       "(i[r].q=i[r].q||[]).push(arguments)},i[r].l=1*new Date();a=s.createElement(o),\n",
       "m=s.getElementsByTagName(o)[0];a.async=1;a.src=g;m.parentNode.insertBefore(a,m)\n",
       "})(window,document,'script','//www.google-analytics.com/analytics.js','ga');\n",
       "\n",
       "ga('create', 'UA-297666-1', {'siteSpeedSampleRate': 100});\n",
       "\n",
       "\n",
       "\n",
       "ga('set', 'dimension1', 'restaurant')\n",
       "\n",
       "\n",
       "\n",
       "  ga('set', 'dimension4', '2012-10-09 18:13:00');\n",
       "\n",
       "  ga('set', 'dimension5', 'article.tpl');\n",
       "\n",
       "ga('send', 'pageview');\n",
       "\n",
       "\n",
       "var trackOutboundLink = function(url) {\n",
       "   ga('send', 'event', 'outbound', 'click', url, {\n",
       "     'transport': 'beacon',\n",
       "     'hitCallback': function(){document.location = url;}\n",
       "   });\n",
       "}\n",
       "\n",
       "\n",
       "\n",
       "\n",
       "\n",
       "</script>\n",
       "<link href=\"http://www.chicagomag.com/Chicago-Magazine/November-2012/Best-Sandwiches-in-Chicago-Old-Oak-Tap-BLT/\" rel=\"canonical\">\n",
       "<meta content=\"1. Old Oak Tap BLT\" name=\"title\"/>\n",
       "<meta content=\"all\" name=\"robots\"/>\n",
       "<meta content=\"chicago magazine, chicago magazine online, chicago guide, chicago recreation, chicago restaurants, chicago events, chicago entertainment, chicago attractions, chicago outdoor, chicago dining, chicago bars, chicago nightlife, chicago shopping, chicago fashion, chicago arts, chicago culture\" name=\"news_keywords\"/>\n",
       "<!-- -->\n",
       "<link href=\"/images/cache/cache_3/cache_9/cache_8/01-Old-Oak-Trap-BLT-500-79e34893.jpeg?ver=1482330137&amp;aspectratio=1.3333333333333\" rel=\"image_src\">\n",
       "<meta content=\"/images/cache/cache_3/cache_9/cache_8/01-Old-Oak-Trap-BLT-500-79e34893.jpeg?ver=1482330137&amp;aspectratio=1.3333333333333\" name=\"thumbnail\"/>\n",
       "<script type=\"text/javascript\">var _sf_startpt=(new Date()).getTime()</script>\n",
       "<link href=\"http://media.chicagomag.com/favicon.ico\" rel=\"shortcut icon\"/>\n",
       "<!-- Global site tag (gtag.js) - Google Ads: 754499588 -->\n",
       "<script async=\"\" src=\"https://www.googletagmanager.com/gtag/js?id=AW-754499588\"></script>\n",
       "<script>\n",
       "  window.dataLayer = window.dataLayer || [];\n",
       "  function gtag(){dataLayer.push(arguments);}\n",
       "  gtag('js', new Date());\n",
       "\n",
       "  gtag('config', 'AW-754499588');\n",
       "</script>\n",
       "<style>\n",
       "  .ad { z-index: 9999999 !important; }\n",
       "</style>\n",
       "<meta content=\"summary_large_image\" name=\"twitter:card\"/>\n",
       "<meta content=\"/images/cache/cache_b/cache_b/cache_5/01-Old-Oak-Trap-BLT-500-ef23e5bb.jpeg?ver=1482330137&amp;aspectratio=1.3333333333333\" name=\"twitter:image\"/>\n",
       "<meta content=\"/images/cache/cache_d/cache_4/cache_e/01-Old-Oak-Trap-BLT-500-a09efe4d.jpeg?ver=1482330137&amp;aspectratio=1.3333333333333\" property=\"og:image\"/>\n",
       "<meta content=\"Chicago magazine\" name=\"twitter:app:name:ipad\"/>\n",
       "<meta content=\"567851357\" name=\"twitter:app:id:ipad\"/>\n",
       "<meta content=\"Chicago magazine\" name=\"twitter:app:name:googleplay\"/>\n",
       "<meta content=\"com.chicagomag.chicagomag\" name=\"twitter:app:id:googleplay\"/>\n",
       "<meta content=\"1. Old Oak Tap BLT\" property=\"og:title\">\n",
       "<meta content=\"1. Old Oak Tap BLT\" name=\"twitter:title\">\n",
       "<meta content=\"article\" property=\"og:type\">\n",
       "<meta content=\"bikesarefun\" property=\"fb:admins\">\n",
       "<meta content=\"http://www.chicagomag.com/Chicago-Magazine/November-2012/Best-Sandwiches-in-Chicago-Old-Oak-Tap-BLT/\" property=\"og:url\">\n",
       "<meta content=\"http://www.chicagomag.com/Chicago-Magazine/November-2012/Best-Sandwiches-in-Chicago-Old-Oak-Tap-BLT/\" name=\"twitter:url\">\n",
       "<meta content=\"Chicago magazine\" property=\"og:site_name\">\n",
       "<meta content='\"Truly inspired.\"' property=\"og:description\"/>\n",
       "<meta content='\"Truly inspired.\"' name=\"twitter:description\"/>\n",
       "<meta content=\"@chicagomag\" name=\"twitter:site\"/>\n",
       "<script type=\"text/javascript\">\n",
       "      var articleID = '19495';\n",
       "    var adcat = \"restaurant\";\n",
       "\n",
       "  // Set the video variables\n",
       "  var videoID = \"Inside Best Restaurants\";// Fallback\n",
       "  \n",
       "    // adcat: restaurant\n",
       "            var videoID = \"Inside Best Restaurants\";\n",
       "      \n",
       "  \n",
       "</script>\n",
       "<script type=\"text/javascript\">\n",
       "\n",
       "  // Asynchronous\n",
       "  var googletag = googletag || {};\n",
       "      googletag.cmd = googletag.cmd || [];\n",
       "\n",
       "  // Set some global variables so we can refresh these slots asynchronously\n",
       "  var cube2 = '',\n",
       "      leaderboard1 = '',\n",
       "      leaderboard6 = '';\n",
       "  (function() {\n",
       "    var gads = document.createElement(\"script\");\n",
       "    gads.async = true;\n",
       "    gads.type = \"text/javascript\";\n",
       "      var useSSL = \"https:\" == document.location.protocol;\n",
       "      gads.src = (useSSL ? \"https:\" : \"http:\") + \"//www.googletagservices.com/tag/js/gpt.js\";\n",
       "      var node =document.getElementsByTagName(\"script\")[0];\n",
       "      node.parentNode.insertBefore(gads, node);\n",
       "    })();\n",
       "\n",
       "</script>\n",
       "<script type=\"text/javascript\">\n",
       "  googletag.cmd.push(function() {\n",
       "  googletag.defineSlot('/4011/trb.chicagomag/hp', [[300,250]],'div-gpt-ad-cube-1').setTargeting('pos',['1']).addService(googletag.pubads());\n",
       "  cube2 = googletag.defineSlot('/4011/trb.chicagomag/hp', [[300,250]],'div-gpt-ad-cube-2').setTargeting('pos',['2']).addService(googletag.pubads());\n",
       "  googletag.defineSlot('/4011/trb.chicagomag/hp', [[300,250]],'div-gpt-ad-cube-3').setTargeting('pos',['3']).addService(googletag.pubads());\n",
       "  googletag.defineSlot('/4011/trb.chicagomag/hp', [[300,250]],'div-gpt-ad-cube-4').setTargeting('pos',['4']).addService(googletag.pubads());\n",
       "  googletag.defineSlot('/4011/trb.chicagomag/hp', [[300,250]],'div-gpt-ad-cube-5').setTargeting('pos',['5']).addService(googletag.pubads());\n",
       "  googletag.defineSlot('/4011/trb.chicagomag/hp', [[300,250]],'div-gpt-ad-cube-6').setTargeting('pos',['6']).addService(googletag.pubads());\n",
       "\n",
       "  if (window.innerWidth > 727) {\n",
       "    leaderboard1 = googletag.defineSlot('/4011/trb.chicagomag/hp', [[728,90]],'div-gpt-ad-leaderboard-1').setTargeting('pos',['1']).addService(googletag.pubads());\n",
       "    googletag.defineSlot('/4011/trb.chicagomag/hp', [[728,90]],'div-gpt-ad-leaderboard-2').setTargeting('pos',['2']).addService(googletag.pubads());\n",
       "    googletag.defineSlot('/4011/trb.chicagomag/hp', [[728,90]],'div-gpt-ad-leaderboard-3').setTargeting('pos',['3']).addService(googletag.pubads());\n",
       "    googletag.defineSlot('/4011/trb.chicagomag/hp', [[728,90]],'div-gpt-ad-leaderboard-4').setTargeting('pos',['4']).addService(googletag.pubads());\n",
       "    googletag.defineSlot('/4011/trb.chicagomag/hp', [[728,90]],'div-gpt-ad-leaderboard-5').setTargeting('pos',['5']).addService(googletag.pubads());\n",
       "    leaderboard6 = googletag.defineSlot('/4011/trb.chicagomag/hp', [[728,90]],'div-gpt-ad-leaderboard-6').setTargeting('pos',['6']).addService(googletag.pubads());\n",
       "  }\n",
       "  else {\n",
       "    googletag.defineSlot('/4011/trb.chicagomag/hp', [[320,50]],'div-gpt-ad-mobile-leaderboard-1').setTargeting('pos',['1']).addService(googletag.pubads());\n",
       "    googletag.defineSlot('/4011/trb.chicagomag/hp', [[320,50]],'div-gpt-ad-mobile-leaderboard-2').setTargeting('pos',['2']).addService(googletag.pubads());\n",
       "  }\n",
       "\n",
       "  // googletag.defineSlot('/4011/trb.chicagomag/hp', [[160,600]],'div-gpt-ad-999449422057474470-6').setTargeting('pos',['1']).addService(googletag.pubads());\n",
       "  // googletag.defineSlot('/4011/trb.chicagomag/hp', [[160,600]],'div-gpt-ad-999449422057474470-7').setTargeting('pos',['2']).addService(googletag.pubads());\n",
       "\n",
       "  if (window.innerWidth > 599) {\n",
       "    googletag.defineSlot('/4011/trb.chicagomag/hp', [[600,100]],'div-gpt-ad-600-100').setTargeting('pos',['1']).addService(googletag.pubads());\n",
       "    googletag.defineSlot('/4011/trb.chicagomag/hp', [[600,400]],'div-gpt-ad-600-400-1').setTargeting('pos',['1']).addService(googletag.pubads());\n",
       "    googletag.defineSlot('/4011/trb.chicagomag/hp', [[600,400]],'div-gpt-ad-600-400-2').setTargeting('pos',['2']).addService(googletag.pubads());\n",
       "    googletag.defineSlot('/4011/trb.chicagomag/hp', [[600,400]],'div-gpt-ad-600-400-3').setTargeting('pos',['3']).addService(googletag.pubads());\n",
       "  }\n",
       "\n",
       "\n",
       "  googletag.defineSlot('/4011/trb.chicagomag/hp', [[336,392]],'div-gpt-ad-999449422057474470-9').setTargeting('pos',['1']).addService(googletag.pubads());\n",
       "\n",
       "  googletag.defineSlot('/4011/trb.chicagomag/hp', [[300,100]],'div-gpt-ad-video-companion').addService(googletag.pubads());\n",
       "\n",
       "  googletag.defineOutOfPageSlot('/4011/trb.chicagomag/hp', 'div-out-of-page').addService(googletag.pubads());\n",
       "\n",
       "  // Custom chicago mag targeting\n",
       "\n",
       "  googletag.pubads().setTargeting(\"adcat\", \"restaurant\");\n",
       "  googletag.pubads().setTargeting(\"pub\", \"chi\");\n",
       "  googletag.pubads().setTargeting(\"pubID\", \"100\");\n",
       "  googletag.pubads().setTargeting(\"videoID\", videoID);\n",
       "  googletag.pubads().collapseEmptyDivs();\n",
       "  \n",
       "            googletag.pubads().setTargeting(\"articleID\", \"19495\");\n",
       "      \n",
       "                  \n",
       "  googletag.enableServices();\n",
       "\n",
       "  });// End googletag.cmd.push()\n",
       "\n",
       "</script>\n",
       "<!-- End: GPT -->\n",
       "<!-- responsive -->\n",
       "<script language=\"Javascript\" src=\"//ajax.googleapis.com/ajax/libs/jquery/1.8.1/jquery.min.js\" type=\"text/javascript\"></script>\n",
       "<script type=\"text/javascript\">\n",
       "if (typeof jQuery == 'undefined') {\n",
       "\tdocument.write(unescape(\"%3Cscript src='/core/media/js/jquery-1.8.1.min.js' type='text/javascript'%3E%3C/script%3E\"));\n",
       "}\n",
       "</script>\n",
       "<script type=\"text/javascript\">\n",
       "var rjQuery = jQuery.noConflict(); // leave the $ variable alone\n",
       "</script>\n",
       "<script language=\"JavaScript\" src=\"/theme_overrides/Respond/js/site-search.js?ver=1386069772\" type=\"text/javascript\"></script>\n",
       "<script language=\"JavaScript\" src=\"/core/media/js/base.js?ver=1473876728\" type=\"text/javascript\"></script>\n",
       "<!--[if lt IE 9]>\n",
       "<script  type=\"text/javascript\" language=\"JavaScript\" src=\"/core/media/themes/Respond/js/html5_shiv.js?ver=1473876729\"></script>\n",
       "<![endif]-->\n",
       "<script language=\"JavaScript\" src=\"/core/media/js/jquery.browser.js?ver=1473876728\" type=\"text/javascript\"></script>\n",
       "<script language=\"JavaScript\" src=\"/theme_overrides/Respond/js/jquery.iframe-auto-height.plugin.1.8.0.js?ver=1446756854\" type=\"text/javascript\"></script>\n",
       "<link href=\"/lessc/35a3627424516b7ccf4314a41b92358c.one.css?ver=1540232190\" rel=\"stylesheet\" type=\"text/css\"/>\n",
       "<link href=\"/lessc/35a3627424516b7ccf4314a41b92358c.two.css?ver=1540232190\" rel=\"stylesheet\" type=\"text/css\"/>\n",
       "<script language=\"JavaScript\" src=\"/theme_overrides/Respond/js/functions.js?ver=1483891934\" type=\"text/javascript\"></script>\n",
       "<link href=\"/core/media/css/responsive_ads.css?ver=1473876728\" rel=\"stylesheet\" type=\"text/css\"/>\n",
       "<link href=\"/theme_overrides/Respond/css/sandwiches.css?ver=1473559134\" rel=\"stylesheet\" type=\"text/css\"/>\n",
       "<!--[if IE 9]>\n",
       "<link rel=\"stylesheet\" type=\"text/css\" href=\"/core/media/themes/Respond/css/ie9.css?ver=1473876729\">\n",
       "<![endif]-->\n",
       "<!--[if lt IE 9]>\n",
       "<link rel=\"stylesheet\" type=\"text/css\" href=\"/core/media/themes/Respond/css/ie8.css?ver=1473876729\">\n",
       "<![endif]-->\n",
       "<script type=\"text/javascript\">RivistaJSString.put({\n",
       "\n",
       "\n",
       "\n",
       "\n",
       "\"_\":\"\"});</script>\n",
       "<!--[if lt IE 9]>\n",
       "<link rel=\"stylesheet\" type=\"text/css\" href=\"/theme_overrides/Respond/css/chimag-ie8.css?ver=1443881828\">\n",
       "<![endif]-->\n",
       "<!--[if gt IE 7]>\n",
       "<link rel=\"stylesheet\" type=\"text/css\" href=\"/theme_overrides/Respond/css/chimag-ie.css?ver=1381349768\">\n",
       "<![endif]-->\n",
       "<script>\n",
       "var ad_category = \"Restaurants and Bars\";\n",
       "</script>\n",
       "<script>\n",
       "window.editorIdMap = new Object;\n",
       "editorIdMap['120'] = {'mid': 1425,'view': 'edit_report'};\n",
       "editorIdMap['120'] = {'mid': 1426,'view': 'edit_report'};\n",
       "editorIdMap['122'] = {'mid': 1431,'view': 'edit_gateway'};\n",
       "editorIdMap['77'] = {'mid': 1350,'view': 'edit_config'};\n",
       "editorIdMap['11'] = {'mid': 1387,'view': 'edit_user'};\n",
       "editorIdMap['80'] = {'mid': 1423,'view': ''};\n",
       "editorIdMap['80'] = {'mid': 1421,'view': ''};\n",
       "editorIdMap['60'] = {'mid': 1328,'view': ''};\n",
       "editorIdMap['60'] = {'mid': 1327,'view': ''};\n",
       "editorIdMap['136'] = {'mid': 1491,'view': 'edit_comment'};\n",
       "editorIdMap['60'] = {'mid': 1322,'view': ''};\n",
       "editorIdMap['138'] = {'mid': 1492,'view': ''};\n",
       "editorIdMap['133'] = {'mid': 1488,'view': ''};\n",
       "editorIdMap['19'] = {'mid': 81,'view': 'edit_moduledefinition'};\n",
       "editorIdMap['21'] = {'mid': 694,'view': 'edit_module'};\n",
       "editorIdMap['16'] = {'mid': 1386,'view': 'edit_group'};\n",
       "editorIdMap['128'] = {'mid': 1479,'view': 'edit_issueperiod'};\n",
       "editorIdMap['79'] = {'mid': 1333,'view': 'edit_publication'};\n",
       "editorIdMap['78'] = {'mid': 1334,'view': 'edit_issue'};\n",
       "editorIdMap['97'] = {'mid': 1357,'view': 'edit_content'};\n",
       "editorIdMap['94'] = {'mid': 1388,'view': ''};\n",
       "editorIdMap['17'] = {'mid': 1389,'view': 'edit_menu'};\n",
       "editorIdMap['72'] = {'mid': 1422,'view': 'edit_product'};\n",
       "editorIdMap['2'] = {'mid': 1332,'view': ''};\n",
       "editorIdMap['2'] = {'mid': 1339,'view': ''};\n",
       "editorIdMap['60'] = {'mid': 1329,'view': ''};\n",
       "editorIdMap['98'] = {'mid': 1336,'view': 'edit_survey'};\n",
       "editorIdMap['85'] = {'mid': 1338,'view': 'edit_newsletter'};\n",
       "editorIdMap['86'] = {'mid': 1337,'view': 'edit_gallery'};\n",
       "editorIdMap['123'] = {'mid': 1473,'view': 'edit_calendar'};\n",
       "editorIdMap['140'] = {'mid': 1493,'view': 'edit_menu'};\n",
       "editorIdMap['116'] = {'mid': 1406,'view': 'edit_wrapper'};\n",
       "editorIdMap['118'] = {'mid': 1419,'view': 'edit_form'};\n",
       "editorIdMap['132'] = {'mid': 1489,'view': 'edit_geobase'};\n",
       "editorIdMap['134'] = {'mid': 1490,'view': 'edit_videochannel'};\n",
       "editorIdMap['130'] = {'mid': 1480,'view': 'edit_pageposition'};\n",
       "editorIdMap['117'] = {'mid': 1418,'view': 'edit_campaign'};\n",
       "editorIdMap['69'] = {'mid': 1424,'view': 'edit_category'};\n",
       "editorIdMap['115'] = {'mid': 1335,'view': 'edit_page'};\n",
       "editorIdMap['60'] = {'mid': 1325,'view': ''};\n",
       "editorIdMap['121'] = {'mid': 1430,'view': 'edit_shipcarrier'};\n",
       "editorIdMap['2'] = {'mid': 1340,'view': ''};\n",
       "editorIdMap['144'] = {'mid': 1495,'view': 'edit_recurring'};\n",
       "editorIdMap['146'] = {'mid': 1499,'view': 'edit_section'};\n",
       "editorIdMap['148'] = {'mid': 1501,'view': ''};\n",
       "editorIdMap['153'] = {'mid': 1505,'view': ''};\n",
       "editorIdMap['154'] = {'mid': 1506,'view': ''};\n",
       "editorIdMap['155'] = {'mid': 1507,'view': ''};\n",
       "editorIdMap['115'] = {'mid': 1360,'view': 'edit_page'};\n",
       "editorIdMap['126'] = {'mid': 1478,'view': 'edit_customtable'};\n",
       "editorIdMap['147'] = {'mid': 1500,'view': ''};\n",
       "editorIdMap['150'] = {'mid': 1502,'view': ''};\n",
       "editorIdMap['149'] = {'mid': 1503,'view': ''};\n",
       "editorIdMap['131'] = {'mid': 1481,'view': 'edit_tag'};\n",
       "editorIdMap['145'] = {'mid': 1496,'view': 'edit_redirect'};\n",
       "editorIdMap['143'] = {'mid': 1494,'view': 'edit_creditcardtype'};\n",
       "editorIdMap['156'] = {'mid': 1510,'view': ''};\n",
       "editorIdMap['119'] = {'mid': 1420,'view': 'edit_user'};\n",
       "editorIdMap['126'] = {'mid': 1512,'view': 'edit_customtable'};\n",
       "editorIdMap['158'] = {'mid': 1513,'view': ''};\n",
       "editorIdMap['157'] = {'mid': 1511,'view': ''};\n",
       "var pagetype = 'article';\n",
       "var admin_edit_itemid = '19495';\n",
       "var admin_edit_text = 'Edit Article';\n",
       "var admin_edit_link_extras = '';\n",
       "editorIdMap['article'] = {'mid': 1335,'view': 'edit_page'};\n",
       "editorIdMap['content'] = {'mid': 1360,'view': 'edit_page'};\n",
       "editorIdMap['cde'] = {'mid': 1512,'view': 'edit_customtable'};\n",
       "editorIdMap['cde_record'] = {'mid': 1512,'view': 'edit_customdata'};\n",
       "editorIdMap['evergreen'] = {'mid': 1335,'view': 'edit_page'};\n",
       "editorIdMap['issue'] = {'mid': 1360,'view': 'edit_page'};\n",
       "editorIdMap['publication'] = {'mid': 1360,'view': 'edit_page'};\n",
       "</script>\n",
       "<script src=\"/theme_overrides/Respond/js/edit_from_site.js?ver=1446828087\"></script><link href=\"/core/media/css/edit_from_site.css\" rel=\"stylesheet\" type=\"text/css\"/></meta></meta></meta></meta></meta></meta></meta></link></link></meta></meta></meta></head>\n",
       "<body class=\"land long tpl-article din\" id=\"page_htmlid_19495\">\n",
       "<script>\n",
       "  var timestamp = 'Aug%2005%202019%2020:38';\n",
       "</script>\n",
       "<style>\n",
       "/*--- Mobile Reveal bar ---*/\n",
       "#reveal-bar-mobile {\n",
       "  background: rgba(255,255,255,.95);\n",
       "  border-bottom: 1px solid #aaa;\n",
       "  display: none;\n",
       "  padding: 11px 10px 9px 0;\n",
       "  position: fixed;\n",
       "  width: 100%;\n",
       "  -webkit-transform: translate3d(0,-80px,0);\n",
       "  -moz-transform   : translate3d(0,-80px,0);\n",
       "  -o-transform     : translate3d(0,-80px,0);\n",
       "  -mstransform     : translate3d(0,-80px,0);\n",
       "  transform        : translate3d(0,-80px,0);\n",
       "  transition       : 1s ease-in-out;\n",
       "  z-index          : 99999;\n",
       "}\n",
       "#reveal-bar-mobile.reveal-bar-show {\n",
       "  -webkit-transform: translate3d(0,0,0);\n",
       "  -moz-transform: translate3d(0,0,0);\n",
       "  -o-transform: translate3d(0,0,0);\n",
       "  -mstransform: translate3d(0,0,0);\n",
       "  transform: translate3d(0,0,0);\n",
       "}\n",
       "#reveal-bar-mobile .reveal-share-buttons {\n",
       "  float: right;\n",
       "  margin-right: 10px;\n",
       "  /*width: 72px;*/\n",
       "}\n",
       "#reveal-bar-mobile .reveal-share-buttons li {\n",
       "  margin: 0 5px;\n",
       "}\n",
       "#reveal-bar-mobile .reveal-share-buttons li a {\n",
       "  height: 30px;\n",
       "  width: 30px;\n",
       "  border-radius: 15px;\n",
       "  padding-top: 6px;\n",
       "}\n",
       "#reveal-bar-mobile .reveal-share-buttons li i {\n",
       "  font-size: 18px;\n",
       "}\n",
       "\n",
       "button#reveal-bar-mobile-sections-button {\n",
       "  background: none;\n",
       "  color: #666;\n",
       "  font-size: 16px;\n",
       "  font-style: normal;\n",
       "\n",
       "  margin: 0;\n",
       "  padding: 8px 10px 5px;\n",
       "}\n",
       "\n",
       ".reveal-bar-mobile-section {\n",
       "  width: 100%;\n",
       "}\n",
       "\n",
       ".reveal-bar-mobile-section-link,\n",
       ".reveal-bar-mobile-section-link:hover,\n",
       ".reveal-bar-mobile-section-link:active,\n",
       ".reveal-bar-mobile-section-link:visited {\n",
       "  background: #222;\n",
       "  border-bottom: 1px solid #aaa;\n",
       "  -moz-box-sizing: border-box; -webkit-box-sizing: border-box; box-sizing: border-box;\n",
       "  color: #f0f0f0;\n",
       "  display: table-cell;\n",
       "  font-family: \"proxima-nova\",sans-serif;\n",
       "  font-size: 20px;\n",
       "  padding: 0 10px;\n",
       "  vertical-align: middle;\n",
       "  width: 100%;\n",
       "}\n",
       "..reveal-bar-mobile-section-link:on\n",
       ".reveal-bar-mobile-section-link.reveal-bar-mobile-section-link-close {\n",
       "  font-size: 16px;\n",
       "  font-weight: 100%;\n",
       "  padding-right: 20px;\n",
       "  /*text-align: right;*/\n",
       "  text-transform: uppercase;\n",
       "}\n",
       "\n",
       "#reveal-bar-mobile-sections {\n",
       "  display: none;\n",
       "  position: fixed;\n",
       "  top: 20px;\n",
       "  -webkit-transform: translate3d(0,-800px,0);\n",
       "  -moz-transform   : translate3d(0,-800px,0);\n",
       "  -o-transform     : translate3d(0,-800px,0);\n",
       "  -mstransform     : translate3d(0,-800px,0);\n",
       "  transform        : translate3d(0,-800px,0);\n",
       "  transition       : .5s ease-in-out;\n",
       "  width: 100%;\n",
       "  z-index: 998;\n",
       "}\n",
       "#reveal-bar-mobile-sections.show {\n",
       "  -webkit-transform: translate3d(0,0,0);\n",
       "  -moz-transform   : translate3d(0,0,0);\n",
       "  -o-transform     : translate3d(0,0,0);\n",
       "  -mstransform     : translate3d(0,0,0);\n",
       "  transform        : translate3d(0,0,0);\n",
       "}\n",
       "\n",
       "@media only screen and (max-width : 450px) {\n",
       "  #reveal-bar-mobile {\n",
       "    display: block;\n",
       "  }\n",
       "}\n",
       "</style>\n",
       "<div id=\"reveal-bar-mobile\">\n",
       "<button id=\"reveal-bar-mobile-sections-button\">More →</button>\n",
       "<ul class=\"reveal-share-buttons list-no-bullets clearfix\">\n",
       "<li class=\"fb\"><a href=\"https://www.facebook.com/sharer/sharer.php?u=http://www.chicagomag.com/Chicago-Magazine/November-2012/Best-Sandwiches-in-Chicago-Old-Oak-Tap-BLT/%3Futm_source=facebook.com%26utm_medium=referral%26utm_campaign=Facebook%20mobile%20reveal%20bar%2019495%20Aug%2005%202019%2020:38\" onclick=\"ga('send',  'event', 'Sharing', 'Facebook share from mobile reveal bar','1. Old Oak Tap BLT'); return socialPopup('https://www.facebook.com/sharer/sharer.php?u=http://www.chicagomag.com/Chicago-Magazine/November-2012/Best-Sandwiches-in-Chicago-Old-Oak-Tap-BLT/%3Futm_source=facebook.com%26utm_medium=referral%26utm_campaign=Facebook%20mobile%20reveal%20bar%2019495%20Aug%2005%202019%2020:38');\" target=\"_blank\"><i class=\"icon-facebook\"></i></a>\n",
       "</li>\n",
       "<li class=\"tw\"><a href=\"https://twitter.com/share?text=1.+Old+Oak+Tap+BLT&amp;url=http://www.chicagomag.com/Chicago-Magazine/November-2012/Best-Sandwiches-in-Chicago-Old-Oak-Tap-BLT/\" onclick=\"ga('send',  'event', 'Sharing', 'Tweet story from mobile reveal bar','1. Old Oak Tap BLT'); return tweetPopup('1.+Old+Oak+Tap+BLT','/Chicago-Magazine/November-2012/Best-Sandwiches-in-Chicago-Old-Oak-Tap-BLT/','mobile+reveal+bar+19495');\" target=\"_blank\"><i class=\"icon-twitter\"></i></a></li>\n",
       "</ul>\n",
       "</div>\n",
       "<ul class=\"list-no-bullets\" id=\"reveal-bar-mobile-sections\">\n",
       "<li class=\"reveal-bar-mobile-section\"><a class=\"reveal-bar-mobile-section-link\" href=\"/dining-drinking\" onclick=\"ga('send',  'event', 'Mobile reveal bar', 'Dining');\">Dining &amp; Drinking</a></li>\n",
       "<li class=\"reveal-bar-mobile-section\"><a class=\"reveal-bar-mobile-section-link\" href=\"/city-life\" onclick=\"ga('send',  'event', 'Mobile reveal bar', 'City Life');\">Politics &amp; City Life</a></li>\n",
       "<li class=\"reveal-bar-mobile-section\"><a class=\"reveal-bar-mobile-section-link\" href=\"/real-estate\" onclick=\"ga('send',  'event', 'Mobile reveal bar', 'Real Estate');\">Real Estate</a></li>\n",
       "<li class=\"reveal-bar-mobile-section\"><a class=\"reveal-bar-mobile-section-link\" href=\"/Chicago-Home\" onclick=\"ga('send',  'event', 'Mobile reveal bar', 'Home and Garden');\">Home &amp; Garden</a></li>\n",
       "<li class=\"reveal-bar-mobile-section\"><a class=\"reveal-bar-mobile-section-link\" href=\"/style-shopping\" onclick=\"ga('send',  'event', 'Mobile reveal bar', 'Style Shopping');\">Style &amp; Shopping</a></li>\n",
       "<li class=\"reveal-bar-mobile-section\"><a class=\"reveal-bar-mobile-section-link\" href=\"/video\" onclick=\"ga('send',  'event', 'Mobile reveal bar', 'Video');\">Video</a></li>\n",
       "<li class=\"reveal-bar-mobile-section\"><a class=\"reveal-bar-mobile-section-link reveal-bar-mobile-section-link-close\" href=\"javascript:void(0);\" onclick=\"jQuery('#reveal-bar-mobile-sections').removeClass('show');\"><i class=\"icon-remove\"></i></a></li>\n",
       "</ul>\n",
       "<script>\n",
       "  var mobile_sections_el = jQuery('#reveal-bar-mobile-sections');\n",
       "  if (document.documentElement.clientWidth <= 400) {\n",
       "    mobile_sections_el.show();\n",
       "  }\n",
       "  mobile_sections_el.css('top',jQuery('#reveal-bar-mobile').outerHeight() - 1)\n",
       "  jQuery('.reveal-bar-mobile-section-link')\n",
       "    .height((jQuery(window).height() - jQuery('#reveal-bar-mobile').height() - 50) / 7 - 2)\n",
       "    .width(mobile_sections_el.width())\n",
       "  jQuery('#reveal-bar-mobile-sections-button').on('click', function(){\n",
       "    mobile_sections_el.toggleClass('show');\n",
       "  })\n",
       "</script>\n",
       "<div class=\"hidden-phone\" id=\"reveal-bar\">\n",
       "<div class=\"container\">\n",
       "<a class=\"logo background-logo-svg\" href=\"/\">Chicago magazine</a>\n",
       "<div class=\"input-append\">\n",
       "<form action=\"http://www.chicagomag.com/search?from=revealbar&amp;\" id=\"reveal-bar-search\" name=\"revealBarSearch\"><input class=\"text clean\" id=\"reveal-bar-input\" name=\"q\" placeholder=\"Search\" type=\"text\"/>\n",
       "<button id=\"reveal-bar-button\"><i class=\"icon-search\"></i></button>\n",
       "</form>\n",
       "</div>\n",
       "<div id=\"article-reveal-share\">\n",
       "<span class=\"article-reveal-share-intro\">Share this story</span>\n",
       "<ul class=\"reveal-share-buttons list-no-bullets clearfix\">\n",
       "<li class=\"fb\"><a href=\"https://www.facebook.com/sharer/sharer.php?u=http://www.chicagomag.com/Chicago-Magazine/November-2012/Best-Sandwiches-in-Chicago-Old-Oak-Tap-BLT/%3Futm_source=facebook.com%26utm_medium=referral%26utm_campaign=Facebook%20reveal%20bar%2019495%20Aug%2005%202019%2020:38\" onclick=\"ga('send', 'event','Sharing', 'Facebook share from reveal bar','1. Old Oak Tap BLT'); return socialPopup('https://www.facebook.com/sharer/sharer.php?u=http://www.chicagomag.com/Chicago-Magazine/November-2012/Best-Sandwiches-in-Chicago-Old-Oak-Tap-BLT/%3Futm_source=facebook.com%26utm_medium=referral%26utm_campaign=Facebook%20share%20reveal%20bar%2019495%20Aug%2005%202019%2020:38');\" target=\"_blank\"><i class=\"icon-facebook\"></i></a>\n",
       "</li>\n",
       "<li class=\"tw\"><a href=\"https://twitter.com/share?text=1.+Old+Oak+Tap+BLT&amp;url=http://www.chicagomag.com/Chicago-Magazine/November-2012/Best-Sandwiches-in-Chicago-Old-Oak-Tap-BLT/\" onclick=\"ga('send', 'event','Sharing', 'Tweet story from reveal bar','1. Old Oak Tap BLT'); return tweetPopup('1.+Old+Oak+Tap+BLT','/Chicago-Magazine/November-2012/Best-Sandwiches-in-Chicago-Old-Oak-Tap-BLT/','reveal+bar+19495');\" target=\"_blank\"><i class=\"icon-twitter\"></i></a></li>\n",
       "<li class=\"eml\"><a href=\"#\" onclick=\"window.open('/core/pagetools.php?url=%2FChicago-Magazine%2FNovember-2012%2FBest-Sandwiches-in-Chicago-Old-Oak-Tap-BLT%2Findex.php&amp;mode=email','emailThisPage','status=no,scrollbars=yes,resizable=yes,width=420,height=540'); ga('send', \n",
       "      'event','Sharing', 'Email story from reveal bar','1. Old Oak Tap BLT'); return false;\" url=\"email this page\"><i class=\"icon-envelope\"></i></a></li>\n",
       "</ul>\n",
       "</div>\n",
       "</div>\n",
       "</div>\n",
       "<a class=\"edit_from_site\" content_id=\"interstitial-newsletter\" href=\"#\" media_id=\"83\">Edit Module</a>\n",
       "<style>\n",
       "  \n",
       "\n",
       "#cta-backdrop {\n",
       "  background: #fff;\n",
       "  opacity: .97;\n",
       "  display: none;\n",
       "}\n",
       ".modal#cta-modal {\n",
       "  background: #eee;\n",
       "  margin-top: 0;\n",
       "  display: none;\n",
       "  box-shadow: 3px 3px 12px rgba(0,0,0,0.2);\n",
       "  overflow: auto;\n",
       "  border-top: 8px solid #000;\n",
       "}\n",
       ".modal-close {\n",
       "  background:none;\n",
       "  color: #ff0000;\n",
       "  font-weight: 300;\n",
       "  font-size: 20px;\n",
       "  font-style: normal;\n",
       "  opacity: 1;\n",
       "  text-align: right;\n",
       "  width: 100%;\n",
       "}\n",
       ".modal-close:hover {\n",
       "  background: none;\n",
       "  color: black;\n",
       "  opacity: 1;\n",
       "}\n",
       "#cta-modal p.cta-p {\n",
       "  color: #333 !important;\n",
       "  font-size: 18px;\n",
       "  line-height: normal;\n",
       "  text-align: center;\n",
       "  margin-bottom: 15px;\n",
       "}\n",
       ".btn-nothanks, .btn-nothanks:hover {\n",
       "  border: none !important;\n",
       "  background: none !important;\n",
       "  color: #666 !important;\n",
       "}\n",
       "#cta-modal .modal-body {\n",
       "  padding: 30px;\n",
       "  height: auto;\n",
       "  max-height: none;\n",
       "}\n",
       "#cta-modal label {\n",
       "  color: #333;\n",
       "  text-align: center;\n",
       "  margin-top: 5px;\n",
       "  margin-bottom: 5px;\n",
       "}\n",
       "h2.cta-h2 {\n",
       "  font-size: 45px;\n",
       "  text-align: center;\n",
       "  margin-bottom: 10px;\n",
       "}\n",
       "#cta-modal .btn-large {\n",
       "  width: 200px;\n",
       "  -moz-box-sizing: border-box; -webkit-box-sizing: border-box; box-sizing: border-box;\n",
       "}\n",
       ".cta-buttons {\n",
       "  width: 200px;\n",
       "  margin: 15px auto 0;\n",
       "}\n",
       "#cta-form {\n",
       "  /*text-align: center;*/\n",
       "  width: 200px;\n",
       "  margin: 10px auto;\n",
       "}\n",
       "#cta-form input[type=text] {\n",
       "  -moz-box-sizing: border-box; -webkit-box-sizing: border-box; box-sizing: border-box;\n",
       "  height: 40px;\n",
       "  width: 200px;\n",
       "}\n",
       ".cta-neveragain {\n",
       "  text-align: right;\n",
       "  font-size: 10px;\n",
       "  text-transform: uppercase;\n",
       "  text-decoration: none;\n",
       "}\n",
       ".cta-neveragain a {\n",
       "  color: #999;\n",
       "}\n",
       ".cta-neveragain a:hover {\n",
       "  color: #666;\n",
       "}\n",
       "#cta-newsletters-outer {\n",
       "  max-width: 300px;\n",
       "  margin: 0 auto;\n",
       "}\n",
       "a.cta-checkbox {\n",
       "  padding-left: 25px;\n",
       "  padding-bottom: 10px;\n",
       "  background-repeat: no-repeat;\n",
       "  background-position: 0 2px;\n",
       "  background-image: url('http://media.chicagomag.com/img/checkbox-check.png');\n",
       "  cursor: pointer;\n",
       "  color: #000;\n",
       "  display: block;\n",
       "  font-size: 16px;\n",
       "  margin-bottom: 5px;\n",
       "  transition: none;\n",
       "}\n",
       "a.cta-checkbox:hover {\n",
       "  color: #ff0000;\n",
       "}\n",
       "a.cta-checkbox-yes {\n",
       "  background-position: 0px -83px;\n",
       "  color: #666;\n",
       "}\n",
       "a.cta-checkbox-yes:hover {\n",
       "  color: #666;\n",
       "}\n",
       "#cta-modal .form-error {\n",
       "  margin-bottom: 15px;\n",
       "}\n",
       "#cta-modal .checkbox input[type=\"checkbox\"] {\n",
       "  /*top: 7px;*/\n",
       "  margin-left: initial;\n",
       "}\n",
       "\n",
       "@media screen and (max-width: 420px) {\n",
       "  .modal#cta-modal {\n",
       "    border-top: none;\n",
       "  }\n",
       "  #cta-modal .modal-body {\n",
       "    padding: 8px;\n",
       "  }\n",
       "  h2.cta-h2 {\n",
       "    font-size: 30px;\n",
       "  }\n",
       "  a.cta-checkbox {\n",
       "    padding-bottom: 3px;\n",
       "  }\n",
       "}\n",
       "\n",
       "\n",
       "@media screen and (min-width: 420px) {\n",
       "  .modal#cta-modal {\n",
       "    /*Logo, 300x60, #eee background*/\n",
       "    background-image: url('data:image/png;base64,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');\n",
       "    background-position: top center;\n",
       "    background-repeat: no-repeat;\n",
       "    background-size: 200px;\n",
       "  }\n",
       "  #cta-modal-content {\n",
       "    padding-top: 40px;\n",
       "  }\n",
       "}\n",
       "\n",
       "\n",
       "  \n",
       "</style>\n",
       "<script>\n",
       "var which = '';\n",
       "</script>\n",
       "<div aria-hidden=\"true\" class=\"modal-backdrop\" id=\"cta-backdrop\" style=\"display: none;\"></div>\n",
       "<div class=\"modal\" id=\"cta-modal\" style=\"display: none;\">\n",
       "<div class=\"modal-body\">\n",
       "<button aria-hidden=\"true\" class=\"close modal-close cta-close\" data-dismiss=\"modal\" id=\"cta-close\" type=\"button\">X</button>\n",
       "<div id=\"cta-modal-content\"></div>\n",
       "</div><!--/.modal-body-->\n",
       "</div><!--/.modal-->\n",
       "<style>#print-only-logo {display: none;}</style>\n",
       "<img alt=\"\" height=\"129\" id=\"print-only-logo\" src=\"http://media.chicagomag.com/img/chicagomag-logo-black-with-magazine.svg\" width=\"573\"/>\n",
       "<!-- Temporary peeking refer — use sparingly, for last-minute promos sitewide. Also removes red \"punch\" from #global-nav-subscribe Subscribe button, so that this call to action is more defined. -->\n",
       "<!-- \n",
       "<style>\n",
       "a#peek {\n",
       "  box-sizing: border-box;\n",
       "  display: block;\n",
       "  background: red;\n",
       "  height: 0;\n",
       "\n",
       "  color: red;\n",
       "  text-align: center;\n",
       "  font-weight: 400;\n",
       "}\n",
       "\n",
       "a#peek:hover {\n",
       "  color: white !important;\n",
       "  cursor: pointer;\n",
       "  cursor: hand;\n",
       "  background: #dd0000;\n",
       "}\n",
       "\n",
       "a#peek.show {\n",
       "  height: 48px;\n",
       "  padding: 10px 5px;\n",
       "  border-bottom: 8px solid black;\n",
       "  color: white !important;\n",
       "}\n",
       "\n",
       "#global-nav-subscribe {\n",
       "  background    : none;\n",
       "  border-radius : 0 !important;\n",
       "  color         : #aaa !important;\n",
       "  display       : initial !important;\n",
       "  padding       : initial !important;\n",
       "}\n",
       "\n",
       "ul.member-nav li a#global-nav-subscribe:hover {\n",
       "  border-bottom: 1px solid #ff0000;\n",
       "  background: initial !important;\n",
       "}\n",
       "\n",
       "@media (max-width: 767px) {\n",
       "  a#peek {\n",
       "    display: none;\n",
       "  }\n",
       "}\n",
       "\n",
       "</style>\n",
       " -->\n",
       "<!-- \n",
       "<a id=\"peek\" href=\"/Chicago-Magazine/Promotion/Secret-Supper/Purchase-Tickets/\" onclick=\"ga('send', 'event', 'Global nav', 'Top peeking refer');\">\n",
       "  Last call for Secret Supper tickets! Click here for more info.\n",
       "</a>\n",
       "\n",
       " -->\n",
       "<!-- slide down temporary peeking refer -->\n",
       "<!-- \n",
       "<script>\n",
       "\n",
       "jQuery( document ).ready(function() {\n",
       "  if (document.documentElement.clientWidth > 600)  {\n",
       "    jQuery(\"#peek\").addClass(\"show\");\n",
       "  } else {\n",
       "    jQuery(\"#peek\").hide();\n",
       "  }\n",
       "});\n",
       "\n",
       "</script>\n",
       " -->\n",
       "<style>\n",
       "  ul.sub {\n",
       "    z-index: 99999999 !important;\n",
       "  }\n",
       "</style>\n",
       "<header class=\"global\">\n",
       "<nav>\n",
       "<!--============================================\n",
       "    =            Top part of global nav            =\n",
       "    =============================================-->\n",
       "<div class=\"top3\">\n",
       "<div class=\"cell one\">\n",
       "<a class=\"search-open\" href=\"javascript:;\"><i class=\"icon-search\"></i></a>\n",
       "<div class=\"search\">\n",
       "<gcse:searchbox-only></gcse:searchbox-only>\n",
       "</div>\n",
       "</div>\n",
       "<div class=\"cell two\">\n",
       "<h1 class=\"din land\">\n",
       "<a href=\"/dining-drinking\">Dining<span class=\"new-amp\">&amp;</span>Drinking</a>\n",
       "</h1>\n",
       "<h1 class=\"dg land\">\n",
       "<a href=\"/Chicago-Magazine/Dining/Dining-Guide/\">Chicago’s Best Restaurants</a>\n",
       "</h1>\n",
       "<h1 class=\"art land\">\n",
       "<a href=\"/arts-culture\">Arts<span class=\"new-amp\">&amp;</span>Culture</a>\n",
       "</h1>\n",
       "<h1 class=\"pcl land\">\n",
       "<!-- <a href=\"/city-life\">P<span style=\"display: inline-block; margin-right: 0px;\">o</span>litics<i class=\"amp\"><span>&amp;</span></i>City<span style=\"display: inline-block; margin-right: -2px;\">&nbsp; </span>Life<span style=\"display: inline-block; width: 12px;\"></span></a> -->\n",
       "<a href=\"/city-life\">Politics<span class=\"new-amp\">&amp;</span>City Life</a>\n",
       "</h1>\n",
       "<h1 class=\"ren land\">\n",
       "<a href=\"/real-estate\">Real Estate</a>\n",
       "</h1>\n",
       "<h1 class=\"sty land\">\n",
       "<a href=\"/style-shopping\">Style<span class=\"new-amp\">&amp;</span>Shopping</a>\n",
       "</h1>\n",
       "<h1 class=\"hg land\">\n",
       "<a href=\"/Chicago-Home\">Home Design</a>\n",
       "</h1>\n",
       "<h1 class=\"hel land\">\n",
       "<a href=\"/Health-Wellness\">Health<span class=\"new-amp\">&amp;</span>Wellness</a>\n",
       "</h1>\n",
       "<h1 class=\"trv land\">\n",
       "<a href=\"/travel\">Travel</a>\n",
       "</h1>\n",
       "<h1 class=\"vid land\">\n",
       "<a href=\"/video\">Video</a>\n",
       "</h1>\n",
       "<h1 class=\"boc land\">\n",
       "<a href=\"http://www.chicagomag.com/Chicago-Magazine/August-2018/Best-of-Chicago/\">Best of Chicago</a>\n",
       "</h1>\n",
       "<h1 class=\"mkt land\">\n",
       "<a href=\"/Chicago-Magazine/Classifieds/\">Marketplace<span class=\"new-amp\">&amp;</span>Classifieds</a>\n",
       "</h1>\n",
       "<h1>\n",
       "<a class=\"logo background-logo-svg\" href=\"/\" onclick=\"ga('send', 'event', 'Global nav', 'Home from main logo');\">Chicago</a>\n",
       "</h1>\n",
       "</div>\n",
       "<div class=\"cell three\">\n",
       "<ul class=\"member-nav\">\n",
       "<li><a href=\"/subscribe\" id=\"global-nav-subscribe\" onclick=\"ga('send', 'event', 'Global nav', 'Subscribe');\">Subscribe</a>\n",
       "<span class=\"red\">/</span>\n",
       "<a href=\"/customerservice\" onclick=\"ga('send', 'event', 'Global nav', 'Customer Service');\">Customer Service</a></li>\n",
       "<li><a href=\"/newsletters\" onclick=\"ga('send', 'event', 'Global nav', 'Newsletters');\">Newsletters</a> </li>\n",
       "</ul>\n",
       "</div>\n",
       "</div>\n",
       "<!--====  End of Top part of global nav  ====-->\n",
       "<!--=====================================\n",
       "    =            Global nav menus           =\n",
       "    ======================================-->\n",
       "<ul id=\"page-nav\">\n",
       "<li style=\"white-space: nowrap;\"><a class=\"pcl\" href=\"/city-life\" onclick=\"ga('send', 'event', 'Global nav', 'Politics and city life');\">Politics <span class=\"new-amp\">&amp;</span><br/> City Life</a>\n",
       "<ul class=\"sub\">\n",
       "<li><a href=\"/Chicago-Magazine/September-2018/Best-Public-Schools/\" onclick=\"ga('send', 'event', 'Global nav', 'Best Public Schools');\">Best Public Schools</a>\n",
       "<li><a href=\"/Chicago-Magazine/September-2017/Best-Private-Schools/\" onclick=\"ga('send', 'event', 'Global nav', 'Best Private Schools');\">Best Private Schools</a>\n",
       "<!--<li><a href=\"/Chicago-Magazine/June-2017/Whos-Got-Next/\" onclick=\"ga('send', 'event', 'Global nav', 'Power 50');\">Emerging Power List</a>-->\n",
       "<li><a href=\"/Chicago-Magazine/April-2019/Whos-Got-Next/\" onclick=\"ga('send', 'event', 'Global nav', 'Power 50');\">Emerging Power List</a>\n",
       "<!-- <li><a href=\"/topdocs\" onclick=\"ga('send', 'event', 'Global nav', 'Top Docs');\">Top Docs</a></li> -->\n",
       "<!-- <li><a href=\"/Chicago-Magazine/January-2017/Top-Cancer-Doctors/\" onclick=\"ga('send', 'event', 'Global nav', 'Top Cancer Docs');\">Top Cancer Docs</a></li> -->\n",
       "<li><a href=\"/topic/?archive=crime-law\" onclick=\"ga('send', 'event', 'Global nav', 'Crime and Law');\">Crime &amp; Law</a></li>\n",
       "<li><a href=\"/topic/?archive=politics\" onclick=\"ga('send', 'event', 'Global nav', 'Politics');\">Politics</a></li>\n",
       "<li><a href=\"/topic/?archive=the-urbanist\" onclick=\"ga('send', 'event', 'Global nav', 'The Urbanist');\">The Urbanist</a></li>\n",
       "<li><a href=\"/Chicago-Magazine/Felsenthal-Files/\" onclick=\"ga('send', 'event', 'Global nav', 'Felsenthal');\" style=\"font-size: 13px; letter-spacing: -0.1px;\">Articles by Carol Felsenthal</a></li>\n",
       "<!-- <li><a href=\"/topic/?archive=whet-moser\" onclick=\"ga('send', 'event', 'Global nav', 'Whet');\">Articles by Whet Moser</a></li> -->\n",
       "</li></li></li></ul>\n",
       "</li>\n",
       "<!-- Dining & Drinking -->\n",
       "<li><a class=\"din\" href=\"/dining-drinking\" onclick=\"ga('send', 'event', 'Global nav', 'Dining');\">Dining <span class=\"new-amp\">&amp;</span><br/> Drinking</a>\n",
       "<ul class=\"sub\">\n",
       "<li><a href=\"http://www.chicagomag.com/secretsupper\" onclick=\"ga('send', 'event', 'Global nav', 'Secret Supper');\">Secret Supper</a></li>\n",
       "<li><a href=\"/topic/?archive=restaurant-reviews\" onclick=\"ga('send', 'event', 'Global nav', 'Restaurant reviews');\">Restaurant Reviews</a></li>\n",
       "<li><a href=\"/hotlist\" onclick=\"ga('send', 'event', 'Global nav', 'Hot list');\">The Hot List</a></li>\n",
       "<li><a href=\"/brunch\" onclick=\"ga('send', 'event', 'Global nav', 'Brunch');\">Brunch</a></li>\n",
       "<li><a href=\"/topic/?archive=bars-drinking\" onclick=\"ga('send', 'event', 'Global nav', 'Bars and drinking');\">Bars &amp; Drinking</a></li>\n",
       "<li><a href=\"/Chicago-Magazine/February-2017/Best-Bars/\" onclick=\"ga('send', 'event', 'Global nav', 'Best Bars');\">Best Bars</a>\n",
       "<li><a href=\"/Chicago-Magazine/April-2019/Best-New-Restaurants/\" onclick=\"ga('send', 'event', 'Global nav', 'Best New Restaurants');\">Best New Restaurants</a></li>\n",
       "<li><a href=\"/Chicago-Magazine/July-2010/Photos-Best-Pizzas-in-Chicago/\" onclick=\"ga('send', 'event', 'Global nav', 'Best Pizza');\">Best Pizzas</a></li>\n",
       "<li><a href=\"/steakhouses\" onclick=\"ga('send', 'event', 'Global nav', 'Best steakhouses');\">Best Steakhouses</a></li>\n",
       "<li><a href=\"/Chicago-Magazine/November-2014/Cheap-Eats-Chicago/\" onclick=\"ga('send', 'event', 'Global nav', 'Best cheap eats');\">Best Cheap Eats</a></li>\n",
       "<li><a href=\"/takeout\" onclick=\"ga('send', 'event', 'Global nav', 'Best takeout');\">Best Takeout</a></li>\n",
       "<li><a href=\"/dining-drinking/July-2018/The-50-Best-Restaurants-in-Chicago/\" onclick=\"ga('send', 'event', 'Global nav', '50 Best Restaurants');\">Chicago’s Best Restaurants</a>\n",
       "<!-- <li><a href=\"/video/Inside-Chicagos-Best-Restaurants/\" onclick=\"ga('send', 'event', 'Global nav', 'Dining video series');\">Video: Inside Chicago’s Best Restaurants</a> -->\n",
       "<!-- <li><a href=\"/video/Inside-Chicagos-Best-Bars/\" onclick=\"ga('send', 'event', 'Global nav', 'Dining video series bars');\">Video: Inside Chicago’s Best Bars</a> -->\n",
       "<!-- <li><a href=\"http://www.chicagomag.com/video/In-the-Kitchen/\" onclick=\"ga('send', 'event', 'Global nav', 'Dining video series In Season');\">Video: In the Kitchen</a> -->\n",
       "<li class=\"nav-sub-search clearfix\"><div class=\"margin-bottom-5\">Search Chicago’s Best Restaurants:</div>\n",
       "<form action=\"/Chicago-Magazine/Dining/Dining-Guide/index.php?\" method=\"get\">\n",
       "<input name=\"search\" type=\"text\"/>\n",
       "<button onclick=\"ga('send', 'event', 'Global nav', 'Search Dining Guide');\">Go</button>\n",
       "</form>\n",
       "</li>\n",
       "</li></li></ul>\n",
       "</li>\n",
       "<!-- Arts & Culture -->\n",
       "<li><a class=\"art\" href=\"/arts-culture\" onclick=\"ga('send', 'event', 'Global nav', 'Arts');\">Arts <span class=\"new-amp\">&amp;</span><br> Culture</br></a>\n",
       "<ul class=\"sub\">\n",
       "<li><a href=\"/go\" onclick=\"ga('send', 'event', 'Global nav', 'Go Listings');\">The Go Listings</a></li>\n",
       "<li><a href=\"/topic/?archive=architecture\" onclick=\"ga('send', 'event', 'Global nav', 'Architecture');\">Architecture</a></li>\n",
       "<li><a href=\"/topic/?archive=art\" onclick=\"ga('send', 'event', 'Global nav', 'Art');\">Art</a></li>\n",
       "<li><a href=\"/topic/?archive=books\" onclick=\"ga('send', 'event', 'Global nav', 'Books');\">Books &amp; Readings</a></li>\n",
       "<li><a href=\"/topic/?archive=comedy\" onclick=\"ga('send', 'event', 'Global nav', 'Comedy');\">Comedy</a></li>\n",
       "<li><a href=\"/topic/?archive=dance\" onclick=\"ga('send', 'event', 'Global nav', 'Dance');\">Dance</a></li>\n",
       "<li><a href=\"/topic/?archive=lollapalooza\" onclick=\"ga('send', 'event', 'Global nav', 'Lollapalooza');\">Lollapalooza</a></li>\n",
       "<li><a href=\"/topic/?archive=pitchfork\" onclick=\"ga('send', 'event', 'Global nav', 'Pitchfork');\">Pitchfork </a></li>\n",
       "<li><a href=\"/topic/?archive=museums\" onclick=\"ga('send', 'event', 'Global nav', 'Museums');\">Museums</a></li>\n",
       "<li><a href=\"/topic/?archive=music\" onclick=\"ga('send', 'event', 'Global nav', 'Music');\">Music</a></li>\n",
       "<!-- <li><a href=\"/summer-music-festivals/\"  onclick=\"ga('send', 'event', 'Global nav', 'Summer music fests');\">Summer Music Festivals</a></li> -->\n",
       "<li><a href=\"/topic/?archive=theater\" onclick=\"ga('send', 'event', 'Global nav', 'Theater');\">Theater</a></li>\n",
       "<!-- <li><a href=\"/video/Inside-Chicagos-Best-Theater/\" onclick=\"ga('send', 'event', 'Global nav', 'Video Theater');\">Video: Inside Chicago’s Best Theater</a> -->\n",
       "<!-- <li><a href=\"/video/In-the-Studio/\" onclick=\"ga('send', 'event', 'Global nav', 'Video Inside the Studio');\">Video: Inside the Studio</a></li> -->\n",
       "</ul>\n",
       "</li>\n",
       "<!-- Real Estate -->\n",
       "<li><a class=\"ren\" href=\"/real-estate\" onclick=\"ga('send', 'event', 'Global nav', 'Real Estate + Neighborhoods');\">Home <span class=\"new-amp\">&amp;</span><br/> Real Estate</a>\n",
       "<ul class=\"sub\">\n",
       "<li><a href=\"/Chicago-Magazine/June-July-2019/Where-To-Buy-Now/\" onclick=\"ga('send', 'event', 'Global nav', 'Best neighborhoods');\">Where to Buy Now</a>\n",
       "<li><a href=\"/Field-Guides\" onclick=\"ga('send', 'event', 'Global nav', 'Field Guides');\">Neighborhood Field Guides</a></li>\n",
       "<li><a href=\"/real-estate\" onclick=\"ga('send', 'event', 'Global nav', 'Real Estate News');\">Real Estate News</a></li>\n",
       "<li><a href=\"/Chicago-Home\" onclick=\"ga('send', 'event', 'Global nav', 'Home + Garden');\">Home Design</a></li>\n",
       "</li></ul>\n",
       "</li>\n",
       "<!-- Style & Shopping -->\n",
       "<li><a class=\"sty\" href=\"/style-shopping\" onclick=\"ga('send', 'event', 'Global nav', 'Style + Shopping');\">Style <span class=\"new-amp\">&amp;</span> Shopping</a>\n",
       "<ul class=\"sub\">\n",
       "<li><a href=\"/topic/?archive=fashion\" onclick=\"ga('send', 'event', 'Global nav', 'Fashion');\">Fashion</a></li>\n",
       "<li><a href=\"/topic/?archive=sales-shopping\" onclick=\"ga('send', 'event', 'Global nav', 'Sales + Shopping News (under S+S)');\">Sales &amp; Shopping News</a></li>\n",
       "<li><a href=\"/topic/?archive=tastemakers\" onclick=\"ga('send', 'event', 'Global nav', 'Tastemakers');\">Taste Makers</a></li>\n",
       "</ul>\n",
       "</li>\n",
       "<!-- Health & Wellness  -->\n",
       "<li><a class=\"hg\" href=\"/Health-Wellness\" onclick=\"ga('send', 'event', 'Global nav', 'Health + Wellness');\">Health <span class=\"new-amp\">&amp;</span><br/> Wellness</a>\n",
       "<ul class=\"sub\">\n",
       "<li><a href=\"/Chicago-Magazine/Promotion/Fit-Society/\" onclick=\"ga('send', 'event', 'Global nav', 'Fit Society');\">Fit Society</a></li>\n",
       "<li><a href=\"/Health-Wellness\" onclick=\"ga('send', 'event', 'Global nav', 'Health + Wellness');\">Health News</a></li>\n",
       "<li><a href=\"/topdocs\" onclick=\"ga('send', 'event', 'Global nav', 'Top Docs');\">Top Docs</a></li>\n",
       "</ul>\n",
       "</li>\n",
       "<!-- Video -->\n",
       "<li id=\"red-hack-item\">\n",
       "<a href=\"https://www.youtube.com/user/chicagomag\" onclick=\"ga('send', 'event', 'Global nav', 'Video');\" target='_blank\"'>\n",
       "         <br/>\n",
       "<i id=\"red-hack\" style=\"\n",
       "        background-image: url(http://getbootstrap.com/2.3.2/assets/img/glyphicons-halflings.png); \n",
       "        display: inline-block;\n",
       "        filter: brightness(0) invert(1);\n",
       "        width: 18px;\n",
       "        height: 10px;\n",
       "        background-position: -335px -99px;\n",
       "        \"></i>Video</a>\n",
       "</li>\n",
       "<style>\n",
       "      i#red-hack.hover {\n",
       "        filter: sepia() saturate(10000%) hue-rotate(10deg) !important;\n",
       "      }\n",
       "      </style>\n",
       "<script>\n",
       "      jQuery('#red-hack-item').hover(\n",
       "        function() {\n",
       "          jQuery(this).children(\"a\").children(\"i#red-hack\").addClass( \"hover\" );\n",
       "        }, function() {\n",
       "          jQuery(this).children(\"a\").children(\"i#red-hack\").removeClass( \"hover\" );\n",
       "        }\n",
       "      );\n",
       "      </script>\n",
       "<!-- OLD VIDEO -->\n",
       "<!-- <li><a href=\"/video\" class=\"tra\" onclick=\"ga('send', 'event', 'Global nav', 'Video');\">&nbsp;<br>Video</a>\n",
       "        <ul class=\"sub\">\n",
       "          <li><a href=\"http://www.chicagomag.com/video/Chicagos-Great-Neighborhoods/\" onclick=\"ga('send', 'event', 'Global nav', 'Chicago’s Great Neighborhoods');\">Chicago’s Great Neighborhoods</a></li>\n",
       "          <li><a href=\"http://www.chicagomag.com/video/Inside-Chicagos-Best-Bars/\" onclick=\"ga('send', 'event', 'Global nav', 'Inside Chicago’s Best Bars');\">Inside Chicago’s Best Bars</a></li>\n",
       "          <li><a href=\"http://www.chicagomag.com/video/Inside-Chicagos-Best-Restaurants/\" onclick=\"ga('send', 'event', 'Global nav', 'Inside Chicago’s Best Restaurants');\">Inside Chicago’s Best Restaurants</a></li>\n",
       "          <li><a href=\"http://www.chicagomag.com/video/Inside-Chicagos-Best-Theater/\" onclick=\"ga('send', 'event', 'Global nav', 'Inside Chicago’s Best Theater');\">Inside Chicago’s Best Theater</a></li>\n",
       "          <li><a href=\"http://www.chicagomag.com/video/In-the-Studio\" onclick=\"ga('send', 'event', 'Global nav', 'Inside the Studio');\">Inside the Studio</a></li>\n",
       "          <li><a href=\"http://www.chicagomag.com/video/In-the-Kitchen/\" onclick=\"ga('send', 'event', 'Global nav', 'In Season');\">In the Kitchen</a></li>\n",
       "        </ul>\n",
       "      </li> -->\n",
       "<!-- Visitors Guide -->\n",
       "<li><a class=\"tra\" href=\"/Visitors-Guide/\" onclick=\"ga('send', 'event', 'Global nav', 'Visitors Guide');\">Visitor's <br/>Guide</a>\n",
       "<ul class=\"sub\">\n",
       "<li><a href=\"/Visitors-Guide/\" onclick=\"ga('send', 'event', 'Global nav', 'Visitors Guide');\">Visitor’s Guide</a></li>\n",
       "<li><a href=\"/travel\" onclick=\"ga('send', 'event', 'Global nav', 'Travel News');\">Travel News &amp; Features</a></li>\n",
       "</ul>\n",
       "</li>\n",
       "<!-- Best of Chicago -->\n",
       "<li style=\"flex-grow: 0;\">\n",
       "<a class=\"boc\" href=\"/Chicago-Magazine/August-2018/Best-of-Chicago/\" onclick=\"ga('send', 'event', 'Global nav', 'Best of Chicago');\">Best of<br> Chicago</br></a>\n",
       "</li>\n",
       "</ul>\n",
       "</nav>\n",
       "<!--====  End of Global nav menus ====-->\n",
       "</header>\n",
       "<!-- Begin Content Wrap -->\n",
       "<a class=\"edit_from_site\" content_id=\"leaderboard-1\" href=\"#\" media_id=\"83\">Edit Module</a>\n",
       "<style type=\"text/css\">\n",
       "      @media (max-width:735px) {\n",
       "    #div-gpt-ad-leaderboard-1 {\n",
       "          display:none !important;\n",
       "        }\n",
       "   }\n",
       "</style>\n",
       "<div class=\"ad ban\" id=\"div-gpt-ad-leaderboard-1\">\n",
       "<script>\n",
       "if (document.documentElement.clientWidth > 735) {\n",
       "googletag.cmd.push(function() {\n",
       "    googletag.display('div-gpt-ad-leaderboard-1');\n",
       "});\n",
       "}\n",
       "  </script>\n",
       "</div>\n",
       "<a class=\"edit_from_site\" content_id=\"mobile-leaderboard-1\" href=\"#\" media_id=\"83\">Edit Module</a>\n",
       "<style type=\"text/css\">\n",
       "      @media (min-width:736px) {\n",
       "    #div-gpt-ad-mobile-leaderboard-1 {\n",
       "          display:none !important;\n",
       "        }\n",
       "   }\n",
       "</style>\n",
       "<div class=\"mobile-ban-wrapper mobile-ban-fixed\">\n",
       "<div id=\"div-gpt-ad-mobile-leaderboard-1\" style=\"height: 50px; width:320px;margin: 0 auto;\">\n",
       "<script>\n",
       "if (document.documentElement.clientWidth < 736) {\n",
       "googletag.cmd.push(function() {\n",
       "    googletag.display('div-gpt-ad-mobile-leaderboard-1');\n",
       "})\n",
       "}\n",
       "  </script>\n",
       "</div>\n",
       "</div>\n",
       "<a class=\"edit_from_site\" content_id=\"mobile-leaderboard-2\" href=\"#\" media_id=\"83\">Edit Module</a>\n",
       "<style type=\"text/css\">\n",
       "      @media (min-width:736px) {\n",
       "    #div-gpt-ad-mobile-leaderboard-2 {\n",
       "          display:none !important;\n",
       "        }\n",
       "   }\n",
       "</style>\n",
       "<div class=\"mobile-ban-wrapper\" id=\"mobile-leaderboard-2\">\n",
       "<div id=\"div-gpt-ad-mobile-leaderboard-2\" style=\"width: 320px; height: 50px; margin: 0 auto;\">\n",
       "<script>\n",
       "if (document.documentElement.clientWidth < 736) {\n",
       "googletag.cmd.push(function() {\n",
       "    googletag.display('div-gpt-ad-mobile-leaderboard-2');\n",
       "})\n",
       "}\n",
       "  </script>\n",
       "</div>\n",
       "</div>\n",
       "<div id=\"content-wrap\">\n",
       "<!--- special treatment for stacked galleries in regular articles, removes first couple leaderboard ads in between -->\n",
       "<style>\n",
       "div.content.post div.super-gallery-stacked-photo-outer ~ div.ad.ban {\n",
       "  display: none;\n",
       "}\n",
       "</style>\n",
       "<!--- Begin Page -->\n",
       "<div class=\"long\" id=\"page\">\n",
       "<article class=\"container long\" id=\"article-19495\">\n",
       "<a class=\"edit_from_site\" content_id=\"789\" href=\"#\" media_id=\"97\">Edit Module</a><div class=\"story-label story-label-link\">\n",
       "<a href=\"http://www.chicagomag.com/Chicago-Magazine/November-2012/Best-Sandwiches-Chicago\">2012 Best Sandwiches</a>\n",
       "</div><a class=\"edit_from_site\" content_id=\"550\" href=\"#\" media_id=\"97\">Edit Module</a>\n",
       "<div id=\"article-header-image-container\">\n",
       "<header class=\"clearfix\">\n",
       "<!--- special toppers for repeat features -->\n",
       "<!--- special treatment for Urbanist -->\n",
       "<h1 class=\"headline\">1. Old Oak Tap BLT</h1>\n",
       "<h2 class=\"deck\">“Truly inspired.”</h2>\n",
       "<div class=\"article-meta clearfix\" id=\"article-meta\">\n",
       "<p class=\"timestamp\">Published Oct. 9, 2012</p>\n",
       "<section class=\"clearfix\" id=\"share-mini\">\n",
       "<ul class=\"story-share-buttons story-share-buttons-mini list-no-bullets clearfix\">\n",
       "<li class=\"fb\"><a href=\"https://www.facebook.com/sharer/sharer.php?u=http://www.chicagomag.com/Chicago-Magazine/November-2012/Best-Sandwiches-in-Chicago-Old-Oak-Tap-BLT/?utm_source=facebook.com%26utm_medium=referral%26utm_campaign=Facebook%20above%20story%2019495%20Aug%2005%202019%2020:38\" onclick=\"ga('send', 'event', 'Sharing', 'Facebook share from top of article','1. Old Oak Tap BLT');\n",
       "  return socialPopup('https://www.facebook.com/sharer/sharer.php?u=http://www.chicagomag.com/Chicago-Magazine/November-2012/Best-Sandwiches-in-Chicago-Old-Oak-Tap-BLT/%3Futm_source=facebook.com%26utm_medium=referral%26utm_campaign=Facebook%20above%20story%2019495%20Aug%2005%202019%2020:38');\" target=\"_blank\"><i class=\"icon-facebook\"></i></a>\n",
       "</li>\n",
       "<li class=\"tw\"><a href=\"https://twitter.com/share?text=1.+Old+Oak+Tap+BLT&amp;url=http://www.chicagomag.com/Chicago-Magazine/November-2012/Best-Sandwiches-in-Chicago-Old-Oak-Tap-BLT/\" onclick=\"ga('send', 'event', 'Sharing', 'Tweet story from top of article','1. Old Oak Tap BLT');\n",
       "    return tweetPopup('1.+Old+Oak+Tap+BLT','/Chicago-Magazine/November-2012/Best-Sandwiches-in-Chicago-Old-Oak-Tap-BLT/','19495');\n",
       "  \" target=\"_blank\"><i class=\"icon-twitter\"></i></a></li>\n",
       "<li class=\"eml\"><a href=\"#\" onclick=\"window.open('/core/pagetools.php?pageID=19495&amp;url=%2FChicago-Magazine%2FNovember-2012%2FBest-Sandwiches-in-Chicago-Old-Oak-Tap-BLT%2Findex.php&amp;mode=email','emailThisPage','status=no,scrollbars=yes,resizable=yes,width=420,height=540'); ga('send', 'event', 'Sharing', 'Email story (top of story)','1. Old Oak Tap BLT'); return false;\" url=\"email this page\"><i class=\"icon-envelope\"></i></a></li>\n",
       "<li class=\"prnt\"><a href=\"#\" onclick=\"window.open('/core/pagetools.php?pageid=19495&amp;url=%2FChicago-Magazine%2FNovember-2012%2FBest-Sandwiches-in-Chicago-Old-Oak-Tap-BLT%2Findex.php&amp;mode=print','printThisPage','status=no,toolbar=yes,menubar=yes,scrollbars=yes,resizable=yes,width=570'); ga('send', 'event', 'Sharing', 'Print story (top of story)' ,'1. Old Oak Tap BLT'); return false;\" target=\"_blank\" url=\"print this page\"><i class=\"icon-print\"></i></a></li>\n",
       "<li class=\"cmmnt\"><a href=\"javascript:void(0);\" onclick=\"jumpto('#comment',150);\"><i class=\"icon-comment\"></i></a></li>\n",
       "<li class=\"comment-count\"><a data-disqus-identifier=\"19495\" href=\"javascript:void(0);\" id=\"comment-count\" onclick=\"jumpto('#comment',150);\"></a></li>\n",
       "</ul>\n",
       "</section> </div> </header>\n",
       "<section class=\"caption main\">\n",
       "<figure>\n",
       "<div class=\"position-relative image-launch-wrapper\">\n",
       "<picture>\n",
       "<source media=\"(max-width: 320px)\" srcset=\"/images/cache/cache_6/cache_5/cache_a/01-Old-Oak-Trap-BLT-500-737a6a56.jpeg?ver=1483658044&amp;aspectratio=1.4634146341463, /images/cache/cache_9/cache_1/cache_0/01-Old-Oak-Trap-BLT-500-87972019.jpeg?ver=1483658044&amp;aspectratio=1.4619883040936 2x\"/>\n",
       "<source media=\"(max-width: 470px)\" srcset=\"/images/cache/cache_a/cache_9/cache_c/01-Old-Oak-Trap-BLT-500-64a12c9a.jpeg?ver=1483658044&amp;aspectratio=1.4754098360656, /images/cache/cache_b/cache_c/cache_0/01-Old-Oak-Trap-BLT-500-d13040cb.jpeg?ver=1483658044&amp;aspectratio=1.4749262536873 2x\"/>\n",
       "<source srcset=\"/images/cache/cache_2/cache_b/cache_6/01-Old-Oak-Trap-BLT-500-604ed6b2.jpeg?ver=1482330137&amp;aspectratio=1.4749262536873, /images/cache/cache_4/cache_0/cache_a/01-Old-Oak-Trap-BLT-500-dcc14a04.jpeg?ver=1483658044&amp;aspectratio=1.4749262536873 2x\"/>\n",
       "<img alt=\"\" height=\"420\" id=\"article-lead-image\" src=\"/images/cache/cache_2/cache_b/cache_6/01-Old-Oak-Trap-BLT-500-604ed6b2.jpeg?ver=1482330137&amp;aspectratio=1.4749262536873\" width=\"620\">\n",
       "</img></picture>\n",
       "<a class=\"launch bottom-right\" href=\"/Chicago-Magazine/November-2012/Best-Sandwiches-in-Chicago-Old-Oak-Tap-BLT/index.php?mode=popup&amp;cp=1&amp;view=slideshow&amp;play=0\" id=\"gallery-link\" style=\"display: none;\">Launch gallery</a>\n",
       "</div>\n",
       "<figcaption> <span class=\"photo-credit\">Photo: Anna Knott; Food stylist: Lisa Kuehl</span>\n",
       "</figcaption>\n",
       "</figure>\n",
       "</section>\n",
       "</div><!-- /#article-header-image-container -->\n",
       "<div class=\"content-and-sidebar\">\n",
       "<div class=\"content post\">\n",
       "<div class=\"fb-like fb-like-top\" data-href=\"http://www.chicagomag.com/Chicago-Magazine/November-2012/Best-Sandwiches-in-Chicago-Old-Oak-Tap-BLT/\" data-layout=\"box_count\" data-send=\"false\" data-share=\"true\" data-show-faces=\"false\" data-width=\"50\"></div>\n",
       "<p>\n",
       "\tThe B is applewood smoked—nice and snappy. The L is arugula—fresh and peppery. The T is a fried green slice—jacketed in cornmeal and greaseless. Slathered with pimiento cheese, the grilled ciabatta somehow stays crisp, providing three distinct layers of crunch. Truly inspired.</p>\n",
       "<p class=\"addy\">\n",
       "<em>$10. 2109 W. Chicago Ave., 773-772-0406, <a href=\"http://www.theoldoaktap.com/\">theoldoaktap.com</a></em></p>\n",
       "<aside class=\"story-nav-aside\">\n",
       "<a class=\"story-nav\" href=\"http://www.chicagomag.com/Chicago-Magazine/November-2012/Best-Sandwiches-in-Chicago-Phoebes-Bakery-The-Gatsby/\" id=\"story-nav-left\">\n",
       "<span class=\"previous\">Previous</span>\n",
       "<span class=\"story-nav-head\">50. The Gatsby</span>\n",
       "        Phoebe’s Bakery\n",
       "      </a>\n",
       "<a class=\"story-nav\" href=\"/Chicago-Magazine/November-2012/Best-Sandwiches-in-Chicago-Au-Cheval-Fried-Bologna/\" id=\"story-nav-right\">\n",
       "<span class=\"next\">Next</span>\n",
       "<span class=\"story-nav-head\">2. Fried Bologna</span>\n",
       "        Au Cheval\n",
       "        </a>\n",
       "</aside>\n",
       "<footer>This article appears in the <a href=\"/Chicago-Magazine/November-2012/\">November 2012</a> issue of <em> Chicago</em> magazine. <a href=\"http://www.chicagomag.com/subscribe\" onclick=\"ga('send',  'event','Refer clicks', 'Subscribe, article footer');\">Subscribe to <em>Chicago</em> magazine</a>.</footer>\n",
       "<div class=\"clearfix\"></div>\n",
       "<script>\n",
       "  var newsletterChoice = \"Dish\";\n",
       "</script>\n",
       "<div class=\"margin-top-10 margin-bottom-40\" id=\"footer-newsletter-subscribe\">\n",
       "<div class=\"lazyload\" data-url=\"/lazyloads/furniture/dish-subscribe-footer.html?2\" id=\"lazy-newsletter-footer\"> </div>\n",
       "</div>\n",
       "<script>\n",
       "  jQuery(function(){\n",
       "    // If the user has already subscribed to this newsletter, hide the footer form.\n",
       "    // In its stead, reveal the related articles and popular stories. (Super articles only.)\n",
       "    if (getCookie('subscribe-Dish') == 'true') {\n",
       "      jQuery('#footer-newsletter-subscribe').hide();\n",
       "      // jQuery('.show-if-no-newsletter-cta').show();\n",
       "    }\n",
       "    // else {\n",
       "    //   jQuery('.show-if-no-newsletter-cta').hide();\n",
       "    // }\n",
       "  })\n",
       "\n",
       "\n",
       "\n",
       "</script>\n",
       "<section class=\"clearfix\" id=\"share\">\n",
       "<h3>Share</h3>\n",
       "<ul class=\"story-share-buttons list-no-bullets clearfix\">\n",
       "<li class=\"fb\"><a href=\"https://www.facebook.com/sharer/sharer.php?u=http://www.chicagomag.com//Chicago-Magazine/November-2012/Best-Sandwiches-in-Chicago-Old-Oak-Tap-BLT/%3Futm_source=facebook.com%26utm_medium=referral%26utm_campaign=Facebook%20below%20story%2019495%20Aug%2005%202019%2020:38\" onclick=\"ga('send', 'event', 'Sharing', 'Facebook share from article','1. Old Oak Tap BLT');\n",
       "    return socialPopup('https://www.facebook.com/sharer/sharer.php?u=http://www.chicagomag.com//Chicago-Magazine/November-2012/Best-Sandwiches-in-Chicago-Old-Oak-Tap-BLT/%3Futm_source=facebook.com%26utm_medium=referral%26utm_campaign=Facebook%20below%20story%2019495%20Aug%2005%202019%2020:38');\" target=\"_blank\"><i class=\"icon-facebook\"></i></a>\n",
       "</li>\n",
       "<li class=\"tw\"><a href=\"https://twitter.com/share?text=1.+Old+Oak+Tap+BLT&amp;url=http://www.chicagomag.com/Chicago-Magazine/November-2012/Best-Sandwiches-in-Chicago-Old-Oak-Tap-BLT/\" onclick=\"ga('send', 'event', 'Sharing', 'Tweet story from article','1. Old Oak Tap BLT');\n",
       "    return tweetPopup('1.+Old+Oak+Tap+BLT','/Chicago-Magazine/November-2012/Best-Sandwiches-in-Chicago-Old-Oak-Tap-BLT/','19495');\n",
       "    \" target=\"_blank\"><i class=\"icon-twitter\"></i></a></li>\n",
       "<li class=\"eml\"><a href=\"#\" onclick=\"window.open('/core/pagetools.php?pageID=19495&amp;url=%2FChicago-Magazine%2FNovember-2012%2FBest-Sandwiches-in-Chicago-Old-Oak-Tap-BLT%2Findex.php&amp;mode=email','emailThisPage','status=no,scrollbars=yes,resizable=yes,width=420,height=540'); ga('send', 'event', 'Sharing', 'Email story','1. Old Oak Tap BLT'); return false;\" url=\"email this page\"><i class=\"icon-envelope\"></i></a></li>\n",
       "<li class=\"prnt\"><a href=\"#\" onclick=\"window.open('/core/pagetools.php?pageid=19495&amp;url=%2FChicago-Magazine%2FNovember-2012%2FBest-Sandwiches-in-Chicago-Old-Oak-Tap-BLT%2Findex.php&amp;mode=print','printThisPage','status=no,toolbar=yes,menubar=yes,scrollbars=yes,resizable=yes,width=570'); ga('send', 'event', 'Sharing', 'Print story' ,'1. Old Oak Tap BLT'); return false;\" target=\"_blank\" url=\"print this page\"><i class=\"icon-print\"></i></a></li>\n",
       "<li class=\"cmmnt\"><a href=\"javascript:void(0);\" onclick=\"jumpto('#comment',150);\"><i class=\"icon-comment\"></i></a></li>\n",
       "</ul>\n",
       "</section>\n",
       "<a class=\"edit_from_site\" content_id=\"ad-600-100\" href=\"#\" media_id=\"83\">Edit Module</a>\n",
       "<style type=\"text/css\">\n",
       "      @media (max-width:599px) {\n",
       "    #ad-600-100-outer {\n",
       "          display:none !important;\n",
       "        }\n",
       "   }\n",
       "</style>\n",
       "<div class=\"ad ban-600\" id=\"ad-600-100-outer\">\n",
       "<h2>Advertisement</h2>\n",
       "<div id=\"div-gpt-ad-600-100\"></div>\n",
       "<script>\n",
       "\n",
       "if (document.documentElement.clientWidth > 600) {\n",
       "googletag.cmd.push(function() {\n",
       "    googletag.display('div-gpt-ad-600-100');\n",
       "});\n",
       "}\n",
       "  </script>\n",
       "</div>\n",
       "<section id=\"related-articles\">\n",
       "<a class=\"title\" href=\"/dining-drinking\">Other Dining &amp; Drinking stories</a>\n",
       "<div class=\"related-row clearfix\">\n",
       "<div class=\"related related-1\">\n",
       "<a class=\"related-thumb\" href=\"/Where-to-Eat-in-Chicago-Right-Now/\" onclick=\"ga('send',  'event', 'Refer clicks', 'Related (photo), slot ' + 1, '/Where-to-Eat-in-Chicago-Right-Now/');\" style=\"background-image: url('/images/cache/cache_4/cache_a/cache_b/C201908-T-Hot-List-preview-bfd4dba4.jpeg?ver=1564612736&amp;aspectratio=1.5'); background-size: cover;\"> </a>\n",
       "<div class=\"content\">\n",
       "<h2><a href=\"/Where-to-Eat-in-Chicago-Right-Now/\" onclick=\"ga('send',  'event', 'Refer clicks', 'Related (head), slot ' + 1, '/Where-to-Eat-in-Chicago-Right-Now/');\">The 10 Hottest Restaurants in Chicago Right Now</a></h2>\n",
       "<p class=\"time\">5 days ago</p>\n",
       "</div><!-- /.content -->\n",
       "</div><!-- /.related -->\n",
       "<div class=\"related related-2 related-nativo\">\n",
       "<a class=\"related-thumb\" href=\"/dining-drinking/July-2019/Mindy-Segal-Is-Opening-a-Burger-Pop-Up-at-Revival-Food-Hall/\" onclick=\"ga('send',  'event', 'Refer clicks', 'Related (photo), slot ' + 2, '/dining-drinking/July-2019/Mindy-Segal-Is-Opening-a-Burger-Pop-Up-at-Revival-Food-Hall/');\" style=\"background-image: url('/images/cache/cache_0/cache_b/cache_f/Hot-Chocolate-burger-606d0fb0.jpeg?ver=1564520021&amp;aspectratio=1.5'); background-size: cover;\"> </a>\n",
       "<div class=\"content\">\n",
       "<h2><a href=\"/dining-drinking/July-2019/Mindy-Segal-Is-Opening-a-Burger-Pop-Up-at-Revival-Food-Hall/\" onclick=\"ga('send',  'event', 'Refer clicks', 'Related (head), slot ' + 2, '/dining-drinking/July-2019/Mindy-Segal-Is-Opening-a-Burger-Pop-Up-at-Revival-Food-Hall/');\">Mindy Segal Is Opening a Burger Pop-Up at Revival Food Hall</a></h2>\n",
       "<p class=\"time\">6 days ago</p>\n",
       "</div><!-- /.content -->\n",
       "</div><!-- /.related -->\n",
       "</div><!-- /.related-row -->\n",
       "<div class=\"related-row clearfix\">\n",
       "<div class=\"related related-3\">\n",
       "<a class=\"related-thumb\" href=\"/dining-drinking/July-2019/Cheese/\" onclick=\"ga('send',  'event', 'Refer clicks', 'Related (photo), slot ' + 3, '/dining-drinking/July-2019/Cheese/');\" style=\"background-image: url('/images/cache/cache_2/cache_8/cache_f/thumb2-7a8d9f82.jpeg?ver=1564516168&amp;aspectratio=1.7760416666667'); background-size: cover;\"> </a>\n",
       "<div class=\"content\">\n",
       "<h2><a href=\"/dining-drinking/July-2019/Cheese/\" onclick=\"ga('send',  'event', 'Refer clicks', 'Related (head), slot ' + 3, '/dining-drinking/July-2019/Cheese/');\">Just a Bunch of Cheese</a></h2>\n",
       "<p class=\"time\">6 days ago</p>\n",
       "</div><!-- /.content -->\n",
       "</div><!-- /.related -->\n",
       "<div class=\"related related-4\">\n",
       "<a class=\"related-thumb\" href=\"/Chicago-Magazine/August-2019/Nick-Kokonas/\" onclick=\"ga('send',  'event', 'Refer clicks', 'Related (photo), slot ' + 4, '/Chicago-Magazine/August-2019/Nick-Kokonas/');\" style=\"background-image: url('/images/cache/cache_4/cache_4/cache_b/C201908-Nick-Kokonas-topper-bc567b44.jpeg?ver=1564491529&amp;aspectratio=1.4583333333333'); background-size: cover;\"> </a>\n",
       "<div class=\"content\">\n",
       "<h2><a href=\"/Chicago-Magazine/August-2019/Nick-Kokonas/\" onclick=\"ga('send',  'event', 'Refer clicks', 'Related (head), slot ' + 4, '/Chicago-Magazine/August-2019/Nick-Kokonas/');\">Nick Kokonas Has Some Enemies</a></h2>\n",
       "<p class=\"time\">1 week ago</p>\n",
       "</div><!-- /.content -->\n",
       "</div><!-- /.related -->\n",
       "</div><!-- /.related-row -->\n",
       "</section>\n",
       "<!-- End Related Articles -->\n",
       "<div id=\"comment\" style=\"clear: both; height: 1px;\"></div>\n",
       "<a class=\"edit_from_site\" content_id=\"comments-disqus\" href=\"#\" media_id=\"83\">Edit Module</a><div class=\"comments-block\" id=\"commentFormContainer\">\n",
       "<h5 class=\"add-comment\">Submit your comment</h5>\n",
       "<p class=\"comments-disclaimer\">Comments  are moderated. We review them in an effort to remove foul language, commercial messages, abuse, and irrelevancies.</p>\n",
       "<div id=\"disqus_thread\" style=\"max-width: 600px;\"></div>\n",
       "<script type=\"text/javascript\">\n",
       "</script>\n",
       "<noscript>Enable JavaScript to view the <a href=\"http://disqus.com/?ref_noscript\">comments powered by Disqus.</a></noscript>\n",
       "</div>\n",
       "</div>\n",
       "<!-- Begin Sidebar -->\n",
       "<aside class=\"article long clearfix\">\n",
       "<div class=\"tablet-sidebar-left\">\n",
       "<a class=\"edit_from_site\" content_id=\"widget-marketplace-sponsor\" href=\"#\" media_id=\"83\">Edit Module</a>\n",
       "<style>\n",
       "\n",
       ".btn-widget-small {\n",
       " margin-bottom: 5px;}\n",
       "\n",
       ".amp {\n",
       "color: white;\n",
       "webkit-transition: none .2s ease; \n",
       "}\n",
       "\n",
       "ul.menu {\n",
       "background: black;\n",
       "   position:absolute;\n",
       "   /*height: 0px;*/\n",
       "   visibility: hidden;\n",
       "   margin-top: 0px;\n",
       "  background-color: black;\n",
       "  width: 300px;\n",
       "  padding: 0px 0px 10px;\n",
       "z-index: 9999999;\n",
       "}\n",
       "\n",
       "ul.menu li a {\n",
       "   font-size: .75em;\n",
       "   font-style: italic;\n",
       "   text-align:center;\n",
       "}\n",
       "#btn-sponsored-features {\n",
       "position: relative;\n",
       "}\n",
       "\n",
       "#btn-sponsored-features:hover .menu {\n",
       "  /*position: relative;*/\n",
       "  visibility: visible;\n",
       "\n",
       "  /*height: 80%;*/\n",
       "\n",
       "}\n",
       "\n",
       "ul.menu a {\n",
       "-webkit-transition: none;-moz-transition:none;transition:none;\n",
       "}\n",
       "#marketing-widget {\n",
       "margin-bottom: 20px;\n",
       "}\n",
       "</style>\n",
       "<div id=\"marketing-widget\">\n",
       "<div class=\"btn-widget-small btn-widget-small-reverse\">\n",
       "<a href=\"/marketplace\" onclick=\"ga('send',  'event','M&amp;C widget', 'Marketplace');\" style=\"display: inline-block; margin-right: 2px;\">Marketplace</a>\n",
       "</div>\n",
       "<div class=\"btn-widget-small btn-widget-small-reverse\">\n",
       "<a href=\"/Chicago-Magazine/Promotion/Events-and-Party-Pix/\" onclick=\"ga('send',  'event','M&amp;C widget', 'Events and Party Pix');\" style=\"display: inline-block; margin-right: 2px;\">Events <span class=\"new-amp\">&amp;</span> Party Pix</a>\n",
       "</div>\n",
       "<div class=\"btn-widget-small btn-widget-small-reverse\" id=\"btn-sponsored-features\"><span>Resource Guide</span>\n",
       "<ul class=\"menu\">\n",
       "<li><a href=\"http://www.chicagomag.com/Chicago-Magazine/Promotion/Dental-Profiles/\" onclick=\"ga('send',  'event','M&amp;C widget', 'Dental Profiles');\">Dental Profiles</a></li>\n",
       "<li><a href=\"http://www.chicagomag.com/Chicago-Magazine/Promotion/Experience-Chicago-2018-2/\" onclick=\"ga('send',  'event','M&amp;C widget', 'Experience Chicago 2018');\">Experience Chicago</a></li>\n",
       "<li><a href=\"http://www.chicagomag.com/Chicago-Magazine/Promotion/Guide-to-Summer-Camps/\" onclick=\"ga('send',  'event','M&amp;C widget', '2019 Summer Camps');\">Guide to Summer Camps</a></li>\n",
       "<li><a href=\"http://www.chicagomag.com/Chicago-Magazine/Promotion/Give-Chicago-2018\" onclick=\"ga('send',  'event','M&amp;C widget', '2018 Give Chicago');\">Give Chicago</a></li>\n",
       "<li><a href=\"http://www.chicagomag.com/Chicago-Magazine/Promotion/2019-Go-West/\" onclick=\"ga('send',  'event','M&amp;C widget', '2018 Go West');\">Go West</a></li>\n",
       "<li><a href=\"http://www.chicagomag.com/Chicago-Magazine/Promotion/Make-it-Lincoln-Park-2018/\" onclick=\"ga('send',  'event','M&amp;C widget', 'Make It Lincoln Park');\">Make it Lincoln Park</a></li>\n",
       "<li><a href=\"http://www.chicagomag.com/Chicago-Magazine/Promotion/Prime-of-Your-Life-2018/\" onclick=\"ga('send',  'event','M&amp;C widget', 'Prime of Your Life');\">Prime of Your Life</a></li>\n",
       "<li><a href=\"http://www.chicagomag.com/Chicago-Magazine/Promotion/Professional-Profiles/\" onclick=\"ga('send',  'event','M&amp;C widget', 'Professional Profiles');\">Professional Profiles</a></li>\n",
       "<li><a href=\"/Chicago-Magazine/Promotion/School-Open-House-Guide-2018/\" onclick=\"ga('send',  'event','M&amp;C widget', 'School Open House Guide');\">School Open House Guide</a></li>\n",
       "</ul>\n",
       "</div>\n",
       "</div>\n",
       "<a class=\"edit_from_site\" content_id=\"cube-1\" href=\"#\" media_id=\"83\">Edit Module</a>\n",
       "<div class=\"ad sq\">\n",
       "<h2>Advertisement</h2>\n",
       "<div id=\"div-gpt-ad-cube-1\" style=\"height: 250px; width: 300px;\"></div>\n",
       "<script type=\"text/javascript\">\n",
       "googletag.cmd.push(function() {\n",
       "\t\tgoogletag.display('div-gpt-ad-cube-1');\n",
       "});\n",
       "\t</script>\n",
       "</div>\n",
       "<a class=\"edit_from_site\" content_id=\"cube-3\" href=\"#\" media_id=\"83\">Edit Module</a>\n",
       "<div class=\"ad sq\">\n",
       "<h2>Advertisement</h2>\n",
       "<div id=\"div-gpt-ad-cube-3\" style=\"width: 300px; height: 250px; margin: 0 auto;\">\n",
       "<script>\n",
       "googletag.cmd.push(function() {\n",
       "    googletag.display('div-gpt-ad-cube-3');\n",
       "});\n",
       "  </script>\n",
       "</div>\n",
       "</div>\n",
       "</div>\n",
       "<div class=\"tablet-sidebar-right\">\n",
       "<form action=\"\" method=\"post\" name=\"newsletter\" onsubmit=\"validateNewsletter(); return false;\">\n",
       "<section class=\"newsletters widget\" id=\"category-specific-newsletter\">\n",
       "<h2 class=\"title red-border\" id=\"newsletterTitle\">Get Our Newsletters</h2>\n",
       "<div class=\"newsletter-reveal clearfix\" style=\"display: block;\">\n",
       "<p class=\"newsletter-description\"></p>\n",
       "<input class=\"clean white\" name=\"email\" placeholder=\"Your email address\" type=\"text\"/>\n",
       "<div class=\"form-error\" id=\"error-email\">\n",
       "          Please enter your email address\n",
       "        </div>\n",
       "<label class=\"checkbox\" for=\"over21\"> <input checked=\"\" id=\"over21\" name=\"over21\" type=\"checkbox\" value=\"yes\"/>Are you 21 or older?</label>\n",
       "<input name=\"source\" type=\"hidden\" value=\"/Chicago-Magazine/November-2012/Best-Sandwiches-in-Chicago-Old-Oak-Tap-BLT/\"/>\n",
       "<input id=\"newsletterChoice\" name=\"newsletter\" type=\"hidden\" value=\"\"/>\n",
       "<br style=\"clear:both;\"/>\n",
       "<button type=\"submit\">Subscribe</button>\n",
       "</div>\n",
       "</section>\n",
       "</form>\n",
       "<script>\n",
       "      var newsletterChoice = \"Dish\";\n",
       "  \n",
       "  \n",
       "\n",
       "    var cookieValue = getCookie('subscribe-'+newsletterChoice.replace(' ','-'));\n",
       "    if (cookieValue == 'true') {\n",
       "      jQuery('#category-specific-newsletter').hide();\n",
       "    }\n",
       "\n",
       "    else {\n",
       "      var description = '';\n",
       "      switch (newsletterChoice) {\n",
       "        case 'Home & Real Estate':\n",
       "          description = \"<span class='leadin'>Fridays:</span> Get the latest real estate news, keep an eye on the city’s most beautiful and unique listings, and learn about the best home & design events locally.\";\n",
       "          break;\n",
       "        case 'The 312':\n",
       "          description = \"<span class='leadin'>Tuesdays:</span> Get up to speed on the week’s most important stories and must-reads.\";\n",
       "          break;\n",
       "        case 'Chicago Guide':\n",
       "          description = \"<span class='leadin'>Wednesdays:</span> <em>Chicago</em>’s culture critics bring you a weekly list of the top five events worth your time and money.\";\n",
       "          break;\n",
       "        case 'Go Travel':\n",
       "          description = \"<span class='leadin'>Monthly:</span> Be the first to know about exclusive travel discounts and offers to help you plan your next big adventure, courtesy of our sponsors.\";\n",
       "          break;\n",
       "        case 'Dish':\n",
       "          description = \"<span class='leadin'>Wednesdays:</span> Want the latest news from the Chicagoland dining scene served up fresh in your email inbox? Sign up for the weekly newsletter and get inside access to the city’s most plugged-in food and dining coverage. \";\n",
       "          break;\n",
       "        case 'Sales Check':\n",
       "          description = \"<span class='leadin'>Thursdays:</span> Hear about the great shopping experiences in the Chicago area, plus the latest news about hot store openings, sales, trends, and local retail news. Shop-a-holic? We know just how you feel. \";\n",
       "          break;\n",
       "        case 'VIP Newsletter':\n",
       "          description = \"<span class='leadin'>Mondays, Wednesdays, and Fridays: </span><em>Chicago</em> magazine hosts various events throughout the year. Sign up and join the party!\";\n",
       "          break;\n",
       "        case 'Special Offers':\n",
       "          description = 'Receive special offers and discounts from <em>Chicago</em> magazine’s selected partners.';\n",
       "          break;\n",
       "        case 'Health & Wellness':\n",
       "          description = \"<span class='leadin'>Third Mondays: </span>The top local stories in health care innovation, nutrition, exercise, wellness, and more—plus, local classes and workshops worth attending. Our editors will bring you the latest on how to live life, well.\";\n",
       "          break;\n",
       "        case 'Select all':\n",
       "          description = 'Subscribe to <em>Chicago Guide</em>, <em>Chicago Travel</em>, <em>Dish</em>, <em>Health & Wellness</em>, <em>Sales Check</em>, <em>Home & Real Estate</em>, <em>VIP Newsletter</em>, and <em>Special Offers</em>.'\n",
       "      }\n",
       "\n",
       "\n",
       "      jQuery('.newsletter-description').html(description);\n",
       "      jQuery('.newsletter-reveal').slideDown();\n",
       "      jQuery('#newsletterChoice').val(newsletterChoice);\n",
       "      jQuery('#newsletterTitle').html('Subscribe to ' + newsletterChoice);\n",
       "    }\n",
       "\n",
       "</script>\n",
       "<div class=\"lazyload\" data-url=\"/lazyloads/most-popular/\" id=\"lazy-popular\"></div>\n",
       "<div id=\"fixie-side-position-finder\">\n",
       "<div class=\"clearfix\" id=\"fixie-side\">\n",
       "<a class=\"edit_from_site\" content_id=\"cube-2\" href=\"#\" media_id=\"83\">Edit Module</a>\n",
       "<div class=\"ad sq\">\n",
       "<h2>Advertisement</h2>\n",
       "<div id=\"div-gpt-ad-cube-2\" style=\"width: 300px; height: 250px; margin: 0 auto;\">\n",
       "<script>\n",
       "googletag.cmd.push(function() {\n",
       "    googletag.display('div-gpt-ad-cube-2');\n",
       "});\n",
       "  </script>\n",
       "</div>\n",
       "</div>\n",
       "<script>\n",
       "          // Make the fixed slot refresh every 2 minutes (on desktops; ad is not fixed elsewhere)\n",
       "          setInterval(function(){\n",
       "            if (jQuery('#fixie-side').css('position') == 'fixed') {\n",
       "              googletag.pubads().refresh([cube2]);\n",
       "              }\n",
       "            }, 120000);\n",
       "        </script>\n",
       "<a class=\"edit_from_site\" content_id=\"widget-current-issue\" href=\"#\" media_id=\"83\">Edit Module</a>\n",
       "<section class=\"subscribe widget\">\n",
       "<a class=\"button\" href=\"javascript:void(0);\"><span class=\"title\">Subscribe</span><span class=\"plus\">+</span><span class=\"minus\">-</span></a>\n",
       "<div class=\"issue\">\n",
       "<a href=\"/Chicago-Magazine/August-2019/\" onclick=\"ga('send',  'event', 'Current issue widget', 'Current issue');\"><img alt=\"Current issue of Chicago magazine\" height=\"145\" src=\"/images/cache/cache_a/cache_6/cache_b/CMAG0819-37f2bb6a.jpeg?ver=1564612813&amp;aspectratio=0.75862068965517\" width=\"110\"/></a>\n",
       "<a class=\"btn\" href=\"/subscribe\" onclick=\"ga('send',  'event', 'Current issue widget', 'Subscribe (red button)');\">Subscribe</a>\n",
       "</div>\n",
       "<ul>\n",
       "<li>\n",
       "<a href=\"/subscribe\" onclick=\"ga('send',  'event', 'Current issue widget', 'Subscribe');\">\n",
       "<span class=\"lead\"><span class=\"red\">Subscribe</span> to the</span>\n",
       "<span class=\"title\">Print &amp; Tablet Edition</span>\n",
       "</a>\n",
       "</li>\n",
       "<li>\n",
       "<a href=\"http://www.chicagomag.com/digitaledition\" onclick=\"ga('send',  'event', 'Current issue widget', 'Digital edition');\">\n",
       "<span class=\"lead\"><span class=\"red\">Subscribe</span> to the</span>\n",
       "<span class=\"title\">Digital Edition</span>\n",
       "</a>\n",
       "</li>\n",
       "<li>\n",
       "<a class=\"ipad\" href=\"/ipad\" onclick=\"ga('send',  'event', 'Current issue widget', 'iPad');\">\n",
       "<span class=\"lead\"><span class=\"red\">Download</span> our tablet app for</span>\n",
       "<span class=\"title\">iPad</span>\n",
       "</a>\n",
       "<a class=\"android\" href=\"/android\" onclick=\"ga('send',  'event', 'Current issue widget', 'Android');\">\n",
       "<span class=\"title\">Android</span>\n",
       "</a>\n",
       "</li>\n",
       "<li>\n",
       "<a class=\"single\" href=\"/single-issues\" onclick=\"ga('send',  'event', 'Current issue widget', 'Single Issues');\">\n",
       "<span class=\"lead\"><span class=\"red\">Purchase</span> copies of</span>\n",
       "<span class=\"title\">Single Issues</span>\n",
       "</a>\n",
       "<a class=\"gift\" href=\"/gifts\" onclick=\"ga('send',  'event', 'Current issue widget', 'Gift');\">Give a <span class=\"red\">gift</span> subscription</a>\n",
       "</li>\n",
       "</ul>\n",
       "</section>\n",
       "</div>\n",
       "</div>\n",
       "</div>\n",
       "</aside>\n",
       "<!-- End Sidebar -->\n",
       "</div> <!-- End .content-and-sidebar -->\n",
       "</article>\n",
       "<!-- End Main Article Container -->\n",
       "</div><!--- End Page -->\n",
       "<a class=\"edit_from_site\" content_id=\"leaderboard-2\" href=\"#\" media_id=\"83\">Edit Module</a>\n",
       "<style type=\"text/css\">\n",
       "      @media (max-width:735px) {\n",
       "    #div-gpt-ad-leaderboard-2 {\n",
       "          display:none !important;\n",
       "        }\n",
       "   }\n",
       "</style>\n",
       "<div class=\"ad ban\" id=\"div-gpt-ad-leaderboard-2\">\n",
       "<script type=\"text/javascript\">\n",
       "if (document.documentElement.clientWidth > 735) {\n",
       "googletag.cmd.push(function() {\n",
       "    googletag.display('div-gpt-ad-leaderboard-2');\n",
       "});\n",
       "}\n",
       "  </script>\n",
       "</div>\n",
       "</div><!-- End Content Wrap -->\n",
       "<div id=\"div-out-of-page\">\n",
       "<script>\n",
       "  googletag.cmd.push(function() {\n",
       "    googletag.display('div-out-of-page');\n",
       "  });\n",
       "  </script>\n",
       "</div>\n",
       "<script>(function(d, s, id) {\n",
       "  var js, fjs = d.getElementsByTagName(s)[0];\n",
       "  if (d.getElementById(id)) return;\n",
       "  js = d.createElement(s); js.id = id;\n",
       "  js.src = \"//connect.facebook.net/en_US/all.js#xfbml=1&appId=432224116825361\";\n",
       "  fjs.parentNode.insertBefore(js, fjs);\n",
       "}(document, 'script', 'facebook-jssdk'));</script>\n",
       "<!-- LSC tracking pixel -->\n",
       "<script>\n",
       "    document.write('<script id=\"tbw_pixel\" type=\"text/javascript\" src=\"//d26x5ounzdjojj.cloudfront.net/tbw/tbw_analytics_v1.0.js?' + (new Date()).getHours() + '\" onload=\"tbw_parse(this);\" tbw_site_id=\"Ldd6b4994ab6844a0\" tbw_segment=\"Retargeting\" defer><\\/script>');\n",
       "</script>\n",
       "<!-- fix for gallery height bug -->\n",
       "<script>\n",
       "jQuery( document ).ready(function() {\n",
       "  jQuery('.photoset-grid-basic .photoset-row').css( \"height\", \"initial\" );\n",
       "});\n",
       "</script>\n",
       "<!-- force removal of bottom nav in gallery view -->\n",
       "<style>\n",
       "body.gallery.no-nav aside.story-nav-aside {\n",
       "  display: none !important;\n",
       "}\n",
       "</style>\n",
       "<footer class=\"page-footer\">\n",
       "<nav>\n",
       "<a class=\"logo background-logo-svg\" href=\"/\" onclick=\"ga('send', 'event', 'Global footer', 'Logo to home');\">Chicago magazine</a>\n",
       "<select class=\"clean wide nav\" id=\"page-nav-mobile\" onchange=\"location = this.options[this.selectedIndex].value;\">\n",
       "<option value=\"/Chicago-Magazine/Advertise\">Advertise</option>\n",
       "<option value=\"/Chicago-Magazine/Contact-Us\">Contact Us</option>\n",
       "<option value=\"/Chicago-Magazine/Classifieds/\">Marketplace</option>\n",
       "<option value=\"http://www.tronc.com/privacy-policy/\">Privacy &amp; Terms (Updated)</option>\n",
       "<option value=\"/Chicago-Magazine/archive-index-test\">Archive</option>\n",
       "<option value=\"/customerservice\">Customer Service</option>\n",
       "<option value=\"/newsletters\">Newsletters</option>\n",
       "<option value=\"/subscribe\">Subscribe</option>\n",
       "</select>\n",
       "<section class=\"links\">\n",
       "<ul>\n",
       "<li><a href=\"/Chicago-Magazine/Advertise\" onclick=\"ga('send', 'event','Global footer', 'Advertise');\">Advertise</a></li>\n",
       "<li><a href=\"/Chicago-Magazine/Contact-Us\" onclick=\"ga('send', 'event','Global footer', 'Contact us');\">Contact Us</a></li>\n",
       "<li><a href=\"/Chicago-Magazine/Classifieds/\" onclick=\"ga('send', 'event','Global footer', 'Marketplace');\">Marketplace</a></li>\n",
       "<li><a href=\"http://www.tronc.com/privacy-policy/\" onclick=\"ga('send', 'event','Global footer', 'Privacy');\">Privacy (Updated)</a></li>\n",
       "<li><a href=\"http://www.tronc.com/central-terms-of-service/\" onclick=\"ga('send', 'event','Global footer', 'Terms');\">Terms</a></li>\n",
       "</ul>\n",
       "<ul>\n",
       "<li><a href=\"/Chicago-Magazine/archive-index-test\" onclick=\"ga('send', 'event','Global footer', 'Archive');\">Archive</a></li>\n",
       "<li><a href=\"/customerservice\" onclick=\"ga('send', 'event','Global footer', 'Customer service');\">Customer Service</a></li>\n",
       "<li><a href=\"/newsletters\" onclick=\"ga('send', 'event','Global footer', 'Newsletters');\">Newsletters</a></li>\n",
       "<li><a href=\"/subscribe\" onclick=\"ga('send', 'event','Global footer', 'Subscribe');\">Subscribe</a></li>\n",
       "</ul>\n",
       "</section>\n",
       "<div class=\"credits\">\n",
       "<p class=\"copyright\">©<span id=\"copyright-year\"></span> <em>Chicago</em> magazine / A Chicago Tribune Media Group website</p>\n",
       "</div>\n",
       "</nav>\n",
       "</footer>\n",
       "<!--[if lt IE 9]>\n",
       "<script type=\"text/javascript\" language\"Javascript\">\n",
       "console.log('Mutha ucking IE8');\n",
       "jQuery('html').addClass('old-ie');\n",
       "</script>\n",
       "<![endif]-->\n",
       "<script>\n",
       "document.getElementById('copyright-year').innerHTML = new Date().getFullYear()\n",
       "</script>\n",
       "<!-- Chartbeat -->\n",
       "<script type=\"text/javascript\">\n",
       "var _sf_async_config={uid:3096,domain:\"chicagomag.com\"}; // ,useCanonical: true\n",
       "\n",
       "  _sf_async_config.sections = \"Dining & Drinking\";\n",
       "\n",
       "\n",
       "(function(){\n",
       "  function loadChartbeat() {\n",
       "    window._sf_endpt=(new Date()).getTime();\n",
       "    var e = document.createElement('script');\n",
       "    e.setAttribute('language', 'javascript');\n",
       "    e.setAttribute('type', 'text/javascript');\n",
       "    e.setAttribute('src',\n",
       "       ((\"https:\" == document.location.protocol) ? \"https://a248.e.akamai.net/chartbeat.download.akamai.com/102508/\" : \"http://static.chartbeat.com/\") +\n",
       "       \"js/chartbeat.js\");\n",
       "    document.body.appendChild(e);\n",
       "  }\n",
       "  var oldonload = window.onload;\n",
       "  window.onload = (typeof window.onload != 'function') ?\n",
       "     loadChartbeat : function() { oldonload(); loadChartbeat(); };\n",
       "})();\n",
       "</script>\n",
       "<!-- Google Custom Search Engine -->\n",
       "<script type=\"text/javascript\">\n",
       "  (function() {\n",
       "    var cx = '010330565828956611806:7mfjr5payok'; //PROD\n",
       "    // var cx = '012184964769571027538:4alkqopmlde'; // DEV\n",
       "    var gcse = document.createElement('script');\n",
       "    gcse.type = 'text/javascript';\n",
       "    gcse.async = true;\n",
       "    gcse.src = (document.location.protocol == 'https:' ? 'https:' : 'http:') +\n",
       "        '//www.google.com/cse/cse.js?cx=' + cx;\n",
       "    var s = document.getElementsByTagName('script')[0];\n",
       "    s.parentNode.insertBefore(gcse, s);\n",
       "  })();\n",
       "</script>\n",
       "<script src=\"https://www.sc.pages05.net/lp/static/js/iMAWebCookie.js?5d52baad-1411358527b-d7c8ec57ae636c7258d3eb0ef0e531f2&amp;h=www.pages05.net\" type=\"text/javascript\"></script>\n",
       "<!-- Disqus -->\n",
       "<!-- For Citi sponsorship (remove this conditional after Nov 2018) -->\n",
       "<!-- -->\n",
       "<script>\n",
       "  var disqus_shortname = 'chicagomag';\n",
       "  var disqus_identifier = '19495';\n",
       "  var disqus_title = '1. Old Oak Tap BLT';\n",
       "  var disqus_url = 'http://www.chicagomag.com/Chicago-Magazine/November-2012/Best-Sandwiches-in-Chicago-Old-Oak-Tap-BLT/';\n",
       "\n",
       "  /* * * DON'T EDIT BELOW THIS LINE * * */\n",
       "  (function() {\n",
       "      var dsq = document.createElement('script'); dsq.type = 'text/javascript'; dsq.async = true;\n",
       "      dsq.src = '//' + disqus_shortname + '.disqus.com/embed.js';\n",
       "      (document.getElementsByTagName('head')[0] || document.getElementsByTagName('body')[0]).appendChild(dsq);\n",
       "  })();\n",
       "\n",
       "  (function () {\n",
       "  var s = document.createElement('script'); s.async = true;\n",
       "  s.type = 'text/javascript';\n",
       "  s.src = 'http://' + disqus_shortname + '.disqus.com/count.js';\n",
       "  (document.getElementsByTagName('HEAD')[0] || document.getElementsByTagName('BODY')[0]).appendChild(s);\n",
       "  }());\n",
       "</script>\n",
       "<!-- -->\n",
       "<!-- Clean up the lame Rivista pagination -->\n",
       "<script type=\"text/javascript\">\n",
       "  var pb = jQuery('.page-break');\n",
       "  if (pb.length) {\n",
       "    var pagebreak = pb.html();\n",
       "    // Remove it from Page 1\n",
       "    if (pagebreak.substring(0,10) == \"(page 1 of\") {\n",
       "      pb.hide();\n",
       "    }\n",
       "    else if (pagebreak.substring(0,13) == \"<em>Page 1 of\") {\n",
       "       pb.hide();\n",
       "    }\n",
       "    else {\n",
       "      pagebreak = pagebreak.replace(\"(page\",\"<em>Page\");\n",
       "      pagebreak = pagebreak.replace(\")\",\"</em>\");\n",
       "      pb.html(pagebreak);\n",
       "      pb.css('display','inline-block');\n",
       "    }\n",
       "  }\n",
       "</script>\n",
       "<!--[if lt IE 9]>\n",
       "<script  type=\"text/javascript\" language=\"JavaScript\" src=\"/core/media/themes/Respond/js/respond.js?ver=1473876729\"></script>\n",
       "<![endif]-->\n",
       "<script language=\"JavaScript\" src=\"/core/media/js/base.js?ver=1473876728\" type=\"text/javascript\"></script>\n",
       "<script language=\"JavaScript\" src=\"/core/media/themes/Respond/js/bootstrap.min.js?ver=1473876729\" type=\"text/javascript\"></script>\n",
       "<script language=\"JavaScript\" src=\"//maps.googleapis.com/maps/api/js?v=3.exp&amp;sensor=false\" type=\"text/javascript\"></script>\n",
       "<script language=\"JavaScript\" src=\"/theme_overrides/Respond/js/interstitial.js?ver=1524154906\" type=\"text/javascript\"></script>\n",
       "<script language=\"JavaScript\" src=\"/theme_overrides/Respond/js/newsletter-subscribe.js?ver=1524850607\" type=\"text/javascript\"></script>\n",
       "<script language=\"JavaScript\" src=\"/theme_overrides/Respond/js/RivistaGoogleDFP.js?ver=1447178886\" type=\"text/javascript\"></script>\n",
       "<!-- godengo-monitor --></body>\n",
       "</html>"
      ]
     },
     "execution_count": 26,
     "metadata": {},
     "output_type": "execute_result"
    }
   ],
   "source": [
    "html = urlopen(df['URL'][0])\n",
    "soup_tmp = BeautifulSoup(html, \"html.parser\")\n",
    "soup_tmp"
   ]
  },
  {
   "cell_type": "code",
   "execution_count": 27,
   "metadata": {},
   "outputs": [
    {
     "name": "stdout",
     "output_type": "stream",
     "text": [
      "<p class=\"addy\">\n",
      "<em>$10. 2109 W. Chicago Ave., 773-772-0406, <a href=\"http://www.theoldoaktap.com/\">theoldoaktap.com</a></em></p>\n"
     ]
    }
   ],
   "source": [
    "print(soup_tmp.find('p', 'addy'))"
   ]
  },
  {
   "cell_type": "code",
   "execution_count": 28,
   "metadata": {},
   "outputs": [
    {
     "data": {
      "text/plain": [
       "'\\n$10. 2109 W. Chicago Ave., 773-772-0406, theoldoaktap.com'"
      ]
     },
     "execution_count": 28,
     "metadata": {},
     "output_type": "execute_result"
    }
   ],
   "source": [
    "price_tmp = soup_tmp.find('p', 'addy').get_text()\n",
    "price_tmp"
   ]
  },
  {
   "cell_type": "code",
   "execution_count": 29,
   "metadata": {},
   "outputs": [
    {
     "data": {
      "text/plain": [
       "['$10.', '2109', 'W.', 'Chicago', 'Ave.,', '773-772-0406,', 'theoldoaktap.com']"
      ]
     },
     "execution_count": 29,
     "metadata": {},
     "output_type": "execute_result"
    }
   ],
   "source": [
    "price_tmp.split()"
   ]
  },
  {
   "cell_type": "code",
   "execution_count": 30,
   "metadata": {},
   "outputs": [
    {
     "data": {
      "text/plain": [
       "'$10.'"
      ]
     },
     "execution_count": 30,
     "metadata": {},
     "output_type": "execute_result"
    }
   ],
   "source": [
    "price_tmp.split()[0]\n",
    "'$10.'"
   ]
  },
  {
   "cell_type": "code",
   "execution_count": 31,
   "metadata": {},
   "outputs": [
    {
     "data": {
      "text/plain": [
       "'$10'"
      ]
     },
     "execution_count": 31,
     "metadata": {},
     "output_type": "execute_result"
    }
   ],
   "source": [
    "price_tmp.split()[0][:-1]"
   ]
  },
  {
   "cell_type": "code",
   "execution_count": 32,
   "metadata": {},
   "outputs": [
    {
     "data": {
      "text/plain": [
       "'2109 W. Chicago Ave.,'"
      ]
     },
     "execution_count": 32,
     "metadata": {},
     "output_type": "execute_result"
    }
   ],
   "source": [
    "' '.join(price_tmp.split()[1:-2])"
   ]
  },
  {
   "cell_type": "code",
   "execution_count": 33,
   "metadata": {},
   "outputs": [
    {
     "data": {
      "text/plain": [
       "'2109 W. Chicago Ave.'"
      ]
     },
     "execution_count": 33,
     "metadata": {},
     "output_type": "execute_result"
    }
   ],
   "source": [
    "' '.join(price_tmp.split()[1:-2])[:-1]"
   ]
  },
  {
   "cell_type": "code",
   "execution_count": 35,
   "metadata": {},
   "outputs": [],
   "source": [
    "price = []\n",
    "address = []\n",
    "\n",
    "for n in df.index[:3]:\n",
    "    html = urlopen(df['URL'][n])\n",
    "    soup_tmp = BeautifulSoup(html, 'lxml')\n",
    "    \n",
    "    gettings = soup_tmp.find('p', 'addy').get_text()\n",
    "    \n",
    "    price.append(gettings.split()[0][:-1])\n",
    "    address.append(' '.join(gettings.split()[1:-2])[:-1])"
   ]
  },
  {
   "cell_type": "code",
   "execution_count": 36,
   "metadata": {},
   "outputs": [
    {
     "data": {
      "text/plain": [
       "['$10', '$9', '$9.50']"
      ]
     },
     "execution_count": 36,
     "metadata": {},
     "output_type": "execute_result"
    }
   ],
   "source": [
    "price"
   ]
  },
  {
   "cell_type": "code",
   "execution_count": 37,
   "metadata": {},
   "outputs": [
    {
     "data": {
      "text/plain": [
       "['2109 W. Chicago Ave.', '800 W. Randolph St.', '445 N. Clark St.']"
      ]
     },
     "execution_count": 37,
     "metadata": {},
     "output_type": "execute_result"
    }
   ],
   "source": [
    "address"
   ]
  },
  {
   "cell_type": "markdown",
   "metadata": {},
   "source": [
    "- 상태 진행바 적용"
   ]
  },
  {
   "cell_type": "code",
   "execution_count": 38,
   "metadata": {},
   "outputs": [
    {
     "data": {
      "application/vnd.jupyter.widget-view+json": {
       "model_id": "2643f1dc28f54990a516a9982df0d28a",
       "version_major": 2,
       "version_minor": 0
      },
      "text/plain": [
       "HBox(children=(IntProgress(value=0, max=50), HTML(value='')))"
      ]
     },
     "metadata": {},
     "output_type": "display_data"
    },
    {
     "name": "stdout",
     "output_type": "stream",
     "text": [
      "\n"
     ]
    }
   ],
   "source": [
    "price = []\n",
    "address = []\n",
    "\n",
    "for n in tqdm_notebook(df.index):\n",
    "    html = urlopen(df['URL'][n])\n",
    "    soup_tmp = BeautifulSoup(html, 'lxml')\n",
    "    \n",
    "    gettings = soup_tmp.find('p', 'addy').get_text()\n",
    "    \n",
    "    price.append(gettings.split()[0][:-1])\n",
    "    address.append(' '.join(gettings.split()[1:-2])[:-1])"
   ]
  },
  {
   "cell_type": "code",
   "execution_count": 39,
   "metadata": {},
   "outputs": [
    {
     "data": {
      "text/plain": [
       "['$10', '$9', '$9.50', '$9.40', '$10']"
      ]
     },
     "execution_count": 39,
     "metadata": {},
     "output_type": "execute_result"
    }
   ],
   "source": [
    "price[:5]"
   ]
  },
  {
   "cell_type": "code",
   "execution_count": 40,
   "metadata": {},
   "outputs": [
    {
     "data": {
      "text/plain": [
       "['2109 W. Chicago Ave.',\n",
       " '800 W. Randolph St.',\n",
       " '445 N. Clark St.',\n",
       " '914 Noyes St., Evanston',\n",
       " '825 W. Fulton Mkt.']"
      ]
     },
     "execution_count": 40,
     "metadata": {},
     "output_type": "execute_result"
    }
   ],
   "source": [
    "address[:5]"
   ]
  },
  {
   "cell_type": "code",
   "execution_count": 41,
   "metadata": {},
   "outputs": [
    {
     "data": {
      "text/html": [
       "<div>\n",
       "<style scoped>\n",
       "    .dataframe tbody tr th:only-of-type {\n",
       "        vertical-align: middle;\n",
       "    }\n",
       "\n",
       "    .dataframe tbody tr th {\n",
       "        vertical-align: top;\n",
       "    }\n",
       "\n",
       "    .dataframe thead th {\n",
       "        text-align: right;\n",
       "    }\n",
       "</style>\n",
       "<table border=\"1\" class=\"dataframe\">\n",
       "  <thead>\n",
       "    <tr style=\"text-align: right;\">\n",
       "      <th></th>\n",
       "      <th>Cafe</th>\n",
       "      <th>Menu</th>\n",
       "      <th>Price</th>\n",
       "      <th>Address</th>\n",
       "    </tr>\n",
       "    <tr>\n",
       "      <th>Rank</th>\n",
       "      <th></th>\n",
       "      <th></th>\n",
       "      <th></th>\n",
       "      <th></th>\n",
       "    </tr>\n",
       "  </thead>\n",
       "  <tbody>\n",
       "    <tr>\n",
       "      <th>1</th>\n",
       "      <td>Old Oak Tap</td>\n",
       "      <td>BLT</td>\n",
       "      <td>$10</td>\n",
       "      <td>2109 W. Chicago Ave.</td>\n",
       "    </tr>\n",
       "    <tr>\n",
       "      <th>2</th>\n",
       "      <td>Au Cheval</td>\n",
       "      <td>Fried Bologna</td>\n",
       "      <td>$9</td>\n",
       "      <td>800 W. Randolph St.</td>\n",
       "    </tr>\n",
       "    <tr>\n",
       "      <th>3</th>\n",
       "      <td>Xoco</td>\n",
       "      <td>Woodland Mushroom</td>\n",
       "      <td>$9.50</td>\n",
       "      <td>445 N. Clark St.</td>\n",
       "    </tr>\n",
       "    <tr>\n",
       "      <th>4</th>\n",
       "      <td>Al’s Deli</td>\n",
       "      <td>Roast Beef</td>\n",
       "      <td>$9.40</td>\n",
       "      <td>914 Noyes St., Evanston</td>\n",
       "    </tr>\n",
       "    <tr>\n",
       "      <th>5</th>\n",
       "      <td>Publican Quality Meats</td>\n",
       "      <td>PB&amp;L</td>\n",
       "      <td>$10</td>\n",
       "      <td>825 W. Fulton Mkt.</td>\n",
       "    </tr>\n",
       "  </tbody>\n",
       "</table>\n",
       "</div>"
      ],
      "text/plain": [
       "                        Cafe               Menu  Price  \\\n",
       "Rank                                                     \n",
       "1                Old Oak Tap                BLT    $10   \n",
       "2                  Au Cheval      Fried Bologna     $9   \n",
       "3                       Xoco  Woodland Mushroom  $9.50   \n",
       "4                  Al’s Deli         Roast Beef  $9.40   \n",
       "5     Publican Quality Meats               PB&L    $10   \n",
       "\n",
       "                      Address  \n",
       "Rank                           \n",
       "1        2109 W. Chicago Ave.  \n",
       "2         800 W. Randolph St.  \n",
       "3            445 N. Clark St.  \n",
       "4     914 Noyes St., Evanston  \n",
       "5          825 W. Fulton Mkt.  "
      ]
     },
     "execution_count": 41,
     "metadata": {},
     "output_type": "execute_result"
    }
   ],
   "source": [
    "df['Price'] = price\n",
    "df['Address'] = address\n",
    "\n",
    "df = df.loc[:, ['Rank', 'Cafe', 'Menu', 'Price', 'Address']]\n",
    "df.set_index('Rank', inplace=True)\n",
    "df.head()"
   ]
  },
  {
   "cell_type": "code",
   "execution_count": 42,
   "metadata": {},
   "outputs": [],
   "source": [
    "df.to_csv('data/03. best_sandwiches_list_chicago2.csv', sep=',', \n",
    "          encoding='UTF-8')"
   ]
  },
  {
   "cell_type": "markdown",
   "metadata": {},
   "source": [
    "## 3-8 맛집 위치를 지도에 표기하기"
   ]
  },
  {
   "cell_type": "code",
   "execution_count": 43,
   "metadata": {},
   "outputs": [],
   "source": [
    "import numpy as np\n",
    "import pandas as pd\n",
    "import folium\n",
    "import googlemaps"
   ]
  },
  {
   "cell_type": "code",
   "execution_count": 44,
   "metadata": {},
   "outputs": [],
   "source": [
    "gmaps_key = \"**************\" # 2장에서 획득한 자신의 key를 사용합니다.\n",
    "gmaps = googlemaps.Client(key=gmaps_key)"
   ]
  },
  {
   "cell_type": "code",
   "execution_count": 46,
   "metadata": {},
   "outputs": [
    {
     "data": {
      "application/vnd.jupyter.widget-view+json": {
       "model_id": "4d20411e779e448e858a620f0e57f06c",
       "version_major": 2,
       "version_minor": 0
      },
      "text/plain": [
       "HBox(children=(IntProgress(value=0, max=50), HTML(value='')))"
      ]
     },
     "metadata": {},
     "output_type": "display_data"
    },
    {
     "name": "stdout",
     "output_type": "stream",
     "text": [
      "\n"
     ]
    }
   ],
   "source": [
    "lat = []\n",
    "lng = []\n",
    "\n",
    "for n in tqdm_notebook(df.index):\n",
    "    if df['Address'][n] != 'Multiple':\n",
    "        target_name = df['Address'][n]+', '+'Chicago'\n",
    "        gmaps_output = gmaps.geocode(target_name)\n",
    "        location_output = gmaps_output[0].get('geometry')\n",
    "        lat.append(location_output['location']['lat'])\n",
    "        lng.append(location_output['location']['lng'])\n",
    "    else:\n",
    "        lat.append(np.nan)\n",
    "        lng.append(np.nan)"
   ]
  },
  {
   "cell_type": "code",
   "execution_count": 47,
   "metadata": {},
   "outputs": [
    {
     "data": {
      "text/html": [
       "<div>\n",
       "<style scoped>\n",
       "    .dataframe tbody tr th:only-of-type {\n",
       "        vertical-align: middle;\n",
       "    }\n",
       "\n",
       "    .dataframe tbody tr th {\n",
       "        vertical-align: top;\n",
       "    }\n",
       "\n",
       "    .dataframe thead th {\n",
       "        text-align: right;\n",
       "    }\n",
       "</style>\n",
       "<table border=\"1\" class=\"dataframe\">\n",
       "  <thead>\n",
       "    <tr style=\"text-align: right;\">\n",
       "      <th></th>\n",
       "      <th>Cafe</th>\n",
       "      <th>Menu</th>\n",
       "      <th>Price</th>\n",
       "      <th>Address</th>\n",
       "      <th>lat</th>\n",
       "      <th>lng</th>\n",
       "    </tr>\n",
       "    <tr>\n",
       "      <th>Rank</th>\n",
       "      <th></th>\n",
       "      <th></th>\n",
       "      <th></th>\n",
       "      <th></th>\n",
       "      <th></th>\n",
       "      <th></th>\n",
       "    </tr>\n",
       "  </thead>\n",
       "  <tbody>\n",
       "    <tr>\n",
       "      <th>1</th>\n",
       "      <td>Old Oak Tap</td>\n",
       "      <td>BLT</td>\n",
       "      <td>$10</td>\n",
       "      <td>2109 W. Chicago Ave.</td>\n",
       "      <td>41.895605</td>\n",
       "      <td>-87.679961</td>\n",
       "    </tr>\n",
       "    <tr>\n",
       "      <th>2</th>\n",
       "      <td>Au Cheval</td>\n",
       "      <td>Fried Bologna</td>\n",
       "      <td>$9</td>\n",
       "      <td>800 W. Randolph St.</td>\n",
       "      <td>41.884658</td>\n",
       "      <td>-87.647667</td>\n",
       "    </tr>\n",
       "    <tr>\n",
       "      <th>3</th>\n",
       "      <td>Xoco</td>\n",
       "      <td>Woodland Mushroom</td>\n",
       "      <td>$9.50</td>\n",
       "      <td>445 N. Clark St.</td>\n",
       "      <td>41.890618</td>\n",
       "      <td>-87.630933</td>\n",
       "    </tr>\n",
       "    <tr>\n",
       "      <th>4</th>\n",
       "      <td>Al’s Deli</td>\n",
       "      <td>Roast Beef</td>\n",
       "      <td>$9.40</td>\n",
       "      <td>914 Noyes St., Evanston</td>\n",
       "      <td>42.058322</td>\n",
       "      <td>-87.683748</td>\n",
       "    </tr>\n",
       "    <tr>\n",
       "      <th>5</th>\n",
       "      <td>Publican Quality Meats</td>\n",
       "      <td>PB&amp;L</td>\n",
       "      <td>$10</td>\n",
       "      <td>825 W. Fulton Mkt.</td>\n",
       "      <td>41.886600</td>\n",
       "      <td>-87.648451</td>\n",
       "    </tr>\n",
       "  </tbody>\n",
       "</table>\n",
       "</div>"
      ],
      "text/plain": [
       "                        Cafe               Menu  Price  \\\n",
       "Rank                                                     \n",
       "1                Old Oak Tap                BLT    $10   \n",
       "2                  Au Cheval      Fried Bologna     $9   \n",
       "3                       Xoco  Woodland Mushroom  $9.50   \n",
       "4                  Al’s Deli         Roast Beef  $9.40   \n",
       "5     Publican Quality Meats               PB&L    $10   \n",
       "\n",
       "                      Address        lat        lng  \n",
       "Rank                                                 \n",
       "1        2109 W. Chicago Ave.  41.895605 -87.679961  \n",
       "2         800 W. Randolph St.  41.884658 -87.647667  \n",
       "3            445 N. Clark St.  41.890618 -87.630933  \n",
       "4     914 Noyes St., Evanston  42.058322 -87.683748  \n",
       "5          825 W. Fulton Mkt.  41.886600 -87.648451  "
      ]
     },
     "execution_count": 47,
     "metadata": {},
     "output_type": "execute_result"
    }
   ],
   "source": [
    "df['lat'] = lat\n",
    "df['lng'] = lng\n",
    "df.head()"
   ]
  },
  {
   "cell_type": "code",
   "execution_count": 48,
   "metadata": {},
   "outputs": [
    {
     "data": {
      "text/html": [
       "<div style=\"width:100%;\"><div style=\"position:relative;width:100%;height:0;padding-bottom:60%;\"><iframe src=\"data:text/html;charset=utf-8;base64,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\" style=\"position:absolute;width:100%;height:100%;left:0;top:0;border:none !important;\" allowfullscreen webkitallowfullscreen mozallowfullscreen></iframe></div></div>"
      ],
      "text/plain": [
       "<folium.folium.Map at 0xb06d160>"
      ]
     },
     "execution_count": 48,
     "metadata": {},
     "output_type": "execute_result"
    }
   ],
   "source": [
    "mapping = folium.Map(location=[df['lat'].mean(), df['lng'].mean()], \n",
    "                                      zoom_start=11)\n",
    "folium.Marker([df['lat'].mean(), df['lng'].mean()], \n",
    "                                      popup='center').add_to(mapping)\n",
    "mapping"
   ]
  },
  {
   "cell_type": "code",
   "execution_count": 49,
   "metadata": {},
   "outputs": [
    {
     "data": {
      "text/html": [
       "<div style=\"width:100%;\"><div style=\"position:relative;width:100%;height:0;padding-bottom:60%;\"><iframe src=\"data:text/html;charset=utf-8;base64,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\" style=\"position:absolute;width:100%;height:100%;left:0;top:0;border:none !important;\" allowfullscreen webkitallowfullscreen mozallowfullscreen></iframe></div></div>"
      ],
      "text/plain": [
       "<folium.folium.Map at 0xb06d9e8>"
      ]
     },
     "execution_count": 49,
     "metadata": {},
     "output_type": "execute_result"
    }
   ],
   "source": [
    "mapping = folium.Map(location=[df['lat'].mean(), df['lng'].mean()], \n",
    "                     zoom_start=11)\n",
    "\n",
    "for n in df.index:\n",
    "    if df['Address'][n] != 'Multiple':\n",
    "        folium.Marker([df['lat'][n], df['lng'][n]], \n",
    "                                      popup=df['Cafe'][n]).add_to(mapping)\n",
    "\n",
    "mapping"
   ]
  },
  {
   "cell_type": "code",
   "execution_count": 50,
   "metadata": {},
   "outputs": [],
   "source": [
    "df.to_csv('data/03. best_sandwiches_list_chicago3.csv', sep=',', \n",
    "          encoding='UTF-8')"
   ]
  },
  {
   "cell_type": "code",
   "execution_count": null,
   "metadata": {},
   "outputs": [],
   "source": []
  }
 ],
 "metadata": {
  "kernelspec": {
   "display_name": "Python 3",
   "language": "python",
   "name": "python3"
  },
  "language_info": {
   "codemirror_mode": {
    "name": "ipython",
    "version": 3
   },
   "file_extension": ".py",
   "mimetype": "text/x-python",
   "name": "python",
   "nbconvert_exporter": "python",
   "pygments_lexer": "ipython3",
   "version": "3.7.3"
  }
 },
 "nbformat": 4,
 "nbformat_minor": 2
}
